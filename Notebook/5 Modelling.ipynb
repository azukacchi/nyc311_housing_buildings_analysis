{
 "cells": [
  {
   "cell_type": "markdown",
   "metadata": {},
   "source": [
    "# MODELLING"
   ]
  },
  {
   "cell_type": "markdown",
   "metadata": {},
   "source": [
    "## Loading the data"
   ]
  },
  {
   "cell_type": "code",
   "execution_count": 1,
   "metadata": {},
   "outputs": [],
   "source": [
    "import pandas as pd \n",
    "import numpy as np \n",
    "import matplotlib.pyplot as plt \n",
    "import seaborn as sns\n",
    "import random\n",
    "# sns.set()"
   ]
  },
  {
   "cell_type": "code",
   "execution_count": 88,
   "metadata": {},
   "outputs": [],
   "source": [
    "from sklearn.model_selection import train_test_split, cross_val_score, StratifiedKFold, cross_validate, GridSearchCV, ShuffleSplit, learning_curve\n",
    "from sklearn.tree import DecisionTreeClassifier, plot_tree\n",
    "from sklearn.metrics import classification_report, plot_roc_curve, plot_precision_recall_curve, \\\n",
    "precision_recall_curve, plot_confusion_matrix, confusion_matrix, ConfusionMatrixDisplay, precision_score, f1_score, accuracy_score\n",
    "from imblearn.pipeline import Pipeline\n",
    "from sklearn.dummy import DummyClassifier\n",
    "from sklearn.linear_model import LogisticRegression, SGDClassifier\n",
    "from sklearn.svm import SVC\n",
    "from sklearn.ensemble import AdaBoostClassifier, GradientBoostingClassifier, RandomForestClassifier\n",
    "from imblearn.over_sampling import SMOTE, RandomOverSampler\n",
    "from imblearn.under_sampling import RandomUnderSampler, TomekLinks, EditedNearestNeighbours\n",
    "from imblearn.combine import SMOTETomek, SMOTEENN\n",
    "\n",
    "from sklearn.preprocessing import MinMaxScaler, RobustScaler, OneHotEncoder, OrdinalEncoder\n",
    "from xgboost.sklearn import XGBClassifier\n",
    "from sklearn.naive_bayes import GaussianNB\n",
    "from sklearn.feature_selection import RFE\n",
    "import category_encoders as ce\n",
    "from sklearn.compose import ColumnTransformer\n",
    "import pickle"
   ]
  },
  {
   "cell_type": "code",
   "execution_count": 3,
   "metadata": {},
   "outputs": [
    {
     "name": "stdout",
     "output_type": "stream",
     "text": [
      "Wall time: 5.05 s\n"
     ]
    }
   ],
   "source": [
    "%%time\n",
    "filename = \"df_comp_pluto_merged.csv\"\n",
    "df = pd.read_csv(filename,index_col=False)\n",
    "df = df[df.Borough_x == 'BRONX']\n",
    "df['Heat'] = np.where(df['Complaint Type'] == 'HEAT/HOT WATER', 1, 0)\n",
    "# df = "
   ]
  },
  {
   "cell_type": "code",
   "execution_count": 4,
   "metadata": {},
   "outputs": [],
   "source": [
    "def check_values(df):\n",
    "    col_desc = []\n",
    "    data = {\n",
    "        'features': [col for col in df.columns],\n",
    "        'data_type': [df[col].dtype for col in df.columns],\n",
    "        'nan_total': [df[col].isna().sum() for col in df.columns],\n",
    "        'nan_pct': [round(df[col].isna().sum()/len(df)*100,2) for col in df.columns],\n",
    "        'unique': [df[col].nunique() for col in df.columns],\n",
    "        'values_ex': [df[col].drop_duplicates().sample(df[col].nunique()).values if df[col].nunique() <= 5 else df[col].drop_duplicates().sample(2).values for col in df.columns]\n",
    "    }\n",
    "    return pd.DataFrame(data)"
   ]
  },
  {
   "cell_type": "code",
   "execution_count": 5,
   "metadata": {},
   "outputs": [
    {
     "data": {
      "text/html": [
       "<div>\n",
       "<style scoped>\n",
       "    .dataframe tbody tr th:only-of-type {\n",
       "        vertical-align: middle;\n",
       "    }\n",
       "\n",
       "    .dataframe tbody tr th {\n",
       "        vertical-align: top;\n",
       "    }\n",
       "\n",
       "    .dataframe thead th {\n",
       "        text-align: right;\n",
       "    }\n",
       "</style>\n",
       "<table border=\"1\" class=\"dataframe\">\n",
       "  <thead>\n",
       "    <tr style=\"text-align: right;\">\n",
       "      <th></th>\n",
       "      <th>features</th>\n",
       "      <th>data_type</th>\n",
       "      <th>nan_total</th>\n",
       "      <th>nan_pct</th>\n",
       "      <th>unique</th>\n",
       "      <th>values_ex</th>\n",
       "    </tr>\n",
       "  </thead>\n",
       "  <tbody>\n",
       "    <tr>\n",
       "      <th>0</th>\n",
       "      <td>Unnamed: 0</td>\n",
       "      <td>int64</td>\n",
       "      <td>0</td>\n",
       "      <td>0.0</td>\n",
       "      <td>58493</td>\n",
       "      <td>[19852, 175924]</td>\n",
       "    </tr>\n",
       "    <tr>\n",
       "      <th>1</th>\n",
       "      <td>Unique Key</td>\n",
       "      <td>float64</td>\n",
       "      <td>0</td>\n",
       "      <td>0.0</td>\n",
       "      <td>58462</td>\n",
       "      <td>[35830836.0, 36806346.0]</td>\n",
       "    </tr>\n",
       "    <tr>\n",
       "      <th>2</th>\n",
       "      <td>Created Date</td>\n",
       "      <td>object</td>\n",
       "      <td>0</td>\n",
       "      <td>0.0</td>\n",
       "      <td>53956</td>\n",
       "      <td>[2016-01-11 09:32:47, 2015-09-14 11:07:00]</td>\n",
       "    </tr>\n",
       "    <tr>\n",
       "      <th>3</th>\n",
       "      <td>Complaint Type</td>\n",
       "      <td>object</td>\n",
       "      <td>0</td>\n",
       "      <td>0.0</td>\n",
       "      <td>13</td>\n",
       "      <td>[ELECTRIC, WATER LEAK]</td>\n",
       "    </tr>\n",
       "    <tr>\n",
       "      <th>4</th>\n",
       "      <td>Incident Zip</td>\n",
       "      <td>float64</td>\n",
       "      <td>0</td>\n",
       "      <td>0.0</td>\n",
       "      <td>25</td>\n",
       "      <td>[10472.0, 10467.0]</td>\n",
       "    </tr>\n",
       "    <tr>\n",
       "      <th>5</th>\n",
       "      <td>Incident Address</td>\n",
       "      <td>object</td>\n",
       "      <td>0</td>\n",
       "      <td>0.0</td>\n",
       "      <td>8844</td>\n",
       "      <td>[286 HOLLYWOOD AVENUE, 751 BECK STREET]</td>\n",
       "    </tr>\n",
       "    <tr>\n",
       "      <th>6</th>\n",
       "      <td>Street Name</td>\n",
       "      <td>object</td>\n",
       "      <td>0</td>\n",
       "      <td>0.0</td>\n",
       "      <td>879</td>\n",
       "      <td>[BONNER PLACE, EAST  176 STREET]</td>\n",
       "    </tr>\n",
       "    <tr>\n",
       "      <th>7</th>\n",
       "      <td>City</td>\n",
       "      <td>object</td>\n",
       "      <td>0</td>\n",
       "      <td>0.0</td>\n",
       "      <td>1</td>\n",
       "      <td>[BRONX]</td>\n",
       "    </tr>\n",
       "    <tr>\n",
       "      <th>8</th>\n",
       "      <td>Status</td>\n",
       "      <td>object</td>\n",
       "      <td>0</td>\n",
       "      <td>0.0</td>\n",
       "      <td>3</td>\n",
       "      <td>[Open, Closed, In Progress]</td>\n",
       "    </tr>\n",
       "    <tr>\n",
       "      <th>9</th>\n",
       "      <td>Borough_x</td>\n",
       "      <td>object</td>\n",
       "      <td>0</td>\n",
       "      <td>0.0</td>\n",
       "      <td>1</td>\n",
       "      <td>[BRONX]</td>\n",
       "    </tr>\n",
       "    <tr>\n",
       "      <th>10</th>\n",
       "      <td>Latitude</td>\n",
       "      <td>float64</td>\n",
       "      <td>0</td>\n",
       "      <td>0.0</td>\n",
       "      <td>9434</td>\n",
       "      <td>[40.886186571320465, 40.806306785876615]</td>\n",
       "    </tr>\n",
       "    <tr>\n",
       "      <th>11</th>\n",
       "      <td>Longitude</td>\n",
       "      <td>float64</td>\n",
       "      <td>0</td>\n",
       "      <td>0.0</td>\n",
       "      <td>9434</td>\n",
       "      <td>[-73.84939892828028, -73.89736316584825]</td>\n",
       "    </tr>\n",
       "    <tr>\n",
       "      <th>12</th>\n",
       "      <td>hour</td>\n",
       "      <td>float64</td>\n",
       "      <td>0</td>\n",
       "      <td>0.0</td>\n",
       "      <td>24</td>\n",
       "      <td>[11.0, 5.0]</td>\n",
       "    </tr>\n",
       "    <tr>\n",
       "      <th>13</th>\n",
       "      <td>month</td>\n",
       "      <td>float64</td>\n",
       "      <td>0</td>\n",
       "      <td>0.0</td>\n",
       "      <td>12</td>\n",
       "      <td>[1.0, 12.0]</td>\n",
       "    </tr>\n",
       "    <tr>\n",
       "      <th>14</th>\n",
       "      <td>year</td>\n",
       "      <td>float64</td>\n",
       "      <td>0</td>\n",
       "      <td>0.0</td>\n",
       "      <td>6</td>\n",
       "      <td>[2015.0, 2016.0]</td>\n",
       "    </tr>\n",
       "    <tr>\n",
       "      <th>15</th>\n",
       "      <td>Borough_y</td>\n",
       "      <td>object</td>\n",
       "      <td>0</td>\n",
       "      <td>0.0</td>\n",
       "      <td>1</td>\n",
       "      <td>[BX]</td>\n",
       "    </tr>\n",
       "    <tr>\n",
       "      <th>16</th>\n",
       "      <td>ZipCode</td>\n",
       "      <td>float64</td>\n",
       "      <td>0</td>\n",
       "      <td>0.0</td>\n",
       "      <td>25</td>\n",
       "      <td>[10461.0, 10474.0]</td>\n",
       "    </tr>\n",
       "    <tr>\n",
       "      <th>17</th>\n",
       "      <td>Address</td>\n",
       "      <td>object</td>\n",
       "      <td>0</td>\n",
       "      <td>0.0</td>\n",
       "      <td>8844</td>\n",
       "      <td>[2474 MARION AVENUE, 3343 WEBSTER AVENUE]</td>\n",
       "    </tr>\n",
       "    <tr>\n",
       "      <th>18</th>\n",
       "      <td>LandUse</td>\n",
       "      <td>float64</td>\n",
       "      <td>0</td>\n",
       "      <td>0.0</td>\n",
       "      <td>10</td>\n",
       "      <td>[8.0, 6.0]</td>\n",
       "    </tr>\n",
       "    <tr>\n",
       "      <th>19</th>\n",
       "      <td>LotArea</td>\n",
       "      <td>int64</td>\n",
       "      <td>0</td>\n",
       "      <td>0.0</td>\n",
       "      <td>3827</td>\n",
       "      <td>[27469, 2925]</td>\n",
       "    </tr>\n",
       "    <tr>\n",
       "      <th>20</th>\n",
       "      <td>BldgArea</td>\n",
       "      <td>int64</td>\n",
       "      <td>0</td>\n",
       "      <td>0.0</td>\n",
       "      <td>4997</td>\n",
       "      <td>[31000, 42748]</td>\n",
       "    </tr>\n",
       "    <tr>\n",
       "      <th>21</th>\n",
       "      <td>ComArea</td>\n",
       "      <td>int64</td>\n",
       "      <td>0</td>\n",
       "      <td>0.0</td>\n",
       "      <td>733</td>\n",
       "      <td>[7048, 3970]</td>\n",
       "    </tr>\n",
       "    <tr>\n",
       "      <th>22</th>\n",
       "      <td>ResArea</td>\n",
       "      <td>int64</td>\n",
       "      <td>0</td>\n",
       "      <td>0.0</td>\n",
       "      <td>4892</td>\n",
       "      <td>[20095, 33205]</td>\n",
       "    </tr>\n",
       "    <tr>\n",
       "      <th>23</th>\n",
       "      <td>OfficeArea</td>\n",
       "      <td>int64</td>\n",
       "      <td>0</td>\n",
       "      <td>0.0</td>\n",
       "      <td>167</td>\n",
       "      <td>[95000, 270]</td>\n",
       "    </tr>\n",
       "    <tr>\n",
       "      <th>24</th>\n",
       "      <td>RetailArea</td>\n",
       "      <td>int64</td>\n",
       "      <td>0</td>\n",
       "      <td>0.0</td>\n",
       "      <td>472</td>\n",
       "      <td>[945, 2020]</td>\n",
       "    </tr>\n",
       "    <tr>\n",
       "      <th>25</th>\n",
       "      <td>GarageArea</td>\n",
       "      <td>int64</td>\n",
       "      <td>0</td>\n",
       "      <td>0.0</td>\n",
       "      <td>146</td>\n",
       "      <td>[82800, 6076]</td>\n",
       "    </tr>\n",
       "    <tr>\n",
       "      <th>26</th>\n",
       "      <td>StrgeArea</td>\n",
       "      <td>int64</td>\n",
       "      <td>0</td>\n",
       "      <td>0.0</td>\n",
       "      <td>27</td>\n",
       "      <td>[3000, 2184]</td>\n",
       "    </tr>\n",
       "    <tr>\n",
       "      <th>27</th>\n",
       "      <td>FactryArea</td>\n",
       "      <td>int64</td>\n",
       "      <td>0</td>\n",
       "      <td>0.0</td>\n",
       "      <td>4</td>\n",
       "      <td>[5965, 2630, 700, 0]</td>\n",
       "    </tr>\n",
       "    <tr>\n",
       "      <th>28</th>\n",
       "      <td>OtherArea</td>\n",
       "      <td>int64</td>\n",
       "      <td>0</td>\n",
       "      <td>0.0</td>\n",
       "      <td>158</td>\n",
       "      <td>[63100, 2200]</td>\n",
       "    </tr>\n",
       "    <tr>\n",
       "      <th>29</th>\n",
       "      <td>NumBldgs</td>\n",
       "      <td>int64</td>\n",
       "      <td>0</td>\n",
       "      <td>0.0</td>\n",
       "      <td>17</td>\n",
       "      <td>[9, 0]</td>\n",
       "    </tr>\n",
       "    <tr>\n",
       "      <th>30</th>\n",
       "      <td>NumFloors</td>\n",
       "      <td>float64</td>\n",
       "      <td>0</td>\n",
       "      <td>0.0</td>\n",
       "      <td>37</td>\n",
       "      <td>[1.0, 22.0]</td>\n",
       "    </tr>\n",
       "    <tr>\n",
       "      <th>31</th>\n",
       "      <td>UnitsTotal</td>\n",
       "      <td>int64</td>\n",
       "      <td>0</td>\n",
       "      <td>0.0</td>\n",
       "      <td>243</td>\n",
       "      <td>[200, 113]</td>\n",
       "    </tr>\n",
       "    <tr>\n",
       "      <th>32</th>\n",
       "      <td>BldgFront</td>\n",
       "      <td>float64</td>\n",
       "      <td>0</td>\n",
       "      <td>0.0</td>\n",
       "      <td>1024</td>\n",
       "      <td>[39.58, 24.73]</td>\n",
       "    </tr>\n",
       "    <tr>\n",
       "      <th>33</th>\n",
       "      <td>BldgDepth</td>\n",
       "      <td>float64</td>\n",
       "      <td>0</td>\n",
       "      <td>0.0</td>\n",
       "      <td>752</td>\n",
       "      <td>[160.0, 53.42]</td>\n",
       "    </tr>\n",
       "    <tr>\n",
       "      <th>34</th>\n",
       "      <td>LotType</td>\n",
       "      <td>float64</td>\n",
       "      <td>0</td>\n",
       "      <td>0.0</td>\n",
       "      <td>7</td>\n",
       "      <td>[1.0, 3.0]</td>\n",
       "    </tr>\n",
       "    <tr>\n",
       "      <th>35</th>\n",
       "      <td>BsmtCode</td>\n",
       "      <td>float64</td>\n",
       "      <td>0</td>\n",
       "      <td>0.0</td>\n",
       "      <td>6</td>\n",
       "      <td>[3.0, 0.0]</td>\n",
       "    </tr>\n",
       "    <tr>\n",
       "      <th>36</th>\n",
       "      <td>AssessTot</td>\n",
       "      <td>int64</td>\n",
       "      <td>0</td>\n",
       "      <td>0.0</td>\n",
       "      <td>5158</td>\n",
       "      <td>[1598850, 324450]</td>\n",
       "    </tr>\n",
       "    <tr>\n",
       "      <th>37</th>\n",
       "      <td>YearBuilt</td>\n",
       "      <td>int64</td>\n",
       "      <td>0</td>\n",
       "      <td>0.0</td>\n",
       "      <td>122</td>\n",
       "      <td>[2003, 1953]</td>\n",
       "    </tr>\n",
       "    <tr>\n",
       "      <th>38</th>\n",
       "      <td>YearAlter1</td>\n",
       "      <td>int64</td>\n",
       "      <td>0</td>\n",
       "      <td>0.0</td>\n",
       "      <td>74</td>\n",
       "      <td>[1967, 2009]</td>\n",
       "    </tr>\n",
       "    <tr>\n",
       "      <th>39</th>\n",
       "      <td>AlterAge</td>\n",
       "      <td>float64</td>\n",
       "      <td>0</td>\n",
       "      <td>0.0</td>\n",
       "      <td>109</td>\n",
       "      <td>[20.0, 2005.0]</td>\n",
       "    </tr>\n",
       "    <tr>\n",
       "      <th>40</th>\n",
       "      <td>HEAT/HOT WATER_count</td>\n",
       "      <td>int64</td>\n",
       "      <td>0</td>\n",
       "      <td>0.0</td>\n",
       "      <td>25</td>\n",
       "      <td>[1815, 287]</td>\n",
       "    </tr>\n",
       "    <tr>\n",
       "      <th>41</th>\n",
       "      <td>UNSANITARY CONDITION_count</td>\n",
       "      <td>int64</td>\n",
       "      <td>0</td>\n",
       "      <td>0.0</td>\n",
       "      <td>24</td>\n",
       "      <td>[692, 439]</td>\n",
       "    </tr>\n",
       "    <tr>\n",
       "      <th>42</th>\n",
       "      <td>PAINT/PLASTER_count</td>\n",
       "      <td>int64</td>\n",
       "      <td>0</td>\n",
       "      <td>0.0</td>\n",
       "      <td>25</td>\n",
       "      <td>[259, 118]</td>\n",
       "    </tr>\n",
       "    <tr>\n",
       "      <th>43</th>\n",
       "      <td>PLUMBING_count</td>\n",
       "      <td>int64</td>\n",
       "      <td>0</td>\n",
       "      <td>0.0</td>\n",
       "      <td>25</td>\n",
       "      <td>[5, 443]</td>\n",
       "    </tr>\n",
       "    <tr>\n",
       "      <th>44</th>\n",
       "      <td>DOOR/WINDOW_count</td>\n",
       "      <td>int64</td>\n",
       "      <td>0</td>\n",
       "      <td>0.0</td>\n",
       "      <td>24</td>\n",
       "      <td>[107, 386]</td>\n",
       "    </tr>\n",
       "    <tr>\n",
       "      <th>45</th>\n",
       "      <td>WATER LEAK_count</td>\n",
       "      <td>int64</td>\n",
       "      <td>0</td>\n",
       "      <td>0.0</td>\n",
       "      <td>25</td>\n",
       "      <td>[54, 275]</td>\n",
       "    </tr>\n",
       "    <tr>\n",
       "      <th>46</th>\n",
       "      <td>ELECTRIC_count</td>\n",
       "      <td>int64</td>\n",
       "      <td>0</td>\n",
       "      <td>0.0</td>\n",
       "      <td>24</td>\n",
       "      <td>[21, 192]</td>\n",
       "    </tr>\n",
       "    <tr>\n",
       "      <th>47</th>\n",
       "      <td>GENERAL_count</td>\n",
       "      <td>int64</td>\n",
       "      <td>0</td>\n",
       "      <td>0.0</td>\n",
       "      <td>24</td>\n",
       "      <td>[178, 168]</td>\n",
       "    </tr>\n",
       "    <tr>\n",
       "      <th>48</th>\n",
       "      <td>FLOORING/STAIRS_count</td>\n",
       "      <td>int64</td>\n",
       "      <td>0</td>\n",
       "      <td>0.0</td>\n",
       "      <td>25</td>\n",
       "      <td>[213, 14]</td>\n",
       "    </tr>\n",
       "    <tr>\n",
       "      <th>49</th>\n",
       "      <td>APPLIANCE_count</td>\n",
       "      <td>int64</td>\n",
       "      <td>0</td>\n",
       "      <td>0.0</td>\n",
       "      <td>23</td>\n",
       "      <td>[61, 93]</td>\n",
       "    </tr>\n",
       "    <tr>\n",
       "      <th>50</th>\n",
       "      <td>Heat</td>\n",
       "      <td>int32</td>\n",
       "      <td>0</td>\n",
       "      <td>0.0</td>\n",
       "      <td>2</td>\n",
       "      <td>[1, 0]</td>\n",
       "    </tr>\n",
       "  </tbody>\n",
       "</table>\n",
       "</div>"
      ],
      "text/plain": [
       "                      features data_type  nan_total  nan_pct  unique  \\\n",
       "0                   Unnamed: 0     int64          0      0.0   58493   \n",
       "1                   Unique Key   float64          0      0.0   58462   \n",
       "2                 Created Date    object          0      0.0   53956   \n",
       "3               Complaint Type    object          0      0.0      13   \n",
       "4                 Incident Zip   float64          0      0.0      25   \n",
       "5             Incident Address    object          0      0.0    8844   \n",
       "6                  Street Name    object          0      0.0     879   \n",
       "7                         City    object          0      0.0       1   \n",
       "8                       Status    object          0      0.0       3   \n",
       "9                    Borough_x    object          0      0.0       1   \n",
       "10                    Latitude   float64          0      0.0    9434   \n",
       "11                   Longitude   float64          0      0.0    9434   \n",
       "12                        hour   float64          0      0.0      24   \n",
       "13                       month   float64          0      0.0      12   \n",
       "14                        year   float64          0      0.0       6   \n",
       "15                   Borough_y    object          0      0.0       1   \n",
       "16                     ZipCode   float64          0      0.0      25   \n",
       "17                     Address    object          0      0.0    8844   \n",
       "18                     LandUse   float64          0      0.0      10   \n",
       "19                     LotArea     int64          0      0.0    3827   \n",
       "20                    BldgArea     int64          0      0.0    4997   \n",
       "21                     ComArea     int64          0      0.0     733   \n",
       "22                     ResArea     int64          0      0.0    4892   \n",
       "23                  OfficeArea     int64          0      0.0     167   \n",
       "24                  RetailArea     int64          0      0.0     472   \n",
       "25                  GarageArea     int64          0      0.0     146   \n",
       "26                   StrgeArea     int64          0      0.0      27   \n",
       "27                  FactryArea     int64          0      0.0       4   \n",
       "28                   OtherArea     int64          0      0.0     158   \n",
       "29                    NumBldgs     int64          0      0.0      17   \n",
       "30                   NumFloors   float64          0      0.0      37   \n",
       "31                  UnitsTotal     int64          0      0.0     243   \n",
       "32                   BldgFront   float64          0      0.0    1024   \n",
       "33                   BldgDepth   float64          0      0.0     752   \n",
       "34                     LotType   float64          0      0.0       7   \n",
       "35                    BsmtCode   float64          0      0.0       6   \n",
       "36                   AssessTot     int64          0      0.0    5158   \n",
       "37                   YearBuilt     int64          0      0.0     122   \n",
       "38                  YearAlter1     int64          0      0.0      74   \n",
       "39                    AlterAge   float64          0      0.0     109   \n",
       "40        HEAT/HOT WATER_count     int64          0      0.0      25   \n",
       "41  UNSANITARY CONDITION_count     int64          0      0.0      24   \n",
       "42         PAINT/PLASTER_count     int64          0      0.0      25   \n",
       "43              PLUMBING_count     int64          0      0.0      25   \n",
       "44           DOOR/WINDOW_count     int64          0      0.0      24   \n",
       "45            WATER LEAK_count     int64          0      0.0      25   \n",
       "46              ELECTRIC_count     int64          0      0.0      24   \n",
       "47               GENERAL_count     int64          0      0.0      24   \n",
       "48       FLOORING/STAIRS_count     int64          0      0.0      25   \n",
       "49             APPLIANCE_count     int64          0      0.0      23   \n",
       "50                        Heat     int32          0      0.0       2   \n",
       "\n",
       "                                     values_ex  \n",
       "0                              [19852, 175924]  \n",
       "1                     [35830836.0, 36806346.0]  \n",
       "2   [2016-01-11 09:32:47, 2015-09-14 11:07:00]  \n",
       "3                       [ELECTRIC, WATER LEAK]  \n",
       "4                           [10472.0, 10467.0]  \n",
       "5      [286 HOLLYWOOD AVENUE, 751 BECK STREET]  \n",
       "6             [BONNER PLACE, EAST  176 STREET]  \n",
       "7                                      [BRONX]  \n",
       "8                  [Open, Closed, In Progress]  \n",
       "9                                      [BRONX]  \n",
       "10    [40.886186571320465, 40.806306785876615]  \n",
       "11    [-73.84939892828028, -73.89736316584825]  \n",
       "12                                 [11.0, 5.0]  \n",
       "13                                 [1.0, 12.0]  \n",
       "14                            [2015.0, 2016.0]  \n",
       "15                                        [BX]  \n",
       "16                          [10461.0, 10474.0]  \n",
       "17   [2474 MARION AVENUE, 3343 WEBSTER AVENUE]  \n",
       "18                                  [8.0, 6.0]  \n",
       "19                               [27469, 2925]  \n",
       "20                              [31000, 42748]  \n",
       "21                                [7048, 3970]  \n",
       "22                              [20095, 33205]  \n",
       "23                                [95000, 270]  \n",
       "24                                 [945, 2020]  \n",
       "25                               [82800, 6076]  \n",
       "26                                [3000, 2184]  \n",
       "27                        [5965, 2630, 700, 0]  \n",
       "28                               [63100, 2200]  \n",
       "29                                      [9, 0]  \n",
       "30                                 [1.0, 22.0]  \n",
       "31                                  [200, 113]  \n",
       "32                              [39.58, 24.73]  \n",
       "33                              [160.0, 53.42]  \n",
       "34                                  [1.0, 3.0]  \n",
       "35                                  [3.0, 0.0]  \n",
       "36                           [1598850, 324450]  \n",
       "37                                [2003, 1953]  \n",
       "38                                [1967, 2009]  \n",
       "39                              [20.0, 2005.0]  \n",
       "40                                 [1815, 287]  \n",
       "41                                  [692, 439]  \n",
       "42                                  [259, 118]  \n",
       "43                                    [5, 443]  \n",
       "44                                  [107, 386]  \n",
       "45                                   [54, 275]  \n",
       "46                                   [21, 192]  \n",
       "47                                  [178, 168]  \n",
       "48                                   [213, 14]  \n",
       "49                                    [61, 93]  \n",
       "50                                      [1, 0]  "
      ]
     },
     "execution_count": 5,
     "metadata": {},
     "output_type": "execute_result"
    }
   ],
   "source": [
    "check_values(df)"
   ]
  },
  {
   "cell_type": "code",
   "execution_count": 6,
   "metadata": {},
   "outputs": [
    {
     "data": {
      "text/plain": [
       "Index(['Unnamed: 0', 'Unique Key', 'Created Date', 'Complaint Type',\n",
       "       'Incident Zip', 'Incident Address', 'Street Name', 'City', 'Status',\n",
       "       'Borough_x', 'Latitude', 'Longitude', 'hour', 'month', 'year',\n",
       "       'Borough_y', 'ZipCode', 'Address', 'LandUse', 'LotArea', 'BldgArea',\n",
       "       'ComArea', 'ResArea', 'OfficeArea', 'RetailArea', 'GarageArea',\n",
       "       'StrgeArea', 'FactryArea', 'OtherArea', 'NumBldgs', 'NumFloors',\n",
       "       'UnitsTotal', 'BldgFront', 'BldgDepth', 'LotType', 'BsmtCode',\n",
       "       'AssessTot', 'YearBuilt', 'YearAlter1', 'AlterAge',\n",
       "       'HEAT/HOT WATER_count', 'UNSANITARY CONDITION_count',\n",
       "       'PAINT/PLASTER_count', 'PLUMBING_count', 'DOOR/WINDOW_count',\n",
       "       'WATER LEAK_count', 'ELECTRIC_count', 'GENERAL_count',\n",
       "       'FLOORING/STAIRS_count', 'APPLIANCE_count', 'Heat'],\n",
       "      dtype='object')"
      ]
     },
     "execution_count": 6,
     "metadata": {},
     "output_type": "execute_result"
    }
   ],
   "source": [
    "df.columns"
   ]
  },
  {
   "cell_type": "markdown",
   "metadata": {},
   "source": [
    "### Drop unneeded columns for modelling"
   ]
  },
  {
   "cell_type": "code",
   "execution_count": 7,
   "metadata": {},
   "outputs": [
    {
     "data": {
      "text/plain": [
       "(58493, 22)"
      ]
     },
     "execution_count": 7,
     "metadata": {},
     "output_type": "execute_result"
    }
   ],
   "source": [
    "df_train = df.drop(columns=['Unnamed: 0', 'Unique Key', 'Created Date', 'Complaint Type',\n",
    "       'Incident Zip', 'Incident Address', 'Street Name', 'City', 'Status',\n",
    "       'Borough_x', 'Latitude', 'Longitude','ZipCode', 'Borough_y', 'Address', 'YearBuilt', 'YearAlter1', 'BldgFront', 'BldgDepth',\n",
    "        'HEAT/HOT WATER_count', 'UNSANITARY CONDITION_count',\n",
    "       'PAINT/PLASTER_count', 'PLUMBING_count', 'DOOR/WINDOW_count',\n",
    "       'WATER LEAK_count', 'ELECTRIC_count', 'GENERAL_count',\n",
    "       'FLOORING/STAIRS_count', 'APPLIANCE_count'])\n",
    "df_train.shape"
   ]
  },
  {
   "cell_type": "code",
   "execution_count": 8,
   "metadata": {},
   "outputs": [
    {
     "data": {
      "text/plain": [
       "hour          float64\n",
       "month         float64\n",
       "year          float64\n",
       "LandUse       float64\n",
       "LotArea         int64\n",
       "BldgArea        int64\n",
       "ComArea         int64\n",
       "ResArea         int64\n",
       "OfficeArea      int64\n",
       "RetailArea      int64\n",
       "GarageArea      int64\n",
       "StrgeArea       int64\n",
       "FactryArea      int64\n",
       "OtherArea       int64\n",
       "NumBldgs        int64\n",
       "NumFloors     float64\n",
       "UnitsTotal      int64\n",
       "LotType       float64\n",
       "BsmtCode      float64\n",
       "AssessTot       int64\n",
       "AlterAge      float64\n",
       "Heat            int32\n",
       "dtype: object"
      ]
     },
     "execution_count": 8,
     "metadata": {},
     "output_type": "execute_result"
    }
   ],
   "source": [
    "df_train.dtypes"
   ]
  },
  {
   "cell_type": "markdown",
   "metadata": {},
   "source": [
    "## Checking Categorical Features"
   ]
  },
  {
   "cell_type": "markdown",
   "metadata": {},
   "source": [
    "### LandUse\n",
    "\n",
    "LandUse column is already encoded according to the following:\n",
    "\n",
    "| CODES | DECODES |\n",
    "|--- | --- |\n",
    "| 1 | One & Two Family Buildings |\n",
    "| 2 | Multi-Family Walk-Up Buildings |\n",
    "| 3 | Multi-Family Elevator Buildings |\n",
    "| 4 | Mixed Residential & Commercial Buildings |\n",
    "| 5 | Commercial & Office Buildings |\n",
    "| 6 | Industrial & Manufacturing |\n",
    "| 7 | Transportation & Utility |\n",
    "| 8 | Public Facilities & Institutions |\n",
    "| 9 | Open Space & Outdoor Recreation |\n",
    "| 10 | Parking Facilities |\n",
    "| 11 | Vacant Land |\n",
    "\n",
    "The bar chart below shows no difference in LandUse distribution for heat and non-heat complaints, thus this column will not be used"
   ]
  },
  {
   "cell_type": "code",
   "execution_count": 9,
   "metadata": {},
   "outputs": [
    {
     "data": {
      "image/png": "[encoded data removed]",
      "text/plain": [
       "<Figure size 864x432 with 2 Axes>"
      ]
     },
     "metadata": {
      "needs_background": "light"
     },
     "output_type": "display_data"
    }
   ],
   "source": [
    "fig, ax = plt.subplots(1,2,figsize=(12,6))\n",
    "df[df.Heat ==1].groupby('LandUse')['Heat'].count().plot.barh(ax=ax[0], label='Yes')\n",
    "ax[0].set_title('Heat Complaints')\n",
    "ax[0].legend()\n",
    "df[df.Heat ==0].groupby('LandUse')['Heat'].count().plot.barh(ax=ax[1], label='No')\n",
    "ax[1].set_title('Non-Heat Complaints')\n",
    "ax[1].legend()\n",
    "plt.show()"
   ]
  },
  {
   "cell_type": "markdown",
   "metadata": {},
   "source": [
    "### LotType\n",
    "\n",
    "LotType column is already encoded according to the following:\n",
    "    \n",
    "| Codes | Decodes |\n",
    "| ---|---|\n",
    "| 0 | Mixed or Unknown |\n",
    "| 1 | Block assemblage |\n",
    "| 2 | Waterfront |\n",
    "| 3 | Corner |\n",
    "| 4 | Through |\n",
    "| 5 | Inside |\n",
    "| 6 | Interior lot |\n",
    "| 7 | Island lot |\n",
    "| 8 | Alley lot |\n",
    "| 9 | Submerged land lot |\n",
    "\n",
    "The bar chart below shows no difference in LotType distribution for heat and non-heat complaints, so this column will be removed"
   ]
  },
  {
   "cell_type": "code",
   "execution_count": 10,
   "metadata": {},
   "outputs": [
    {
     "data": {
      "image/png": "[encoded data removed]",
      "text/plain": [
       "<Figure size 864x432 with 2 Axes>"
      ]
     },
     "metadata": {
      "needs_background": "light"
     },
     "output_type": "display_data"
    }
   ],
   "source": [
    "fig, ax = plt.subplots(1,2,figsize=(12,6))\n",
    "df[df.Heat ==1].groupby('LotType')['Heat'].count().plot.barh(ax=ax[0], label='Yes')\n",
    "ax[0].set_title('Heat Complaints')\n",
    "ax[0].legend()\n",
    "df[df.Heat ==0].groupby('LotType')['Heat'].count().plot.barh(ax=ax[1], label='No')\n",
    "ax[1].set_title('Non-Heat Complaints')\n",
    "ax[1].legend()\n",
    "plt.show()"
   ]
  },
  {
   "cell_type": "markdown",
   "metadata": {},
   "source": [
    "### BsmtCode\n",
    "\n",
    "BsmtCode column is already encoded according to the following:\n",
    "\n",
    "| Codes | Decodes |\n",
    "| --- | --- |\n",
    "| 0 | No basement |\n",
    "| 1 | Full basement that is above grade |\n",
    "| 2 | Full basement that is below grade |\n",
    "| 3 | Partial basement that is above grade | \n",
    "| 4 | Partial basement that is below grade |\n",
    "| 5 | Unknown |\n",
    "\n",
    "The bar chart below shows no difference in BsmtCode distribution for heat and non-heat complaints, so this column will be removed"
   ]
  },
  {
   "cell_type": "code",
   "execution_count": 11,
   "metadata": {},
   "outputs": [
    {
     "data": {
      "image/png": "[encoded data removed]",
      "text/plain": [
       "<Figure size 864x432 with 2 Axes>"
      ]
     },
     "metadata": {
      "needs_background": "light"
     },
     "output_type": "display_data"
    }
   ],
   "source": [
    "fig, ax = plt.subplots(1,2,figsize=(12,6))\n",
    "df[df.Heat ==1].groupby('BsmtCode')['Heat'].count().plot.barh(ax=ax[0], label='Yes')\n",
    "ax[0].set_title('Heat Complaints')\n",
    "ax[0].legend()\n",
    "df[df.Heat ==0].groupby('BsmtCode')['Heat'].count().plot.barh(ax=ax[1], label='No')\n",
    "ax[1].set_title('Non-Heat Complaints')\n",
    "ax[1].legend()\n",
    "plt.show()"
   ]
  },
  {
   "cell_type": "code",
   "execution_count": 12,
   "metadata": {},
   "outputs": [
    {
     "data": {
      "text/plain": [
       "Index(['hour', 'month', 'year', 'LandUse', 'LotArea', 'BldgArea', 'ComArea',\n",
       "       'ResArea', 'OfficeArea', 'RetailArea', 'GarageArea', 'StrgeArea',\n",
       "       'FactryArea', 'OtherArea', 'NumBldgs', 'NumFloors', 'UnitsTotal',\n",
       "       'LotType', 'BsmtCode', 'AssessTot', 'AlterAge', 'Heat'],\n",
       "      dtype='object')"
      ]
     },
     "execution_count": 12,
     "metadata": {},
     "output_type": "execute_result"
    }
   ],
   "source": [
    "df_train.columns"
   ]
  },
  {
   "cell_type": "markdown",
   "metadata": {},
   "source": [
    "## Remove outliers"
   ]
  },
  {
   "cell_type": "code",
   "execution_count": 13,
   "metadata": {},
   "outputs": [
    {
     "data": {
      "text/html": [
       "<div>\n",
       "<style scoped>\n",
       "    .dataframe tbody tr th:only-of-type {\n",
       "        vertical-align: middle;\n",
       "    }\n",
       "\n",
       "    .dataframe tbody tr th {\n",
       "        vertical-align: top;\n",
       "    }\n",
       "\n",
       "    .dataframe thead th {\n",
       "        text-align: right;\n",
       "    }\n",
       "</style>\n",
       "<table border=\"1\" class=\"dataframe\">\n",
       "  <thead>\n",
       "    <tr style=\"text-align: right;\">\n",
       "      <th></th>\n",
       "      <th>LotArea</th>\n",
       "      <th>BldgArea</th>\n",
       "      <th>ComArea</th>\n",
       "      <th>ResArea</th>\n",
       "      <th>OfficeArea</th>\n",
       "      <th>RetailArea</th>\n",
       "      <th>GarageArea</th>\n",
       "      <th>StrgeArea</th>\n",
       "      <th>FactryArea</th>\n",
       "      <th>OtherArea</th>\n",
       "      <th>NumBldgs</th>\n",
       "      <th>NumFloors</th>\n",
       "      <th>UnitsTotal</th>\n",
       "      <th>AssessTot</th>\n",
       "      <th>AlterAge</th>\n",
       "    </tr>\n",
       "  </thead>\n",
       "  <tbody>\n",
       "    <tr>\n",
       "      <th>0.05</th>\n",
       "      <td>2200.0</td>\n",
       "      <td>2565.0</td>\n",
       "      <td>0.0</td>\n",
       "      <td>2166.0</td>\n",
       "      <td>0.0</td>\n",
       "      <td>0.0</td>\n",
       "      <td>0.0</td>\n",
       "      <td>0.0</td>\n",
       "      <td>0.0</td>\n",
       "      <td>0.0</td>\n",
       "      <td>1.0</td>\n",
       "      <td>2.0</td>\n",
       "      <td>2.0</td>\n",
       "      <td>24800.8</td>\n",
       "      <td>0.0</td>\n",
       "    </tr>\n",
       "    <tr>\n",
       "      <th>0.95</th>\n",
       "      <td>34238.0</td>\n",
       "      <td>136913.0</td>\n",
       "      <td>6250.0</td>\n",
       "      <td>127662.0</td>\n",
       "      <td>0.0</td>\n",
       "      <td>4797.0</td>\n",
       "      <td>0.0</td>\n",
       "      <td>0.0</td>\n",
       "      <td>0.0</td>\n",
       "      <td>0.0</td>\n",
       "      <td>2.0</td>\n",
       "      <td>8.0</td>\n",
       "      <td>123.0</td>\n",
       "      <td>3179250.0</td>\n",
       "      <td>79.0</td>\n",
       "    </tr>\n",
       "  </tbody>\n",
       "</table>\n",
       "</div>"
      ],
      "text/plain": [
       "      LotArea  BldgArea  ComArea   ResArea  OfficeArea  RetailArea  \\\n",
       "0.05   2200.0    2565.0      0.0    2166.0         0.0         0.0   \n",
       "0.95  34238.0  136913.0   6250.0  127662.0         0.0      4797.0   \n",
       "\n",
       "      GarageArea  StrgeArea  FactryArea  OtherArea  NumBldgs  NumFloors  \\\n",
       "0.05         0.0        0.0         0.0        0.0       1.0        2.0   \n",
       "0.95         0.0        0.0         0.0        0.0       2.0        8.0   \n",
       "\n",
       "      UnitsTotal  AssessTot  AlterAge  \n",
       "0.05         2.0    24800.8       0.0  \n",
       "0.95       123.0  3179250.0      79.0  "
      ]
     },
     "execution_count": 13,
     "metadata": {},
     "output_type": "execute_result"
    }
   ],
   "source": [
    "clip_cols = ['LotArea', 'BldgArea', 'ComArea', 'ResArea', 'OfficeArea', 'RetailArea', 'GarageArea', 'StrgeArea', 'FactryArea', 'OtherArea',\n",
    "       'NumBldgs', 'NumFloors', 'UnitsTotal', 'AssessTot', 'AlterAge']\n",
    "df_clipped = df_train[clip_cols].quantile([0.05, 0.95])\n",
    "df_clipped"
   ]
  },
  {
   "cell_type": "code",
   "execution_count": 14,
   "metadata": {},
   "outputs": [
    {
     "data": {
      "text/plain": [
       "2545"
      ]
     },
     "execution_count": 14,
     "metadata": {},
     "output_type": "execute_result"
    }
   ],
   "source": [
    "np.sum([df_train.OfficeArea > 0])"
   ]
  },
  {
   "cell_type": "markdown",
   "metadata": {},
   "source": [
    "### drop columns\n",
    "drop columns that have the same value for 5% and 95% percentile as they do not provide information"
   ]
  },
  {
   "cell_type": "code",
   "execution_count": 15,
   "metadata": {},
   "outputs": [
    {
     "data": {
      "text/html": [
       "<div>\n",
       "<style scoped>\n",
       "    .dataframe tbody tr th:only-of-type {\n",
       "        vertical-align: middle;\n",
       "    }\n",
       "\n",
       "    .dataframe tbody tr th {\n",
       "        vertical-align: top;\n",
       "    }\n",
       "\n",
       "    .dataframe thead th {\n",
       "        text-align: right;\n",
       "    }\n",
       "</style>\n",
       "<table border=\"1\" class=\"dataframe\">\n",
       "  <thead>\n",
       "    <tr style=\"text-align: right;\">\n",
       "      <th></th>\n",
       "      <th>LotArea</th>\n",
       "      <th>BldgArea</th>\n",
       "      <th>ComArea</th>\n",
       "      <th>ResArea</th>\n",
       "      <th>RetailArea</th>\n",
       "      <th>NumBldgs</th>\n",
       "      <th>NumFloors</th>\n",
       "      <th>UnitsTotal</th>\n",
       "      <th>AssessTot</th>\n",
       "      <th>AlterAge</th>\n",
       "    </tr>\n",
       "  </thead>\n",
       "  <tbody>\n",
       "    <tr>\n",
       "      <th>0.05</th>\n",
       "      <td>2200.0</td>\n",
       "      <td>2565.0</td>\n",
       "      <td>0.0</td>\n",
       "      <td>2166.0</td>\n",
       "      <td>0.0</td>\n",
       "      <td>1.0</td>\n",
       "      <td>2.0</td>\n",
       "      <td>2.0</td>\n",
       "      <td>24800.8</td>\n",
       "      <td>0.0</td>\n",
       "    </tr>\n",
       "    <tr>\n",
       "      <th>0.95</th>\n",
       "      <td>34238.0</td>\n",
       "      <td>136913.0</td>\n",
       "      <td>6250.0</td>\n",
       "      <td>127662.0</td>\n",
       "      <td>4797.0</td>\n",
       "      <td>2.0</td>\n",
       "      <td>8.0</td>\n",
       "      <td>123.0</td>\n",
       "      <td>3179250.0</td>\n",
       "      <td>79.0</td>\n",
       "    </tr>\n",
       "  </tbody>\n",
       "</table>\n",
       "</div>"
      ],
      "text/plain": [
       "      LotArea  BldgArea  ComArea   ResArea  RetailArea  NumBldgs  NumFloors  \\\n",
       "0.05   2200.0    2565.0      0.0    2166.0         0.0       1.0        2.0   \n",
       "0.95  34238.0  136913.0   6250.0  127662.0      4797.0       2.0        8.0   \n",
       "\n",
       "      UnitsTotal  AssessTot  AlterAge  \n",
       "0.05         2.0    24800.8       0.0  \n",
       "0.95       123.0  3179250.0      79.0  "
      ]
     },
     "execution_count": 15,
     "metadata": {},
     "output_type": "execute_result"
    }
   ],
   "source": [
    "dropped_cols = ['OfficeArea', 'GarageArea', 'StrgeArea', 'FactryArea', 'OtherArea']\n",
    "clip_cols = ['LotArea', 'BldgArea', 'ComArea', 'ResArea', 'RetailArea', 'NumBldgs', 'NumFloors', 'UnitsTotal', 'AssessTot', 'AlterAge']\n",
    "df_clipped = df_train[clip_cols].quantile([0.05, 0.95])\n",
    "df_clipped"
   ]
  },
  {
   "cell_type": "markdown",
   "metadata": {},
   "source": [
    "### Filter values based on the computed percentiles"
   ]
  },
  {
   "cell_type": "code",
   "execution_count": 16,
   "metadata": {},
   "outputs": [
    {
     "data": {
      "text/html": [
       "<div>\n",
       "<style scoped>\n",
       "    .dataframe tbody tr th:only-of-type {\n",
       "        vertical-align: middle;\n",
       "    }\n",
       "\n",
       "    .dataframe tbody tr th {\n",
       "        vertical-align: top;\n",
       "    }\n",
       "\n",
       "    .dataframe thead th {\n",
       "        text-align: right;\n",
       "    }\n",
       "</style>\n",
       "<table border=\"1\" class=\"dataframe\">\n",
       "  <thead>\n",
       "    <tr style=\"text-align: right;\">\n",
       "      <th></th>\n",
       "      <th>LotArea</th>\n",
       "      <th>BldgArea</th>\n",
       "      <th>ComArea</th>\n",
       "      <th>ResArea</th>\n",
       "      <th>RetailArea</th>\n",
       "      <th>NumBldgs</th>\n",
       "      <th>NumFloors</th>\n",
       "      <th>UnitsTotal</th>\n",
       "      <th>AssessTot</th>\n",
       "      <th>AlterAge</th>\n",
       "    </tr>\n",
       "  </thead>\n",
       "  <tbody>\n",
       "    <tr>\n",
       "      <th>34</th>\n",
       "      <td>7889.0</td>\n",
       "      <td>23425.0</td>\n",
       "      <td>NaN</td>\n",
       "      <td>23425.0</td>\n",
       "      <td>NaN</td>\n",
       "      <td>NaN</td>\n",
       "      <td>5.0</td>\n",
       "      <td>32.0</td>\n",
       "      <td>615150.0</td>\n",
       "      <td>NaN</td>\n",
       "    </tr>\n",
       "    <tr>\n",
       "      <th>35</th>\n",
       "      <td>7889.0</td>\n",
       "      <td>23425.0</td>\n",
       "      <td>NaN</td>\n",
       "      <td>23425.0</td>\n",
       "      <td>NaN</td>\n",
       "      <td>NaN</td>\n",
       "      <td>5.0</td>\n",
       "      <td>32.0</td>\n",
       "      <td>615150.0</td>\n",
       "      <td>NaN</td>\n",
       "    </tr>\n",
       "    <tr>\n",
       "      <th>36</th>\n",
       "      <td>7889.0</td>\n",
       "      <td>23425.0</td>\n",
       "      <td>NaN</td>\n",
       "      <td>23425.0</td>\n",
       "      <td>NaN</td>\n",
       "      <td>NaN</td>\n",
       "      <td>5.0</td>\n",
       "      <td>32.0</td>\n",
       "      <td>615150.0</td>\n",
       "      <td>NaN</td>\n",
       "    </tr>\n",
       "    <tr>\n",
       "      <th>54</th>\n",
       "      <td>6000.0</td>\n",
       "      <td>27000.0</td>\n",
       "      <td>NaN</td>\n",
       "      <td>27000.0</td>\n",
       "      <td>NaN</td>\n",
       "      <td>NaN</td>\n",
       "      <td>5.0</td>\n",
       "      <td>31.0</td>\n",
       "      <td>834300.0</td>\n",
       "      <td>NaN</td>\n",
       "    </tr>\n",
       "    <tr>\n",
       "      <th>55</th>\n",
       "      <td>6000.0</td>\n",
       "      <td>27000.0</td>\n",
       "      <td>NaN</td>\n",
       "      <td>27000.0</td>\n",
       "      <td>NaN</td>\n",
       "      <td>NaN</td>\n",
       "      <td>5.0</td>\n",
       "      <td>31.0</td>\n",
       "      <td>834300.0</td>\n",
       "      <td>NaN</td>\n",
       "    </tr>\n",
       "    <tr>\n",
       "      <th>...</th>\n",
       "      <td>...</td>\n",
       "      <td>...</td>\n",
       "      <td>...</td>\n",
       "      <td>...</td>\n",
       "      <td>...</td>\n",
       "      <td>...</td>\n",
       "      <td>...</td>\n",
       "      <td>...</td>\n",
       "      <td>...</td>\n",
       "      <td>...</td>\n",
       "    </tr>\n",
       "    <tr>\n",
       "      <th>180366</th>\n",
       "      <td>2542.0</td>\n",
       "      <td>9250.0</td>\n",
       "      <td>1200.0</td>\n",
       "      <td>8050.0</td>\n",
       "      <td>1200.0</td>\n",
       "      <td>NaN</td>\n",
       "      <td>5.0</td>\n",
       "      <td>10.0</td>\n",
       "      <td>72400.0</td>\n",
       "      <td>NaN</td>\n",
       "    </tr>\n",
       "    <tr>\n",
       "      <th>180367</th>\n",
       "      <td>8000.0</td>\n",
       "      <td>28165.0</td>\n",
       "      <td>1043.0</td>\n",
       "      <td>27122.0</td>\n",
       "      <td>NaN</td>\n",
       "      <td>NaN</td>\n",
       "      <td>5.0</td>\n",
       "      <td>43.0</td>\n",
       "      <td>418500.0</td>\n",
       "      <td>NaN</td>\n",
       "    </tr>\n",
       "    <tr>\n",
       "      <th>180370</th>\n",
       "      <td>20505.0</td>\n",
       "      <td>116897.0</td>\n",
       "      <td>NaN</td>\n",
       "      <td>116897.0</td>\n",
       "      <td>NaN</td>\n",
       "      <td>NaN</td>\n",
       "      <td>NaN</td>\n",
       "      <td>NaN</td>\n",
       "      <td>1889663.0</td>\n",
       "      <td>NaN</td>\n",
       "    </tr>\n",
       "    <tr>\n",
       "      <th>180372</th>\n",
       "      <td>2500.0</td>\n",
       "      <td>NaN</td>\n",
       "      <td>NaN</td>\n",
       "      <td>NaN</td>\n",
       "      <td>NaN</td>\n",
       "      <td>NaN</td>\n",
       "      <td>NaN</td>\n",
       "      <td>NaN</td>\n",
       "      <td>NaN</td>\n",
       "      <td>NaN</td>\n",
       "    </tr>\n",
       "    <tr>\n",
       "      <th>180380</th>\n",
       "      <td>5228.0</td>\n",
       "      <td>23500.0</td>\n",
       "      <td>1900.0</td>\n",
       "      <td>21600.0</td>\n",
       "      <td>1900.0</td>\n",
       "      <td>NaN</td>\n",
       "      <td>5.0</td>\n",
       "      <td>29.0</td>\n",
       "      <td>713250.0</td>\n",
       "      <td>NaN</td>\n",
       "    </tr>\n",
       "  </tbody>\n",
       "</table>\n",
       "<p>57507 rows × 10 columns</p>\n",
       "</div>"
      ],
      "text/plain": [
       "        LotArea  BldgArea  ComArea   ResArea  RetailArea  NumBldgs  NumFloors  \\\n",
       "34       7889.0   23425.0      NaN   23425.0         NaN       NaN        5.0   \n",
       "35       7889.0   23425.0      NaN   23425.0         NaN       NaN        5.0   \n",
       "36       7889.0   23425.0      NaN   23425.0         NaN       NaN        5.0   \n",
       "54       6000.0   27000.0      NaN   27000.0         NaN       NaN        5.0   \n",
       "55       6000.0   27000.0      NaN   27000.0         NaN       NaN        5.0   \n",
       "...         ...       ...      ...       ...         ...       ...        ...   \n",
       "180366   2542.0    9250.0   1200.0    8050.0      1200.0       NaN        5.0   \n",
       "180367   8000.0   28165.0   1043.0   27122.0         NaN       NaN        5.0   \n",
       "180370  20505.0  116897.0      NaN  116897.0         NaN       NaN        NaN   \n",
       "180372   2500.0       NaN      NaN       NaN         NaN       NaN        NaN   \n",
       "180380   5228.0   23500.0   1900.0   21600.0      1900.0       NaN        5.0   \n",
       "\n",
       "        UnitsTotal  AssessTot  AlterAge  \n",
       "34            32.0   615150.0       NaN  \n",
       "35            32.0   615150.0       NaN  \n",
       "36            32.0   615150.0       NaN  \n",
       "54            31.0   834300.0       NaN  \n",
       "55            31.0   834300.0       NaN  \n",
       "...            ...        ...       ...  \n",
       "180366        10.0    72400.0       NaN  \n",
       "180367        43.0   418500.0       NaN  \n",
       "180370         NaN  1889663.0       NaN  \n",
       "180372         NaN        NaN       NaN  \n",
       "180380        29.0   713250.0       NaN  \n",
       "\n",
       "[57507 rows x 10 columns]"
      ]
     },
     "execution_count": 16,
     "metadata": {},
     "output_type": "execute_result"
    }
   ],
   "source": [
    "df_train_clipped = df_train[clip_cols].apply(lambda x: x[(x>df_clipped.loc[0.05,x.name]) & \n",
    "                                    (x < df_clipped.loc[0.95,x.name])], axis=0)\n",
    "df_train_clipped"
   ]
  },
  {
   "cell_type": "code",
   "execution_count": 17,
   "metadata": {},
   "outputs": [
    {
     "data": {
      "text/html": [
       "<div>\n",
       "<style scoped>\n",
       "    .dataframe tbody tr th:only-of-type {\n",
       "        vertical-align: middle;\n",
       "    }\n",
       "\n",
       "    .dataframe tbody tr th {\n",
       "        vertical-align: top;\n",
       "    }\n",
       "\n",
       "    .dataframe thead th {\n",
       "        text-align: right;\n",
       "    }\n",
       "</style>\n",
       "<table border=\"1\" class=\"dataframe\">\n",
       "  <thead>\n",
       "    <tr style=\"text-align: right;\">\n",
       "      <th></th>\n",
       "      <th>hour</th>\n",
       "      <th>month</th>\n",
       "      <th>year</th>\n",
       "      <th>LandUse</th>\n",
       "      <th>OfficeArea</th>\n",
       "      <th>GarageArea</th>\n",
       "      <th>StrgeArea</th>\n",
       "      <th>FactryArea</th>\n",
       "      <th>OtherArea</th>\n",
       "      <th>LotType</th>\n",
       "      <th>...</th>\n",
       "      <th>LotArea</th>\n",
       "      <th>BldgArea</th>\n",
       "      <th>ComArea</th>\n",
       "      <th>ResArea</th>\n",
       "      <th>RetailArea</th>\n",
       "      <th>NumBldgs</th>\n",
       "      <th>NumFloors</th>\n",
       "      <th>UnitsTotal</th>\n",
       "      <th>AssessTot</th>\n",
       "      <th>AlterAge</th>\n",
       "    </tr>\n",
       "  </thead>\n",
       "  <tbody>\n",
       "    <tr>\n",
       "      <th>34</th>\n",
       "      <td>18.0</td>\n",
       "      <td>12.0</td>\n",
       "      <td>2019.0</td>\n",
       "      <td>2.0</td>\n",
       "      <td>0</td>\n",
       "      <td>0</td>\n",
       "      <td>0</td>\n",
       "      <td>0</td>\n",
       "      <td>0</td>\n",
       "      <td>5.0</td>\n",
       "      <td>...</td>\n",
       "      <td>7889.0</td>\n",
       "      <td>23425.0</td>\n",
       "      <td>NaN</td>\n",
       "      <td>23425.0</td>\n",
       "      <td>NaN</td>\n",
       "      <td>NaN</td>\n",
       "      <td>5.0</td>\n",
       "      <td>32.0</td>\n",
       "      <td>615150.0</td>\n",
       "      <td>NaN</td>\n",
       "    </tr>\n",
       "    <tr>\n",
       "      <th>35</th>\n",
       "      <td>18.0</td>\n",
       "      <td>4.0</td>\n",
       "      <td>2019.0</td>\n",
       "      <td>2.0</td>\n",
       "      <td>0</td>\n",
       "      <td>0</td>\n",
       "      <td>0</td>\n",
       "      <td>0</td>\n",
       "      <td>0</td>\n",
       "      <td>5.0</td>\n",
       "      <td>...</td>\n",
       "      <td>7889.0</td>\n",
       "      <td>23425.0</td>\n",
       "      <td>NaN</td>\n",
       "      <td>23425.0</td>\n",
       "      <td>NaN</td>\n",
       "      <td>NaN</td>\n",
       "      <td>5.0</td>\n",
       "      <td>32.0</td>\n",
       "      <td>615150.0</td>\n",
       "      <td>NaN</td>\n",
       "    </tr>\n",
       "    <tr>\n",
       "      <th>36</th>\n",
       "      <td>5.0</td>\n",
       "      <td>6.0</td>\n",
       "      <td>2019.0</td>\n",
       "      <td>2.0</td>\n",
       "      <td>0</td>\n",
       "      <td>0</td>\n",
       "      <td>0</td>\n",
       "      <td>0</td>\n",
       "      <td>0</td>\n",
       "      <td>5.0</td>\n",
       "      <td>...</td>\n",
       "      <td>7889.0</td>\n",
       "      <td>23425.0</td>\n",
       "      <td>NaN</td>\n",
       "      <td>23425.0</td>\n",
       "      <td>NaN</td>\n",
       "      <td>NaN</td>\n",
       "      <td>5.0</td>\n",
       "      <td>32.0</td>\n",
       "      <td>615150.0</td>\n",
       "      <td>NaN</td>\n",
       "    </tr>\n",
       "    <tr>\n",
       "      <th>54</th>\n",
       "      <td>17.0</td>\n",
       "      <td>12.0</td>\n",
       "      <td>2019.0</td>\n",
       "      <td>2.0</td>\n",
       "      <td>0</td>\n",
       "      <td>0</td>\n",
       "      <td>0</td>\n",
       "      <td>0</td>\n",
       "      <td>0</td>\n",
       "      <td>5.0</td>\n",
       "      <td>...</td>\n",
       "      <td>6000.0</td>\n",
       "      <td>27000.0</td>\n",
       "      <td>NaN</td>\n",
       "      <td>27000.0</td>\n",
       "      <td>NaN</td>\n",
       "      <td>NaN</td>\n",
       "      <td>5.0</td>\n",
       "      <td>31.0</td>\n",
       "      <td>834300.0</td>\n",
       "      <td>NaN</td>\n",
       "    </tr>\n",
       "    <tr>\n",
       "      <th>55</th>\n",
       "      <td>16.0</td>\n",
       "      <td>8.0</td>\n",
       "      <td>2019.0</td>\n",
       "      <td>2.0</td>\n",
       "      <td>0</td>\n",
       "      <td>0</td>\n",
       "      <td>0</td>\n",
       "      <td>0</td>\n",
       "      <td>0</td>\n",
       "      <td>5.0</td>\n",
       "      <td>...</td>\n",
       "      <td>6000.0</td>\n",
       "      <td>27000.0</td>\n",
       "      <td>NaN</td>\n",
       "      <td>27000.0</td>\n",
       "      <td>NaN</td>\n",
       "      <td>NaN</td>\n",
       "      <td>5.0</td>\n",
       "      <td>31.0</td>\n",
       "      <td>834300.0</td>\n",
       "      <td>NaN</td>\n",
       "    </tr>\n",
       "    <tr>\n",
       "      <th>...</th>\n",
       "      <td>...</td>\n",
       "      <td>...</td>\n",
       "      <td>...</td>\n",
       "      <td>...</td>\n",
       "      <td>...</td>\n",
       "      <td>...</td>\n",
       "      <td>...</td>\n",
       "      <td>...</td>\n",
       "      <td>...</td>\n",
       "      <td>...</td>\n",
       "      <td>...</td>\n",
       "      <td>...</td>\n",
       "      <td>...</td>\n",
       "      <td>...</td>\n",
       "      <td>...</td>\n",
       "      <td>...</td>\n",
       "      <td>...</td>\n",
       "      <td>...</td>\n",
       "      <td>...</td>\n",
       "      <td>...</td>\n",
       "      <td>...</td>\n",
       "    </tr>\n",
       "    <tr>\n",
       "      <th>180366</th>\n",
       "      <td>12.0</td>\n",
       "      <td>10.0</td>\n",
       "      <td>2019.0</td>\n",
       "      <td>2.0</td>\n",
       "      <td>0</td>\n",
       "      <td>0</td>\n",
       "      <td>0</td>\n",
       "      <td>0</td>\n",
       "      <td>0</td>\n",
       "      <td>5.0</td>\n",
       "      <td>...</td>\n",
       "      <td>2542.0</td>\n",
       "      <td>9250.0</td>\n",
       "      <td>1200.0</td>\n",
       "      <td>8050.0</td>\n",
       "      <td>1200.0</td>\n",
       "      <td>NaN</td>\n",
       "      <td>5.0</td>\n",
       "      <td>10.0</td>\n",
       "      <td>72400.0</td>\n",
       "      <td>NaN</td>\n",
       "    </tr>\n",
       "    <tr>\n",
       "      <th>180367</th>\n",
       "      <td>16.0</td>\n",
       "      <td>10.0</td>\n",
       "      <td>2019.0</td>\n",
       "      <td>2.0</td>\n",
       "      <td>1043</td>\n",
       "      <td>0</td>\n",
       "      <td>0</td>\n",
       "      <td>0</td>\n",
       "      <td>0</td>\n",
       "      <td>5.0</td>\n",
       "      <td>...</td>\n",
       "      <td>8000.0</td>\n",
       "      <td>28165.0</td>\n",
       "      <td>1043.0</td>\n",
       "      <td>27122.0</td>\n",
       "      <td>NaN</td>\n",
       "      <td>NaN</td>\n",
       "      <td>5.0</td>\n",
       "      <td>43.0</td>\n",
       "      <td>418500.0</td>\n",
       "      <td>NaN</td>\n",
       "    </tr>\n",
       "    <tr>\n",
       "      <th>180370</th>\n",
       "      <td>2.0</td>\n",
       "      <td>10.0</td>\n",
       "      <td>2019.0</td>\n",
       "      <td>3.0</td>\n",
       "      <td>0</td>\n",
       "      <td>0</td>\n",
       "      <td>0</td>\n",
       "      <td>0</td>\n",
       "      <td>0</td>\n",
       "      <td>4.0</td>\n",
       "      <td>...</td>\n",
       "      <td>20505.0</td>\n",
       "      <td>116897.0</td>\n",
       "      <td>NaN</td>\n",
       "      <td>116897.0</td>\n",
       "      <td>NaN</td>\n",
       "      <td>NaN</td>\n",
       "      <td>NaN</td>\n",
       "      <td>NaN</td>\n",
       "      <td>1889663.0</td>\n",
       "      <td>NaN</td>\n",
       "    </tr>\n",
       "    <tr>\n",
       "      <th>180372</th>\n",
       "      <td>19.0</td>\n",
       "      <td>10.0</td>\n",
       "      <td>2019.0</td>\n",
       "      <td>1.0</td>\n",
       "      <td>0</td>\n",
       "      <td>0</td>\n",
       "      <td>0</td>\n",
       "      <td>0</td>\n",
       "      <td>0</td>\n",
       "      <td>5.0</td>\n",
       "      <td>...</td>\n",
       "      <td>2500.0</td>\n",
       "      <td>NaN</td>\n",
       "      <td>NaN</td>\n",
       "      <td>NaN</td>\n",
       "      <td>NaN</td>\n",
       "      <td>NaN</td>\n",
       "      <td>NaN</td>\n",
       "      <td>NaN</td>\n",
       "      <td>NaN</td>\n",
       "      <td>NaN</td>\n",
       "    </tr>\n",
       "    <tr>\n",
       "      <th>180380</th>\n",
       "      <td>7.0</td>\n",
       "      <td>10.0</td>\n",
       "      <td>2019.0</td>\n",
       "      <td>2.0</td>\n",
       "      <td>0</td>\n",
       "      <td>0</td>\n",
       "      <td>0</td>\n",
       "      <td>0</td>\n",
       "      <td>0</td>\n",
       "      <td>3.0</td>\n",
       "      <td>...</td>\n",
       "      <td>5228.0</td>\n",
       "      <td>23500.0</td>\n",
       "      <td>1900.0</td>\n",
       "      <td>21600.0</td>\n",
       "      <td>1900.0</td>\n",
       "      <td>NaN</td>\n",
       "      <td>5.0</td>\n",
       "      <td>29.0</td>\n",
       "      <td>713250.0</td>\n",
       "      <td>NaN</td>\n",
       "    </tr>\n",
       "  </tbody>\n",
       "</table>\n",
       "<p>58493 rows × 22 columns</p>\n",
       "</div>"
      ],
      "text/plain": [
       "        hour  month    year  LandUse  OfficeArea  GarageArea  StrgeArea  \\\n",
       "34      18.0   12.0  2019.0      2.0           0           0          0   \n",
       "35      18.0    4.0  2019.0      2.0           0           0          0   \n",
       "36       5.0    6.0  2019.0      2.0           0           0          0   \n",
       "54      17.0   12.0  2019.0      2.0           0           0          0   \n",
       "55      16.0    8.0  2019.0      2.0           0           0          0   \n",
       "...      ...    ...     ...      ...         ...         ...        ...   \n",
       "180366  12.0   10.0  2019.0      2.0           0           0          0   \n",
       "180367  16.0   10.0  2019.0      2.0        1043           0          0   \n",
       "180370   2.0   10.0  2019.0      3.0           0           0          0   \n",
       "180372  19.0   10.0  2019.0      1.0           0           0          0   \n",
       "180380   7.0   10.0  2019.0      2.0           0           0          0   \n",
       "\n",
       "        FactryArea  OtherArea  LotType  ...  LotArea  BldgArea  ComArea  \\\n",
       "34               0          0      5.0  ...   7889.0   23425.0      NaN   \n",
       "35               0          0      5.0  ...   7889.0   23425.0      NaN   \n",
       "36               0          0      5.0  ...   7889.0   23425.0      NaN   \n",
       "54               0          0      5.0  ...   6000.0   27000.0      NaN   \n",
       "55               0          0      5.0  ...   6000.0   27000.0      NaN   \n",
       "...            ...        ...      ...  ...      ...       ...      ...   \n",
       "180366           0          0      5.0  ...   2542.0    9250.0   1200.0   \n",
       "180367           0          0      5.0  ...   8000.0   28165.0   1043.0   \n",
       "180370           0          0      4.0  ...  20505.0  116897.0      NaN   \n",
       "180372           0          0      5.0  ...   2500.0       NaN      NaN   \n",
       "180380           0          0      3.0  ...   5228.0   23500.0   1900.0   \n",
       "\n",
       "         ResArea  RetailArea  NumBldgs  NumFloors  UnitsTotal  AssessTot  \\\n",
       "34       23425.0         NaN       NaN        5.0        32.0   615150.0   \n",
       "35       23425.0         NaN       NaN        5.0        32.0   615150.0   \n",
       "36       23425.0         NaN       NaN        5.0        32.0   615150.0   \n",
       "54       27000.0         NaN       NaN        5.0        31.0   834300.0   \n",
       "55       27000.0         NaN       NaN        5.0        31.0   834300.0   \n",
       "...          ...         ...       ...        ...         ...        ...   \n",
       "180366    8050.0      1200.0       NaN        5.0        10.0    72400.0   \n",
       "180367   27122.0         NaN       NaN        5.0        43.0   418500.0   \n",
       "180370  116897.0         NaN       NaN        NaN         NaN  1889663.0   \n",
       "180372       NaN         NaN       NaN        NaN         NaN        NaN   \n",
       "180380   21600.0      1900.0       NaN        5.0        29.0   713250.0   \n",
       "\n",
       "        AlterAge  \n",
       "34           NaN  \n",
       "35           NaN  \n",
       "36           NaN  \n",
       "54           NaN  \n",
       "55           NaN  \n",
       "...          ...  \n",
       "180366       NaN  \n",
       "180367       NaN  \n",
       "180370       NaN  \n",
       "180372       NaN  \n",
       "180380       NaN  \n",
       "\n",
       "[58493 rows x 22 columns]"
      ]
     },
     "execution_count": 17,
     "metadata": {},
     "output_type": "execute_result"
    }
   ],
   "source": [
    "df_train_fin = pd.concat([df_train.drop(columns=clip_cols), df_train_clipped], axis=1)\n",
    "df_train_fin"
   ]
  },
  {
   "cell_type": "code",
   "execution_count": 18,
   "metadata": {},
   "outputs": [
    {
     "data": {
      "text/plain": [
       "hour            0.000000\n",
       "month           0.000000\n",
       "year            0.000000\n",
       "LandUse         0.000000\n",
       "OfficeArea      0.000000\n",
       "GarageArea      0.000000\n",
       "StrgeArea       0.000000\n",
       "FactryArea      0.000000\n",
       "OtherArea       0.000000\n",
       "LotType         0.000000\n",
       "BsmtCode        0.000000\n",
       "Heat            0.000000\n",
       "LotArea        10.008035\n",
       "BldgArea       10.018293\n",
       "ComArea        79.753133\n",
       "ResArea        10.047356\n",
       "RetailArea     85.705982\n",
       "NumBldgs      100.000000\n",
       "NumFloors      13.037457\n",
       "UnitsTotal     10.440566\n",
       "AssessTot      10.025131\n",
       "AlterAge       80.592550\n",
       "dtype: float64"
      ]
     },
     "execution_count": 18,
     "metadata": {},
     "output_type": "execute_result"
    }
   ],
   "source": [
    "df_train_fin.isna().sum()/len(df_train_fin)*100"
   ]
  },
  {
   "cell_type": "markdown",
   "metadata": {},
   "source": [
    "### Drop columns with high unknown values"
   ]
  },
  {
   "cell_type": "code",
   "execution_count": 19,
   "metadata": {},
   "outputs": [
    {
     "data": {
      "text/plain": [
       "(45544, 16)"
      ]
     },
     "execution_count": 19,
     "metadata": {},
     "output_type": "execute_result"
    }
   ],
   "source": [
    "df_train_fin.drop(columns=['NumBldgs', 'ComArea', 'RetailArea', 'AlterAge', 'year', 'FactryArea'], inplace=True)\n",
    "df_train_fin.dropna(inplace=True)\n",
    "df_train_fin.shape"
   ]
  },
  {
   "cell_type": "code",
   "execution_count": 20,
   "metadata": {},
   "outputs": [
    {
     "data": {
      "image/png": "[encoded data removed]",
      "text/plain": [
       "<Figure size 1440x720 with 2 Axes>"
      ]
     },
     "metadata": {
      "needs_background": "light"
     },
     "output_type": "display_data"
    }
   ],
   "source": [
    "plt.figure(figsize=(20,10))\n",
    "sns.heatmap(df_train_fin.corr().abs(),annot=False)\n",
    "plt.title('Correlation of Datapoints')\n",
    "plt.show()"
   ]
  },
  {
   "cell_type": "markdown",
   "metadata": {},
   "source": [
    "## Bin hour column\n",
    "\n",
    "make a new feature, hourbin, to categorize the hour into 'early morning', 'morning', 'afternoon', and 'evening'."
   ]
  },
  {
   "cell_type": "code",
   "execution_count": 22,
   "metadata": {},
   "outputs": [
    {
     "data": {
      "image/png": "[encoded data removed]",
      "text/plain": [
       "<Figure size 864x432 with 2 Axes>"
      ]
     },
     "metadata": {
      "needs_background": "light"
     },
     "output_type": "display_data"
    },
    {
     "name": "stdout",
     "output_type": "stream",
     "text": [
      "Wall time: 2.97 s\n"
     ]
    }
   ],
   "source": [
    "%%time\n",
    "fig, ax = plt.subplots(1,2, figsize=(12,6))\n",
    "df_train_fin[df_train_fin.Heat == 1].groupby('hour')['hour'].count().plot.bar(label='Yes', ax=ax[0])\n",
    "ax[0].legend()\n",
    "df_train_fin[df_train_fin.Heat == 0].groupby('hour')['hour'].count().plot.bar(label='No', ax=ax[1])\n",
    "ax[1].legend()\n",
    "plt.show()"
   ]
  },
  {
   "cell_type": "code",
   "execution_count": 23,
   "metadata": {},
   "outputs": [
    {
     "data": {
      "text/html": [
       "<div>\n",
       "<style scoped>\n",
       "    .dataframe tbody tr th:only-of-type {\n",
       "        vertical-align: middle;\n",
       "    }\n",
       "\n",
       "    .dataframe tbody tr th {\n",
       "        vertical-align: top;\n",
       "    }\n",
       "\n",
       "    .dataframe thead th {\n",
       "        text-align: right;\n",
       "    }\n",
       "</style>\n",
       "<table border=\"1\" class=\"dataframe\">\n",
       "  <thead>\n",
       "    <tr style=\"text-align: right;\">\n",
       "      <th></th>\n",
       "      <th>hour</th>\n",
       "      <th>hourbin</th>\n",
       "    </tr>\n",
       "  </thead>\n",
       "  <tbody>\n",
       "    <tr>\n",
       "      <th>34</th>\n",
       "      <td>18.0</td>\n",
       "      <td>evening</td>\n",
       "    </tr>\n",
       "    <tr>\n",
       "      <th>35</th>\n",
       "      <td>18.0</td>\n",
       "      <td>evening</td>\n",
       "    </tr>\n",
       "    <tr>\n",
       "      <th>36</th>\n",
       "      <td>5.0</td>\n",
       "      <td>early morning</td>\n",
       "    </tr>\n",
       "    <tr>\n",
       "      <th>54</th>\n",
       "      <td>17.0</td>\n",
       "      <td>evening</td>\n",
       "    </tr>\n",
       "    <tr>\n",
       "      <th>55</th>\n",
       "      <td>16.0</td>\n",
       "      <td>evening</td>\n",
       "    </tr>\n",
       "    <tr>\n",
       "      <th>...</th>\n",
       "      <td>...</td>\n",
       "      <td>...</td>\n",
       "    </tr>\n",
       "    <tr>\n",
       "      <th>180285</th>\n",
       "      <td>7.0</td>\n",
       "      <td>morning</td>\n",
       "    </tr>\n",
       "    <tr>\n",
       "      <th>180333</th>\n",
       "      <td>12.0</td>\n",
       "      <td>afternoon</td>\n",
       "    </tr>\n",
       "    <tr>\n",
       "      <th>180366</th>\n",
       "      <td>12.0</td>\n",
       "      <td>afternoon</td>\n",
       "    </tr>\n",
       "    <tr>\n",
       "      <th>180367</th>\n",
       "      <td>16.0</td>\n",
       "      <td>evening</td>\n",
       "    </tr>\n",
       "    <tr>\n",
       "      <th>180380</th>\n",
       "      <td>7.0</td>\n",
       "      <td>morning</td>\n",
       "    </tr>\n",
       "  </tbody>\n",
       "</table>\n",
       "<p>45544 rows × 2 columns</p>\n",
       "</div>"
      ],
      "text/plain": [
       "        hour        hourbin\n",
       "34      18.0        evening\n",
       "35      18.0        evening\n",
       "36       5.0  early morning\n",
       "54      17.0        evening\n",
       "55      16.0        evening\n",
       "...      ...            ...\n",
       "180285   7.0        morning\n",
       "180333  12.0      afternoon\n",
       "180366  12.0      afternoon\n",
       "180367  16.0        evening\n",
       "180380   7.0        morning\n",
       "\n",
       "[45544 rows x 2 columns]"
      ]
     },
     "execution_count": 23,
     "metadata": {},
     "output_type": "execute_result"
    }
   ],
   "source": [
    "def hour_binning(value):\n",
    "    if value < 6:\n",
    "        result = 'early morning'\n",
    "    elif value < 11:\n",
    "        result = 'morning'\n",
    "    elif value < 16:\n",
    "        result = 'afternoon'\n",
    "    else: result = 'evening'\n",
    "    return result\n",
    "\n",
    "df_train_fin['hourbin'] = df_train_fin['hour'].apply(hour_binning)\n",
    "df_train_fin[['hour','hourbin']]"
   ]
  },
  {
   "cell_type": "code",
   "execution_count": 24,
   "metadata": {},
   "outputs": [
    {
     "data": {
      "text/plain": [
       "34    2.969324\n",
       "35    2.969324\n",
       "36    2.969324\n",
       "54    4.500000\n",
       "55    4.500000\n",
       "Name: bldgperlot, dtype: float64"
      ]
     },
     "execution_count": 24,
     "metadata": {},
     "output_type": "execute_result"
    }
   ],
   "source": [
    "df_train_fin['bldgperlot'] = df_train_fin['BldgArea'] / df_train_fin['LotArea']\n",
    "df_train_fin['bldgperlot'].head()"
   ]
  },
  {
   "cell_type": "markdown",
   "metadata": {},
   "source": [
    "# modelling"
   ]
  },
  {
   "cell_type": "markdown",
   "metadata": {},
   "source": [
    "## Preparing train and test set"
   ]
  },
  {
   "cell_type": "code",
   "execution_count": 25,
   "metadata": {},
   "outputs": [
    {
     "data": {
      "text/plain": [
       "Index(['hour', 'month', 'LandUse', 'OfficeArea', 'GarageArea', 'StrgeArea',\n",
       "       'OtherArea', 'LotType', 'BsmtCode', 'Heat', 'LotArea', 'BldgArea',\n",
       "       'ResArea', 'NumFloors', 'UnitsTotal', 'AssessTot', 'hourbin',\n",
       "       'bldgperlot'],\n",
       "      dtype='object')"
      ]
     },
     "execution_count": 25,
     "metadata": {},
     "output_type": "execute_result"
    }
   ],
   "source": [
    "df_train_fin.columns"
   ]
  },
  {
   "cell_type": "code",
   "execution_count": 26,
   "metadata": {},
   "outputs": [],
   "source": [
    "X = df_train_fin.drop(columns=['Heat', 'hour', 'LotArea', 'BsmtCode', 'LotType', 'LandUse'])\n",
    "y = df_train_fin['Heat']\n",
    "\n",
    "X_train_val, X_test, y_train_val, y_test = train_test_split(X,y, stratify=y, test_size=0.33, random_state=26)\n",
    "transformer = ColumnTransformer([\n",
    "            ('onehot', OneHotEncoder(drop='first'), ['hourbin'])\n",
    "#             ('poly', PolynomialFeatures(degree=2), ['OfficeArea','GarageArea','StrgeArea','OtherArea','BldgArea','NumFloors','UnitsTotal'])\n",
    "        ], remainder='passthrough', n_jobs=4, verbose=1)\n",
    "X_train_val_prep = transformer.fit_transform(X_train_val)\n",
    "X_test_prep = transformer.transform(X_test)"
   ]
  },
  {
   "cell_type": "code",
   "execution_count": 27,
   "metadata": {},
   "outputs": [
    {
     "data": {
      "text/plain": [
       "Index(['month', 'OfficeArea', 'GarageArea', 'StrgeArea', 'OtherArea',\n",
       "       'BldgArea', 'ResArea', 'NumFloors', 'UnitsTotal', 'AssessTot',\n",
       "       'hourbin', 'bldgperlot'],\n",
       "      dtype='object')"
      ]
     },
     "execution_count": 27,
     "metadata": {},
     "output_type": "execute_result"
    }
   ],
   "source": [
    "X.columns"
   ]
  },
  {
   "cell_type": "markdown",
   "metadata": {},
   "source": [
    "## Baseline model\n",
    "\n",
    "### Majority classifier\n",
    "\n",
    "always predict the majority class, in this case 0 or \"No\" (not heat complaint), for the target value. "
   ]
  },
  {
   "cell_type": "code",
   "execution_count": 28,
   "metadata": {},
   "outputs": [
    {
     "data": {
      "text/plain": [
       "0    28136\n",
       "1    17408\n",
       "Name: Heat, dtype: int64"
      ]
     },
     "execution_count": 28,
     "metadata": {},
     "output_type": "execute_result"
    }
   ],
   "source": [
    "df_train_fin.Heat.value_counts()"
   ]
  },
  {
   "cell_type": "code",
   "execution_count": 29,
   "metadata": {},
   "outputs": [
    {
     "name": "stdout",
     "output_type": "stream",
     "text": [
      "              precision    recall  f1-score   support\n",
      "\n",
      "           0       0.62      1.00      0.76      9285\n",
      "           1       0.00      0.00      0.00      5745\n",
      "\n",
      "    accuracy                           0.62     15030\n",
      "   macro avg       0.31      0.50      0.38     15030\n",
      "weighted avg       0.38      0.62      0.47     15030\n",
      "\n"
     ]
    },
    {
     "name": "stderr",
     "output_type": "stream",
     "text": [
      "C:\\Users\\azuka\\anaconda3-1\\envs\\py38\\lib\\site-packages\\sklearn\\metrics\\_classification.py:1221: UndefinedMetricWarning: Precision and F-score are ill-defined and being set to 0.0 in labels with no predicted samples. Use `zero_division` parameter to control this behavior.\n",
      "  _warn_prf(average, modifier, msg_start, len(result))\n"
     ]
    }
   ],
   "source": [
    "print(classification_report(y_test, np.zeros(y_test.shape)))"
   ]
  },
  {
   "cell_type": "markdown",
   "metadata": {},
   "source": [
    "### Single-feature predictive modelling\n",
    "\n",
    "in this classification problem, the class is predicted by only one variable. we will make a decision tree with only one decision level with the most-informative feature (decision stump)."
   ]
  },
  {
   "cell_type": "code",
   "execution_count": 30,
   "metadata": {},
   "outputs": [
    {
     "name": "stdout",
     "output_type": "stream",
     "text": [
      "              precision    recall  f1-score   support\n",
      "\n",
      "           0       0.67      0.83      0.74      9285\n",
      "           1       0.55      0.34      0.42      5745\n",
      "\n",
      "    accuracy                           0.64     15030\n",
      "   macro avg       0.61      0.59      0.58     15030\n",
      "weighted avg       0.62      0.64      0.62     15030\n",
      "\n"
     ]
    }
   ],
   "source": [
    "dtc_baseline = DecisionTreeClassifier(max_depth=1)\n",
    "dtc_baseline.fit(X_train_val_prep, y_train_val)\n",
    "print(classification_report(y_test, dtc_baseline.predict(X_test_prep)))"
   ]
  },
  {
   "cell_type": "code",
   "execution_count": 31,
   "metadata": {},
   "outputs": [
    {
     "data": {
      "image/png": "[encoded data removed]",
      "text/plain": [
       "<Figure size 432x288 with 2 Axes>"
      ]
     },
     "metadata": {
      "needs_background": "light"
     },
     "output_type": "display_data"
    }
   ],
   "source": [
    "plot_confusion_matrix(dtc_baseline, X_test_prep, y_test)\n",
    "plt.show()"
   ]
  },
  {
   "cell_type": "code",
   "execution_count": 32,
   "metadata": {},
   "outputs": [
    {
     "data": {
      "text/plain": [
       "['x0_early morning',\n",
       " 'x0_evening',\n",
       " 'x0_morning',\n",
       " 'month',\n",
       " 'OfficeArea',\n",
       " 'GarageArea',\n",
       " 'StrgeArea',\n",
       " 'OtherArea',\n",
       " 'BldgArea',\n",
       " 'ResArea',\n",
       " 'NumFloors',\n",
       " 'UnitsTotal',\n",
       " 'AssessTot',\n",
       " 'bldgperlot']"
      ]
     },
     "execution_count": 32,
     "metadata": {},
     "output_type": "execute_result"
    }
   ],
   "source": [
    "feature_names = list(transformer.transformers_[0][1].get_feature_names())\n",
    "# feature_names.extend(list(transformer.transformers_[1][1].get_feature_names()))\n",
    "old_col = list(X_train_val.drop(columns=['hourbin']))#,'OfficeArea','GarageArea','StrgeArea','OtherArea','BldgArea','NumFloors','UnitsTotal']).columns)\n",
    "feature_names.extend(old_col)\n",
    "\n",
    "feature_names"
   ]
  },
  {
   "cell_type": "code",
   "execution_count": 33,
   "metadata": {},
   "outputs": [
    {
     "data": {
      "image/png": "[encoded data removed]",
      "text/plain": [
       "<Figure size 432x288 with 1 Axes>"
      ]
     },
     "metadata": {
      "needs_background": "light"
     },
     "output_type": "display_data"
    }
   ],
   "source": [
    "df_feature = pd.DataFrame({'name': feature_names, 'tree':dtc_baseline.feature_importances_})\n",
    "df_feature.set_index('name').sort_values('tree')['tree'].plot.barh()\n",
    "plt.tight_layout()\n",
    "plt.show()"
   ]
  },
  {
   "cell_type": "markdown",
   "metadata": {},
   "source": [
    "according to this model, 'month' column is the most important feature to differentiate between heat and non-heat complaints. based on the decision tree plot below, a decision stump with month <= 10.5 separates the sample into two leaves with high impurity as shown by the high gini ratio (0.439 and 0.492) "
   ]
  },
  {
   "cell_type": "code",
   "execution_count": 34,
   "metadata": {},
   "outputs": [
    {
     "data": {
      "image/png": "[encoded data removed]",
      "text/plain": [
       "<Figure size 432x288 with 1 Axes>"
      ]
     },
     "metadata": {
      "needs_background": "light"
     },
     "output_type": "display_data"
    }
   ],
   "source": [
    "plot_tree(dtc_baseline, feature_names=feature_names, class_names=['No', 'Yes'], filled=True)\n",
    "plt.show()"
   ]
  },
  {
   "cell_type": "code",
   "execution_count": 35,
   "metadata": {},
   "outputs": [
    {
     "data": {
      "image/png": "[encoded data removed]",
      "text/plain": [
       "<Figure size 432x288 with 1 Axes>"
      ]
     },
     "metadata": {
      "needs_background": "light"
     },
     "output_type": "display_data"
    }
   ],
   "source": [
    "plot_precision_recall_curve(dtc_baseline, X_test_prep, y_test)\n",
    "plt.show()"
   ]
  },
  {
   "cell_type": "markdown",
   "metadata": {},
   "source": [
    "## Benchmark modelling"
   ]
  },
  {
   "cell_type": "markdown",
   "metadata": {},
   "source": [
    "### Make pipelines with different steps\n",
    "\n",
    "the models used are:\n",
    "1. Logistic Regression\n",
    "1. Decision Tree Classifier\n",
    "1. Stochastic Gradient Descent\n",
    "1. Naive Bayes\n",
    "\n",
    "the strategy used for these pipelines are:\n",
    "1. Oversampling with SMOTE\n",
    "1. Scaling with MinMaxScaler\n",
    "1. Feature selection with RFE\n",
    "1. Oversampling with RandomOverSampler\n",
    "1. Combined oversampling (SMOTE) and undersampling (TomekLinks) with SMOTETomek\n",
    "1. Combined oversampling (SMOTE) and undersampling (ENN (Edited Nearest Neighbours))with SMOTEENN"
   ]
  },
  {
   "cell_type": "code",
   "execution_count": 36,
   "metadata": {},
   "outputs": [],
   "source": [
    "def pipe_model(models):\n",
    "    pipelines = []\n",
    "    for model in models:\n",
    "        pl = Pipeline([\n",
    "        # ('transfr', transformer),\n",
    "#         ('scaler', MinMaxScaler()),\n",
    "#         ('sampling', SMOTE()),\n",
    "        ('model', model[1])\n",
    "])\n",
    "        pipelines.append(pl)\n",
    "    return pipelines"
   ]
  },
  {
   "cell_type": "code",
   "execution_count": 37,
   "metadata": {},
   "outputs": [],
   "source": [
    "def pipe_smote_model(models):\n",
    "    pipelines = []\n",
    "    for model in models:\n",
    "        pl = Pipeline([\n",
    "        # ('transfr', transformer),\n",
    "#         ('scaler', MinMaxScaler()),\n",
    "        ('sampling', SMOTE()),\n",
    "        ('model', model[1])\n",
    "])\n",
    "        pipelines.append(pl)\n",
    "    return pipelines"
   ]
  },
  {
   "cell_type": "code",
   "execution_count": 38,
   "metadata": {},
   "outputs": [],
   "source": [
    "def pipe_scale_smote_model(models):\n",
    "    pipelines = []\n",
    "    for model in models:\n",
    "        pl = Pipeline([\n",
    "        # ('transfr', transformer),\n",
    "        ('scaler', MinMaxScaler()),\n",
    "        ('sampling', SMOTE()),\n",
    "        ('model', model[1])\n",
    "])\n",
    "        pipelines.append(pl)\n",
    "    return pipelines"
   ]
  },
  {
   "cell_type": "code",
   "execution_count": 39,
   "metadata": {},
   "outputs": [],
   "source": [
    "def pipe_scale_rfe_smote_model(models):\n",
    "    pipelines = []\n",
    "    for model in models:\n",
    "        pl = Pipeline([\n",
    "        # ('transfr', transformer),\n",
    "        ('scaler', MinMaxScaler()),\n",
    "        ('rfe', RFE(model[1])),\n",
    "        ('sampling', SMOTE()),\n",
    "        ('model', model[1])\n",
    "])\n",
    "        pipelines.append(pl)\n",
    "    return pipelines"
   ]
  },
  {
   "cell_type": "code",
   "execution_count": 40,
   "metadata": {},
   "outputs": [],
   "source": [
    "def pipe_scale_overs_model(models):\n",
    "    pipelines = []\n",
    "    for model in models:\n",
    "        pl = Pipeline([\n",
    "        # ('transfr', transformer),\n",
    "        ('scaler', MinMaxScaler()),\n",
    "#         ('rfe', RFE(model[1])),\n",
    "        ('sampling', RandomOverSampler(sampling_strategy='minority')),\n",
    "        ('model', model[1])\n",
    "])\n",
    "        pipelines.append(pl)\n",
    "    return pipelines"
   ]
  },
  {
   "cell_type": "code",
   "execution_count": 41,
   "metadata": {},
   "outputs": [],
   "source": [
    "def pipe_scale_overs_unders_model(models):\n",
    "    pipelines = []\n",
    "    for model in models:\n",
    "        pl = Pipeline([\n",
    "        # ('transfr', transformer),\n",
    "        ('scaler', MinMaxScaler()),\n",
    "#         ('rfe', RFE(model[1])),\n",
    "#         ('sampling', RandomOverSampler(sampling_strategy=0.1)),\n",
    "#         ('sampling2', RandomUnderSampler(sampling_strategy=0.5)),\n",
    "        ('sampling', SMOTETomek(tomek=TomekLinks(sampling_strategy='majority'))),\n",
    "        ('model', model[1])\n",
    "])\n",
    "        pipelines.append(pl)\n",
    "    return pipelines"
   ]
  },
  {
   "cell_type": "code",
   "execution_count": 42,
   "metadata": {},
   "outputs": [],
   "source": [
    "def pipe_scale_overs_unders_enn_model(models):\n",
    "    pipelines = []\n",
    "    for model in models:\n",
    "        pl = Pipeline([\n",
    "        # ('transfr', transformer),\n",
    "        ('scaler', MinMaxScaler()),\n",
    "#         ('rfe', RFE(model[1])),\n",
    "#         ('sampling', RandomOverSampler(sampling_strategy=0.1)),\n",
    "#         ('sampling2', RandomUnderSampler(sampling_strategy=0.5)),\n",
    "        ('sampling', SMOTEENN(enn=EditedNearestNeighbours(sampling_strategy='majority'))),\n",
    "        ('model', model[1])\n",
    "])\n",
    "        pipelines.append(pl)\n",
    "    return pipelines"
   ]
  },
  {
   "cell_type": "markdown",
   "metadata": {},
   "source": [
    "### Make a function for cross validation\n",
    "\n",
    "use cross_validate to return several metrics at once"
   ]
  },
  {
   "cell_type": "code",
   "execution_count": 43,
   "metadata": {},
   "outputs": [],
   "source": [
    "def model_evaluation(pipes, metric):\n",
    "    skfold = StratifiedKFold(n_splits=5, random_state=26, shuffle=True)\n",
    "    model_cvs = []\n",
    "    for pipe in pipes:\n",
    "        model_cv = cross_validate(pipe, X_train_val_prep, y_train_val, cv=skfold, scoring=metric, return_train_score=True, n_jobs=4, verbose=1)\n",
    "        model_cvs.append(model_cv)\n",
    "    return model_cvs"
   ]
  },
  {
   "cell_type": "markdown",
   "metadata": {},
   "source": [
    "### Make a function to summarize the cross validation results"
   ]
  },
  {
   "cell_type": "code",
   "execution_count": 44,
   "metadata": {},
   "outputs": [],
   "source": [
    "def results_dataframe(models, model_cvs, metric):\n",
    "    scores = np.zeros((len(models),len(metric)*2))\n",
    "    j = 0\n",
    "    for model, model_cv in zip(models, model_cvs):\n",
    "        \n",
    "        model_score = []\n",
    "        for i in model_cv:\n",
    "            \n",
    "            if i == 'fit_time' or i == 'score_time':\n",
    "                continue\n",
    "            model_score.append(model_cv[i].mean())\n",
    "        scores[j] = model_score\n",
    "        j+=1\n",
    "    return pd.DataFrame(scores, index=[i[0] for i in models], columns = [i for i in list(model_cv_1[0].keys()) if i not in ('fit_time', 'score_time')])\n",
    "    # return scores"
   ]
  },
  {
   "cell_type": "markdown",
   "metadata": {},
   "source": [
    "### Cross validate\n",
    "\n",
    "try several strategies and cross validate the model. use the f1 score for test set to compare the models on our cross validation set (X_train_val, y_train_val).\n",
    "\n",
    "1. Step: Model only\n",
    "\n",
    "only DecisionTreeClassifier gives good performance while the others are severely underfitted. LogisticRegression and NaiveBayes perform only slightly better than random classifier, as shown by the AUC score of 0.500 and 0.525.\n",
    "\n",
    "despite having the best performance the DecisionTreeClassifier is overfitted since it scores very high (all metrics above 0.95) but only on the training set. "
   ]
  },
  {
   "cell_type": "code",
   "execution_count": 45,
   "metadata": {},
   "outputs": [
    {
     "name": "stderr",
     "output_type": "stream",
     "text": [
      "[Parallel(n_jobs=4)]: Using backend LokyBackend with 4 concurrent workers.\n",
      "[Parallel(n_jobs=4)]: Done   5 out of   5 | elapsed:    4.0s finished\n",
      "[Parallel(n_jobs=4)]: Using backend LokyBackend with 4 concurrent workers.\n",
      "[Parallel(n_jobs=4)]: Done   5 out of   5 | elapsed:    2.6s finished\n",
      "[Parallel(n_jobs=4)]: Using backend LokyBackend with 4 concurrent workers.\n",
      "[Parallel(n_jobs=4)]: Done   5 out of   5 | elapsed:    6.7s finished\n",
      "[Parallel(n_jobs=4)]: Using backend LokyBackend with 4 concurrent workers.\n",
      "[Parallel(n_jobs=4)]: Done   5 out of   5 | elapsed:    1.1s finished\n"
     ]
    }
   ],
   "source": [
    "models_1 = [('logreg', LogisticRegression()),('tree', DecisionTreeClassifier(random_state=26)), ('sgdc', SGDClassifier(random_state=26)), ('nb', GaussianNB())]\n",
    "metric = ('f1', 'accuracy', 'roc_auc', 'recall', 'precision')\n",
    "pl_1 = pipe_model(models_1)\n",
    "model_cv_1 = model_evaluation(pl_1, metric)"
   ]
  },
  {
   "cell_type": "code",
   "execution_count": 46,
   "metadata": {},
   "outputs": [
    {
     "data": {
      "text/html": [
       "<div>\n",
       "<style scoped>\n",
       "    .dataframe tbody tr th:only-of-type {\n",
       "        vertical-align: middle;\n",
       "    }\n",
       "\n",
       "    .dataframe tbody tr th {\n",
       "        vertical-align: top;\n",
       "    }\n",
       "\n",
       "    .dataframe thead th {\n",
       "        text-align: right;\n",
       "    }\n",
       "</style>\n",
       "<table border=\"1\" class=\"dataframe\">\n",
       "  <thead>\n",
       "    <tr style=\"text-align: right;\">\n",
       "      <th></th>\n",
       "      <th>logreg</th>\n",
       "      <th>tree</th>\n",
       "      <th>sgdc</th>\n",
       "      <th>nb</th>\n",
       "    </tr>\n",
       "  </thead>\n",
       "  <tbody>\n",
       "    <tr>\n",
       "      <th>test_f1</th>\n",
       "      <td>0.039886</td>\n",
       "      <td>0.584766</td>\n",
       "      <td>0.014488</td>\n",
       "      <td>0.106937</td>\n",
       "    </tr>\n",
       "    <tr>\n",
       "      <th>train_f1</th>\n",
       "      <td>0.040612</td>\n",
       "      <td>0.938086</td>\n",
       "      <td>0.014779</td>\n",
       "      <td>0.109280</td>\n",
       "    </tr>\n",
       "    <tr>\n",
       "      <th>test_accuracy</th>\n",
       "      <td>0.618339</td>\n",
       "      <td>0.691126</td>\n",
       "      <td>0.616897</td>\n",
       "      <td>0.616143</td>\n",
       "    </tr>\n",
       "    <tr>\n",
       "      <th>train_accuracy</th>\n",
       "      <td>0.618380</td>\n",
       "      <td>0.954349</td>\n",
       "      <td>0.616594</td>\n",
       "      <td>0.616619</td>\n",
       "    </tr>\n",
       "    <tr>\n",
       "      <th>test_roc_auc</th>\n",
       "      <td>0.500985</td>\n",
       "      <td>0.680079</td>\n",
       "      <td>0.494183</td>\n",
       "      <td>0.524953</td>\n",
       "    </tr>\n",
       "    <tr>\n",
       "      <th>train_roc_auc</th>\n",
       "      <td>0.501346</td>\n",
       "      <td>0.995240</td>\n",
       "      <td>0.495593</td>\n",
       "      <td>0.525232</td>\n",
       "    </tr>\n",
       "    <tr>\n",
       "      <th>test_recall</th>\n",
       "      <td>0.020750</td>\n",
       "      <td>0.569066</td>\n",
       "      <td>0.007458</td>\n",
       "      <td>0.060191</td>\n",
       "    </tr>\n",
       "    <tr>\n",
       "      <th>train_recall</th>\n",
       "      <td>0.021135</td>\n",
       "      <td>0.904827</td>\n",
       "      <td>0.007653</td>\n",
       "      <td>0.061562</td>\n",
       "    </tr>\n",
       "    <tr>\n",
       "      <th>test_precision</th>\n",
       "      <td>0.520992</td>\n",
       "      <td>0.601541</td>\n",
       "      <td>0.310954</td>\n",
       "      <td>0.481785</td>\n",
       "    </tr>\n",
       "    <tr>\n",
       "      <th>train_precision</th>\n",
       "      <td>0.519775</td>\n",
       "      <td>0.973884</td>\n",
       "      <td>0.293389</td>\n",
       "      <td>0.488004</td>\n",
       "    </tr>\n",
       "  </tbody>\n",
       "</table>\n",
       "</div>"
      ],
      "text/plain": [
       "                   logreg      tree      sgdc        nb\n",
       "test_f1          0.039886  0.584766  0.014488  0.106937\n",
       "train_f1         0.040612  0.938086  0.014779  0.109280\n",
       "test_accuracy    0.618339  0.691126  0.616897  0.616143\n",
       "train_accuracy   0.618380  0.954349  0.616594  0.616619\n",
       "test_roc_auc     0.500985  0.680079  0.494183  0.524953\n",
       "train_roc_auc    0.501346  0.995240  0.495593  0.525232\n",
       "test_recall      0.020750  0.569066  0.007458  0.060191\n",
       "train_recall     0.021135  0.904827  0.007653  0.061562\n",
       "test_precision   0.520992  0.601541  0.310954  0.481785\n",
       "train_precision  0.519775  0.973884  0.293389  0.488004"
      ]
     },
     "execution_count": 46,
     "metadata": {},
     "output_type": "execute_result"
    }
   ],
   "source": [
    "df_model = results_dataframe(models_1, model_cv_1, metric).T\n",
    "df_model"
   ]
  },
  {
   "cell_type": "markdown",
   "metadata": {},
   "source": [
    "2. Steps: Oversampling with SMOTE, model\n",
    "\n",
    "adding SMOTE for oversampling step improves LogisticRegression and SGBC greatly"
   ]
  },
  {
   "cell_type": "code",
   "execution_count": 47,
   "metadata": {},
   "outputs": [
    {
     "name": "stderr",
     "output_type": "stream",
     "text": [
      "[Parallel(n_jobs=4)]: Using backend LokyBackend with 4 concurrent workers.\n",
      "[Parallel(n_jobs=4)]: Done   5 out of   5 | elapsed:   15.0s finished\n",
      "[Parallel(n_jobs=4)]: Using backend LokyBackend with 4 concurrent workers.\n",
      "[Parallel(n_jobs=4)]: Done   5 out of   5 | elapsed:    4.1s finished\n",
      "[Parallel(n_jobs=4)]: Using backend LokyBackend with 4 concurrent workers.\n",
      "[Parallel(n_jobs=4)]: Done   5 out of   5 | elapsed:   14.1s finished\n",
      "[Parallel(n_jobs=4)]: Using backend LokyBackend with 4 concurrent workers.\n",
      "[Parallel(n_jobs=4)]: Done   5 out of   5 | elapsed:    2.1s finished\n"
     ]
    }
   ],
   "source": [
    "models_2 = [('logreg', LogisticRegression(solver='saga')),('tree', DecisionTreeClassifier(random_state=26)), ('sgdc', SGDClassifier(random_state=26)), ('nb', GaussianNB())]\n",
    "metric = ('f1', 'accuracy', 'roc_auc', 'recall', 'precision')\n",
    "pl_2 = pipe_smote_model(models_2)\n",
    "model_cv_2 = model_evaluation(pl_2, metric)"
   ]
  },
  {
   "cell_type": "code",
   "execution_count": 48,
   "metadata": {},
   "outputs": [
    {
     "data": {
      "text/html": [
       "<div>\n",
       "<style scoped>\n",
       "    .dataframe tbody tr th:only-of-type {\n",
       "        vertical-align: middle;\n",
       "    }\n",
       "\n",
       "    .dataframe tbody tr th {\n",
       "        vertical-align: top;\n",
       "    }\n",
       "\n",
       "    .dataframe thead th {\n",
       "        text-align: right;\n",
       "    }\n",
       "</style>\n",
       "<table border=\"1\" class=\"dataframe\">\n",
       "  <thead>\n",
       "    <tr style=\"text-align: right;\">\n",
       "      <th></th>\n",
       "      <th>logreg</th>\n",
       "      <th>tree</th>\n",
       "      <th>sgdc</th>\n",
       "      <th>nb</th>\n",
       "    </tr>\n",
       "  </thead>\n",
       "  <tbody>\n",
       "    <tr>\n",
       "      <th>test_f1</th>\n",
       "      <td>0.523544</td>\n",
       "      <td>0.584995</td>\n",
       "      <td>0.341721</td>\n",
       "      <td>0.169936</td>\n",
       "    </tr>\n",
       "    <tr>\n",
       "      <th>train_f1</th>\n",
       "      <td>0.523922</td>\n",
       "      <td>0.938183</td>\n",
       "      <td>0.341915</td>\n",
       "      <td>0.171221</td>\n",
       "    </tr>\n",
       "    <tr>\n",
       "      <th>test_accuracy</th>\n",
       "      <td>0.439601</td>\n",
       "      <td>0.687586</td>\n",
       "      <td>0.475910</td>\n",
       "      <td>0.612244</td>\n",
       "    </tr>\n",
       "    <tr>\n",
       "      <th>train_accuracy</th>\n",
       "      <td>0.440077</td>\n",
       "      <td>0.954308</td>\n",
       "      <td>0.476053</td>\n",
       "      <td>0.612440</td>\n",
       "    </tr>\n",
       "    <tr>\n",
       "      <th>test_roc_auc</th>\n",
       "      <td>0.525677</td>\n",
       "      <td>0.677313</td>\n",
       "      <td>0.507328</td>\n",
       "      <td>0.524639</td>\n",
       "    </tr>\n",
       "    <tr>\n",
       "      <th>train_roc_auc</th>\n",
       "      <td>0.526070</td>\n",
       "      <td>0.995215</td>\n",
       "      <td>0.510244</td>\n",
       "      <td>0.524941</td>\n",
       "    </tr>\n",
       "    <tr>\n",
       "      <th>test_recall</th>\n",
       "      <td>0.805967</td>\n",
       "      <td>0.576095</td>\n",
       "      <td>0.605144</td>\n",
       "      <td>0.104263</td>\n",
       "    </tr>\n",
       "    <tr>\n",
       "      <th>train_recall</th>\n",
       "      <td>0.806246</td>\n",
       "      <td>0.907164</td>\n",
       "      <td>0.605252</td>\n",
       "      <td>0.105118</td>\n",
       "    </tr>\n",
       "    <tr>\n",
       "      <th>test_precision</th>\n",
       "      <td>0.387770</td>\n",
       "      <td>0.594288</td>\n",
       "      <td>0.387206</td>\n",
       "      <td>0.467664</td>\n",
       "    </tr>\n",
       "    <tr>\n",
       "      <th>train_precision</th>\n",
       "      <td>0.388124</td>\n",
       "      <td>0.971401</td>\n",
       "      <td>0.396008</td>\n",
       "      <td>0.468799</td>\n",
       "    </tr>\n",
       "  </tbody>\n",
       "</table>\n",
       "</div>"
      ],
      "text/plain": [
       "                   logreg      tree      sgdc        nb\n",
       "test_f1          0.523544  0.584995  0.341721  0.169936\n",
       "train_f1         0.523922  0.938183  0.341915  0.171221\n",
       "test_accuracy    0.439601  0.687586  0.475910  0.612244\n",
       "train_accuracy   0.440077  0.954308  0.476053  0.612440\n",
       "test_roc_auc     0.525677  0.677313  0.507328  0.524639\n",
       "train_roc_auc    0.526070  0.995215  0.510244  0.524941\n",
       "test_recall      0.805967  0.576095  0.605144  0.104263\n",
       "train_recall     0.806246  0.907164  0.605252  0.105118\n",
       "test_precision   0.387770  0.594288  0.387206  0.467664\n",
       "train_precision  0.388124  0.971401  0.396008  0.468799"
      ]
     },
     "execution_count": 48,
     "metadata": {},
     "output_type": "execute_result"
    }
   ],
   "source": [
    "df_smote_model =  results_dataframe(models_2, model_cv_2, metric).T\n",
    "df_smote_model"
   ]
  },
  {
   "cell_type": "markdown",
   "metadata": {},
   "source": [
    "3. Steps: Scaling, oversampling with SMOTE, model\n",
    "\n",
    "Scaling greatly improves LogisticRegression, StochasticGradientDescent and NaiveBayes, although Decision TreeClassifier still has the best performance of all."
   ]
  },
  {
   "cell_type": "code",
   "execution_count": 49,
   "metadata": {},
   "outputs": [
    {
     "name": "stderr",
     "output_type": "stream",
     "text": [
      "[Parallel(n_jobs=4)]: Using backend LokyBackend with 4 concurrent workers.\n",
      "[Parallel(n_jobs=4)]: Done   5 out of   5 | elapsed:   11.4s finished\n",
      "[Parallel(n_jobs=4)]: Using backend LokyBackend with 4 concurrent workers.\n",
      "[Parallel(n_jobs=4)]: Done   5 out of   5 | elapsed:   11.0s finished\n",
      "[Parallel(n_jobs=4)]: Using backend LokyBackend with 4 concurrent workers.\n",
      "[Parallel(n_jobs=4)]: Done   5 out of   5 | elapsed:    9.9s finished\n",
      "[Parallel(n_jobs=4)]: Using backend LokyBackend with 4 concurrent workers.\n",
      "[Parallel(n_jobs=4)]: Done   5 out of   5 | elapsed:    8.5s finished\n"
     ]
    }
   ],
   "source": [
    "models_3 = [('logreg', LogisticRegression(solver='saga')), ('tree', DecisionTreeClassifier(random_state=26)), ('sgdc', SGDClassifier(random_state=26)), ('nb', GaussianNB())]\n",
    "metric = ('f1', 'accuracy', 'roc_auc', 'recall', 'precision')\n",
    "pl_3 = pipe_scale_smote_model(models_3)\n",
    "model_cv_3 = model_evaluation(pl_3, metric)"
   ]
  },
  {
   "cell_type": "code",
   "execution_count": 50,
   "metadata": {},
   "outputs": [
    {
     "data": {
      "text/html": [
       "<div>\n",
       "<style scoped>\n",
       "    .dataframe tbody tr th:only-of-type {\n",
       "        vertical-align: middle;\n",
       "    }\n",
       "\n",
       "    .dataframe tbody tr th {\n",
       "        vertical-align: top;\n",
       "    }\n",
       "\n",
       "    .dataframe thead th {\n",
       "        text-align: right;\n",
       "    }\n",
       "</style>\n",
       "<table border=\"1\" class=\"dataframe\">\n",
       "  <thead>\n",
       "    <tr style=\"text-align: right;\">\n",
       "      <th></th>\n",
       "      <th>logreg</th>\n",
       "      <th>tree</th>\n",
       "      <th>sgdc</th>\n",
       "      <th>nb</th>\n",
       "    </tr>\n",
       "  </thead>\n",
       "  <tbody>\n",
       "    <tr>\n",
       "      <th>test_f1</th>\n",
       "      <td>0.564673</td>\n",
       "      <td>0.594728</td>\n",
       "      <td>0.573348</td>\n",
       "      <td>0.294979</td>\n",
       "    </tr>\n",
       "    <tr>\n",
       "      <th>train_f1</th>\n",
       "      <td>0.565084</td>\n",
       "      <td>0.938178</td>\n",
       "      <td>0.573360</td>\n",
       "      <td>0.295667</td>\n",
       "    </tr>\n",
       "    <tr>\n",
       "      <th>test_accuracy</th>\n",
       "      <td>0.569869</td>\n",
       "      <td>0.688733</td>\n",
       "      <td>0.561742</td>\n",
       "      <td>0.634037</td>\n",
       "    </tr>\n",
       "    <tr>\n",
       "      <th>train_accuracy</th>\n",
       "      <td>0.570017</td>\n",
       "      <td>0.954308</td>\n",
       "      <td>0.561742</td>\n",
       "      <td>0.634356</td>\n",
       "    </tr>\n",
       "    <tr>\n",
       "      <th>test_roc_auc</th>\n",
       "      <td>0.637795</td>\n",
       "      <td>0.683037</td>\n",
       "      <td>0.621109</td>\n",
       "      <td>0.657231</td>\n",
       "    </tr>\n",
       "    <tr>\n",
       "      <th>train_roc_auc</th>\n",
       "      <td>0.639112</td>\n",
       "      <td>0.995213</td>\n",
       "      <td>0.622957</td>\n",
       "      <td>0.658062</td>\n",
       "    </tr>\n",
       "    <tr>\n",
       "      <th>test_recall</th>\n",
       "      <td>0.730002</td>\n",
       "      <td>0.597532</td>\n",
       "      <td>0.770470</td>\n",
       "      <td>0.200895</td>\n",
       "    </tr>\n",
       "    <tr>\n",
       "      <th>train_recall</th>\n",
       "      <td>0.730922</td>\n",
       "      <td>0.907078</td>\n",
       "      <td>0.770471</td>\n",
       "      <td>0.201084</td>\n",
       "    </tr>\n",
       "    <tr>\n",
       "      <th>test_precision</th>\n",
       "      <td>0.460457</td>\n",
       "      <td>0.592015</td>\n",
       "      <td>0.456555</td>\n",
       "      <td>0.558435</td>\n",
       "    </tr>\n",
       "    <tr>\n",
       "      <th>train_precision</th>\n",
       "      <td>0.460653</td>\n",
       "      <td>0.971488</td>\n",
       "      <td>0.456559</td>\n",
       "      <td>0.561052</td>\n",
       "    </tr>\n",
       "  </tbody>\n",
       "</table>\n",
       "</div>"
      ],
      "text/plain": [
       "                   logreg      tree      sgdc        nb\n",
       "test_f1          0.564673  0.594728  0.573348  0.294979\n",
       "train_f1         0.565084  0.938178  0.573360  0.295667\n",
       "test_accuracy    0.569869  0.688733  0.561742  0.634037\n",
       "train_accuracy   0.570017  0.954308  0.561742  0.634356\n",
       "test_roc_auc     0.637795  0.683037  0.621109  0.657231\n",
       "train_roc_auc    0.639112  0.995213  0.622957  0.658062\n",
       "test_recall      0.730002  0.597532  0.770470  0.200895\n",
       "train_recall     0.730922  0.907078  0.770471  0.201084\n",
       "test_precision   0.460457  0.592015  0.456555  0.558435\n",
       "train_precision  0.460653  0.971488  0.456559  0.561052"
      ]
     },
     "execution_count": 50,
     "metadata": {},
     "output_type": "execute_result"
    }
   ],
   "source": [
    "df_scale_smote_model = results_dataframe(models_3, model_cv_3, metric).T\n",
    "df_scale_smote_model"
   ]
  },
  {
   "cell_type": "markdown",
   "metadata": {},
   "source": [
    "4. Steps: Scaling, feature selection with RFE, oversampling with SMOTE, model\n",
    "    \n",
    "Feature selection with RFE was done only on LogisticRegression and DecisionTreeClassifier. no improvement compared with only scale+SMOTE+model."
   ]
  },
  {
   "cell_type": "code",
   "execution_count": 51,
   "metadata": {},
   "outputs": [
    {
     "name": "stderr",
     "output_type": "stream",
     "text": [
      "[Parallel(n_jobs=4)]: Using backend LokyBackend with 4 concurrent workers.\n",
      "[Parallel(n_jobs=4)]: Done   5 out of   5 | elapsed:   19.5s finished\n",
      "[Parallel(n_jobs=4)]: Using backend LokyBackend with 4 concurrent workers.\n",
      "[Parallel(n_jobs=4)]: Done   5 out of   5 | elapsed:   16.7s finished\n"
     ]
    }
   ],
   "source": [
    "models_4 = [('logreg', LogisticRegression(solver='saga', max_iter=500)), ('tree', DecisionTreeClassifier(random_state=26))]\n",
    "metric = ('f1', 'accuracy', 'roc_auc', 'recall', 'precision')\n",
    "pl_4 = pipe_scale_rfe_smote_model(models_4)\n",
    "model_cv_4 = model_evaluation(pl_4, metric)"
   ]
  },
  {
   "cell_type": "code",
   "execution_count": 52,
   "metadata": {},
   "outputs": [
    {
     "data": {
      "text/html": [
       "<div>\n",
       "<style scoped>\n",
       "    .dataframe tbody tr th:only-of-type {\n",
       "        vertical-align: middle;\n",
       "    }\n",
       "\n",
       "    .dataframe tbody tr th {\n",
       "        vertical-align: top;\n",
       "    }\n",
       "\n",
       "    .dataframe thead th {\n",
       "        text-align: right;\n",
       "    }\n",
       "</style>\n",
       "<table border=\"1\" class=\"dataframe\">\n",
       "  <thead>\n",
       "    <tr style=\"text-align: right;\">\n",
       "      <th></th>\n",
       "      <th>logreg</th>\n",
       "      <th>tree</th>\n",
       "    </tr>\n",
       "  </thead>\n",
       "  <tbody>\n",
       "    <tr>\n",
       "      <th>test_f1</th>\n",
       "      <td>0.541664</td>\n",
       "      <td>0.595357</td>\n",
       "    </tr>\n",
       "    <tr>\n",
       "      <th>train_f1</th>\n",
       "      <td>0.544537</td>\n",
       "      <td>0.886545</td>\n",
       "    </tr>\n",
       "    <tr>\n",
       "      <th>test_accuracy</th>\n",
       "      <td>0.579897</td>\n",
       "      <td>0.692862</td>\n",
       "    </tr>\n",
       "    <tr>\n",
       "      <th>train_accuracy</th>\n",
       "      <td>0.582094</td>\n",
       "      <td>0.916604</td>\n",
       "    </tr>\n",
       "    <tr>\n",
       "      <th>test_roc_auc</th>\n",
       "      <td>0.625900</td>\n",
       "      <td>0.693622</td>\n",
       "    </tr>\n",
       "    <tr>\n",
       "      <th>train_roc_auc</th>\n",
       "      <td>0.628379</td>\n",
       "      <td>0.982932</td>\n",
       "    </tr>\n",
       "    <tr>\n",
       "      <th>test_recall</th>\n",
       "      <td>0.658593</td>\n",
       "      <td>0.591271</td>\n",
       "    </tr>\n",
       "    <tr>\n",
       "      <th>train_recall</th>\n",
       "      <td>0.662519</td>\n",
       "      <td>0.852267</td>\n",
       "    </tr>\n",
       "    <tr>\n",
       "      <th>test_precision</th>\n",
       "      <td>0.466841</td>\n",
       "      <td>0.599677</td>\n",
       "    </tr>\n",
       "    <tr>\n",
       "      <th>train_precision</th>\n",
       "      <td>0.469240</td>\n",
       "      <td>0.923715</td>\n",
       "    </tr>\n",
       "  </tbody>\n",
       "</table>\n",
       "</div>"
      ],
      "text/plain": [
       "                   logreg      tree\n",
       "test_f1          0.541664  0.595357\n",
       "train_f1         0.544537  0.886545\n",
       "test_accuracy    0.579897  0.692862\n",
       "train_accuracy   0.582094  0.916604\n",
       "test_roc_auc     0.625900  0.693622\n",
       "train_roc_auc    0.628379  0.982932\n",
       "test_recall      0.658593  0.591271\n",
       "train_recall     0.662519  0.852267\n",
       "test_precision   0.466841  0.599677\n",
       "train_precision  0.469240  0.923715"
      ]
     },
     "execution_count": 52,
     "metadata": {},
     "output_type": "execute_result"
    }
   ],
   "source": [
    "df_rfe_smote_model = results_dataframe(models_4, model_cv_4, metric).T\n",
    "df_rfe_smote_model"
   ]
  },
  {
   "cell_type": "markdown",
   "metadata": {},
   "source": [
    "5. Steps: Scaling, oversampling with RandomOverSampler, model\n",
    "    \n",
    "Oversampling with RandomOverSampler doesn't have much difference with SMOTE for any of the models. DecisionTreeClassifier still has the highest performance."
   ]
  },
  {
   "cell_type": "code",
   "execution_count": 53,
   "metadata": {},
   "outputs": [
    {
     "name": "stderr",
     "output_type": "stream",
     "text": [
      "[Parallel(n_jobs=4)]: Using backend LokyBackend with 4 concurrent workers.\n",
      "[Parallel(n_jobs=4)]: Done   5 out of   5 | elapsed:    4.0s finished\n",
      "[Parallel(n_jobs=4)]: Using backend LokyBackend with 4 concurrent workers.\n",
      "[Parallel(n_jobs=4)]: Done   5 out of   5 | elapsed:    2.9s finished\n",
      "[Parallel(n_jobs=4)]: Using backend LokyBackend with 4 concurrent workers.\n",
      "[Parallel(n_jobs=4)]: Done   5 out of   5 | elapsed:    2.2s finished\n",
      "[Parallel(n_jobs=4)]: Using backend LokyBackend with 4 concurrent workers.\n",
      "[Parallel(n_jobs=4)]: Done   5 out of   5 | elapsed:    1.2s finished\n"
     ]
    }
   ],
   "source": [
    "models_5 = [('logreg', LogisticRegression(solver='saga')), ('tree', DecisionTreeClassifier(random_state=26)), ('sgdc', SGDClassifier(random_state=26)), ('nb', GaussianNB())]\n",
    "metric = ('f1', 'accuracy', 'roc_auc', 'recall', 'precision')\n",
    "pl_5 = pipe_scale_overs_model(models_5)\n",
    "model_cv_5 = model_evaluation(pl_5, metric)"
   ]
  },
  {
   "cell_type": "code",
   "execution_count": 54,
   "metadata": {},
   "outputs": [
    {
     "data": {
      "text/html": [
       "<div>\n",
       "<style scoped>\n",
       "    .dataframe tbody tr th:only-of-type {\n",
       "        vertical-align: middle;\n",
       "    }\n",
       "\n",
       "    .dataframe tbody tr th {\n",
       "        vertical-align: top;\n",
       "    }\n",
       "\n",
       "    .dataframe thead th {\n",
       "        text-align: right;\n",
       "    }\n",
       "</style>\n",
       "<table border=\"1\" class=\"dataframe\">\n",
       "  <thead>\n",
       "    <tr style=\"text-align: right;\">\n",
       "      <th></th>\n",
       "      <th>logreg</th>\n",
       "      <th>tree</th>\n",
       "      <th>sgdc</th>\n",
       "      <th>nb</th>\n",
       "    </tr>\n",
       "  </thead>\n",
       "  <tbody>\n",
       "    <tr>\n",
       "      <th>test_f1</th>\n",
       "      <td>0.564686</td>\n",
       "      <td>0.596319</td>\n",
       "      <td>0.573348</td>\n",
       "      <td>0.287712</td>\n",
       "    </tr>\n",
       "    <tr>\n",
       "      <th>train_f1</th>\n",
       "      <td>0.564433</td>\n",
       "      <td>0.939279</td>\n",
       "      <td>0.573360</td>\n",
       "      <td>0.289829</td>\n",
       "    </tr>\n",
       "    <tr>\n",
       "      <th>test_accuracy</th>\n",
       "      <td>0.570951</td>\n",
       "      <td>0.691027</td>\n",
       "      <td>0.561742</td>\n",
       "      <td>0.633578</td>\n",
       "    </tr>\n",
       "    <tr>\n",
       "      <th>train_accuracy</th>\n",
       "      <td>0.570451</td>\n",
       "      <td>0.953464</td>\n",
       "      <td>0.561742</td>\n",
       "      <td>0.634193</td>\n",
       "    </tr>\n",
       "    <tr>\n",
       "      <th>test_roc_auc</th>\n",
       "      <td>0.637996</td>\n",
       "      <td>0.681793</td>\n",
       "      <td>0.628464</td>\n",
       "      <td>0.655340</td>\n",
       "    </tr>\n",
       "    <tr>\n",
       "      <th>train_roc_auc</th>\n",
       "      <td>0.639191</td>\n",
       "      <td>0.994993</td>\n",
       "      <td>0.630111</td>\n",
       "      <td>0.656341</td>\n",
       "    </tr>\n",
       "    <tr>\n",
       "      <th>test_recall</th>\n",
       "      <td>0.728200</td>\n",
       "      <td>0.596931</td>\n",
       "      <td>0.770470</td>\n",
       "      <td>0.193863</td>\n",
       "    </tr>\n",
       "    <tr>\n",
       "      <th>train_recall</th>\n",
       "      <td>0.728307</td>\n",
       "      <td>0.941675</td>\n",
       "      <td>0.770471</td>\n",
       "      <td>0.195361</td>\n",
       "    </tr>\n",
       "    <tr>\n",
       "      <th>test_precision</th>\n",
       "      <td>0.461191</td>\n",
       "      <td>0.595819</td>\n",
       "      <td>0.456555</td>\n",
       "      <td>0.559309</td>\n",
       "    </tr>\n",
       "    <tr>\n",
       "      <th>train_precision</th>\n",
       "      <td>0.460873</td>\n",
       "      <td>0.936899</td>\n",
       "      <td>0.456559</td>\n",
       "      <td>0.562071</td>\n",
       "    </tr>\n",
       "  </tbody>\n",
       "</table>\n",
       "</div>"
      ],
      "text/plain": [
       "                   logreg      tree      sgdc        nb\n",
       "test_f1          0.564686  0.596319  0.573348  0.287712\n",
       "train_f1         0.564433  0.939279  0.573360  0.289829\n",
       "test_accuracy    0.570951  0.691027  0.561742  0.633578\n",
       "train_accuracy   0.570451  0.953464  0.561742  0.634193\n",
       "test_roc_auc     0.637996  0.681793  0.628464  0.655340\n",
       "train_roc_auc    0.639191  0.994993  0.630111  0.656341\n",
       "test_recall      0.728200  0.596931  0.770470  0.193863\n",
       "train_recall     0.728307  0.941675  0.770471  0.195361\n",
       "test_precision   0.461191  0.595819  0.456555  0.559309\n",
       "train_precision  0.460873  0.936899  0.456559  0.562071"
      ]
     },
     "execution_count": 54,
     "metadata": {},
     "output_type": "execute_result"
    }
   ],
   "source": [
    "df_overs_model = results_dataframe(models_5, model_cv_5, metric).T\n",
    "df_overs_model"
   ]
  },
  {
   "cell_type": "markdown",
   "metadata": {},
   "source": [
    "6. Steps: Scaling, combined oversampling and undersampling with SMOTETomek, model\n",
    "\n",
    "in this step, we use the combination of oversampling and undersampling with SMOTETomek. not much difference with only oversampling with RandomOverSampler or SMOTE."
   ]
  },
  {
   "cell_type": "code",
   "execution_count": 55,
   "metadata": {},
   "outputs": [
    {
     "name": "stderr",
     "output_type": "stream",
     "text": [
      "[Parallel(n_jobs=4)]: Using backend LokyBackend with 4 concurrent workers.\n",
      "[Parallel(n_jobs=4)]: Done   5 out of   5 | elapsed:  2.3min finished\n",
      "[Parallel(n_jobs=4)]: Using backend LokyBackend with 4 concurrent workers.\n",
      "[Parallel(n_jobs=4)]: Done   5 out of   5 | elapsed:  2.0min finished\n",
      "[Parallel(n_jobs=4)]: Using backend LokyBackend with 4 concurrent workers.\n",
      "[Parallel(n_jobs=4)]: Done   5 out of   5 | elapsed:  2.2min finished\n",
      "[Parallel(n_jobs=4)]: Using backend LokyBackend with 4 concurrent workers.\n",
      "[Parallel(n_jobs=4)]: Done   5 out of   5 | elapsed:  2.0min finished\n"
     ]
    }
   ],
   "source": [
    "models_6 = [('logreg', LogisticRegression(solver='saga')), ('tree', DecisionTreeClassifier(random_state=26)), ('sgdc', SGDClassifier(random_state=26)), ('nb', GaussianNB())]\n",
    "metric = ('f1', 'accuracy', 'roc_auc', 'recall', 'precision')\n",
    "pl_6 = pipe_scale_overs_unders_model(models_6)\n",
    "model_cv_6 = model_evaluation(pl_6, metric)"
   ]
  },
  {
   "cell_type": "code",
   "execution_count": 56,
   "metadata": {},
   "outputs": [
    {
     "data": {
      "text/html": [
       "<div>\n",
       "<style scoped>\n",
       "    .dataframe tbody tr th:only-of-type {\n",
       "        vertical-align: middle;\n",
       "    }\n",
       "\n",
       "    .dataframe tbody tr th {\n",
       "        vertical-align: top;\n",
       "    }\n",
       "\n",
       "    .dataframe thead th {\n",
       "        text-align: right;\n",
       "    }\n",
       "</style>\n",
       "<table border=\"1\" class=\"dataframe\">\n",
       "  <thead>\n",
       "    <tr style=\"text-align: right;\">\n",
       "      <th></th>\n",
       "      <th>logreg</th>\n",
       "      <th>tree</th>\n",
       "      <th>sgdc</th>\n",
       "      <th>nb</th>\n",
       "    </tr>\n",
       "  </thead>\n",
       "  <tbody>\n",
       "    <tr>\n",
       "      <th>test_f1</th>\n",
       "      <td>0.569260</td>\n",
       "      <td>0.595363</td>\n",
       "      <td>0.573348</td>\n",
       "      <td>0.290003</td>\n",
       "    </tr>\n",
       "    <tr>\n",
       "      <th>train_f1</th>\n",
       "      <td>0.569521</td>\n",
       "      <td>0.915424</td>\n",
       "      <td>0.573360</td>\n",
       "      <td>0.291697</td>\n",
       "    </tr>\n",
       "    <tr>\n",
       "      <th>test_accuracy</th>\n",
       "      <td>0.564921</td>\n",
       "      <td>0.682342</td>\n",
       "      <td>0.561742</td>\n",
       "      <td>0.633939</td>\n",
       "    </tr>\n",
       "    <tr>\n",
       "      <th>train_accuracy</th>\n",
       "      <td>0.565019</td>\n",
       "      <td>0.935931</td>\n",
       "      <td>0.561742</td>\n",
       "      <td>0.634471</td>\n",
       "    </tr>\n",
       "    <tr>\n",
       "      <th>test_roc_auc</th>\n",
       "      <td>0.638128</td>\n",
       "      <td>0.678943</td>\n",
       "      <td>0.628043</td>\n",
       "      <td>0.662980</td>\n",
       "    </tr>\n",
       "    <tr>\n",
       "      <th>train_roc_auc</th>\n",
       "      <td>0.639277</td>\n",
       "      <td>0.978116</td>\n",
       "      <td>0.631961</td>\n",
       "      <td>0.663792</td>\n",
       "    </tr>\n",
       "    <tr>\n",
       "      <th>test_recall</th>\n",
       "      <td>0.752207</td>\n",
       "      <td>0.611421</td>\n",
       "      <td>0.770470</td>\n",
       "      <td>0.195835</td>\n",
       "    </tr>\n",
       "    <tr>\n",
       "      <th>train_recall</th>\n",
       "      <td>0.752808</td>\n",
       "      <td>0.907142</td>\n",
       "      <td>0.770471</td>\n",
       "      <td>0.196990</td>\n",
       "    </tr>\n",
       "    <tr>\n",
       "      <th>test_precision</th>\n",
       "      <td>0.457898</td>\n",
       "      <td>0.580146</td>\n",
       "      <td>0.456555</td>\n",
       "      <td>0.560071</td>\n",
       "    </tr>\n",
       "    <tr>\n",
       "      <th>train_precision</th>\n",
       "      <td>0.458013</td>\n",
       "      <td>0.923860</td>\n",
       "      <td>0.456559</td>\n",
       "      <td>0.562602</td>\n",
       "    </tr>\n",
       "  </tbody>\n",
       "</table>\n",
       "</div>"
      ],
      "text/plain": [
       "                   logreg      tree      sgdc        nb\n",
       "test_f1          0.569260  0.595363  0.573348  0.290003\n",
       "train_f1         0.569521  0.915424  0.573360  0.291697\n",
       "test_accuracy    0.564921  0.682342  0.561742  0.633939\n",
       "train_accuracy   0.565019  0.935931  0.561742  0.634471\n",
       "test_roc_auc     0.638128  0.678943  0.628043  0.662980\n",
       "train_roc_auc    0.639277  0.978116  0.631961  0.663792\n",
       "test_recall      0.752207  0.611421  0.770470  0.195835\n",
       "train_recall     0.752808  0.907142  0.770471  0.196990\n",
       "test_precision   0.457898  0.580146  0.456555  0.560071\n",
       "train_precision  0.458013  0.923860  0.456559  0.562602"
      ]
     },
     "execution_count": 56,
     "metadata": {},
     "output_type": "execute_result"
    }
   ],
   "source": [
    "df_overs_unders_model = results_dataframe(models_6, model_cv_6, metric).T\n",
    "df_overs_unders_model"
   ]
  },
  {
   "cell_type": "markdown",
   "metadata": {},
   "source": [
    "7. Steps: Combined oversampling and undersampling with SMOTEENN, model\n",
    "\n",
    "SMOTEENN combined oversampling with SMOTE and undersampling with ENN (EditedNearestNeighbours). DecisionTreeClassifier performance increased with this method compared to SMOTETomek. NaiveBayes improved greatly while LogisticRegression only slightly.\n",
    "\n",
    "DecisionTreeClassfier score reaches 0.638, which is the best of all steps and models we have tried. we will use this strategy for further model improvement"
   ]
  },
  {
   "cell_type": "code",
   "execution_count": 57,
   "metadata": {},
   "outputs": [
    {
     "name": "stderr",
     "output_type": "stream",
     "text": [
      "[Parallel(n_jobs=4)]: Using backend LokyBackend with 4 concurrent workers.\n",
      "[Parallel(n_jobs=4)]: Done   5 out of   5 | elapsed:  1.8min finished\n",
      "[Parallel(n_jobs=4)]: Using backend LokyBackend with 4 concurrent workers.\n",
      "[Parallel(n_jobs=4)]: Done   5 out of   5 | elapsed:  1.9min finished\n",
      "[Parallel(n_jobs=4)]: Using backend LokyBackend with 4 concurrent workers.\n",
      "[Parallel(n_jobs=4)]: Done   5 out of   5 | elapsed:  1.9min finished\n",
      "[Parallel(n_jobs=4)]: Using backend LokyBackend with 4 concurrent workers.\n",
      "[Parallel(n_jobs=4)]: Done   5 out of   5 | elapsed:  1.8min finished\n"
     ]
    }
   ],
   "source": [
    "models_7 = [('logreg', LogisticRegression(solver='saga')), ('tree', DecisionTreeClassifier(random_state=26)), ('sgdc', SGDClassifier(random_state=26)), ('nb', GaussianNB())]\n",
    "metric = ('f1', 'accuracy', 'roc_auc', 'recall', 'precision')\n",
    "pl_7 = pipe_scale_overs_unders_enn_model(models_7)\n",
    "model_cv_7 = model_evaluation(pl_7, metric)"
   ]
  },
  {
   "cell_type": "code",
   "execution_count": 58,
   "metadata": {},
   "outputs": [
    {
     "data": {
      "text/html": [
       "<div>\n",
       "<style scoped>\n",
       "    .dataframe tbody tr th:only-of-type {\n",
       "        vertical-align: middle;\n",
       "    }\n",
       "\n",
       "    .dataframe tbody tr th {\n",
       "        vertical-align: top;\n",
       "    }\n",
       "\n",
       "    .dataframe thead th {\n",
       "        text-align: right;\n",
       "    }\n",
       "</style>\n",
       "<table border=\"1\" class=\"dataframe\">\n",
       "  <thead>\n",
       "    <tr style=\"text-align: right;\">\n",
       "      <th></th>\n",
       "      <th>logreg</th>\n",
       "      <th>tree</th>\n",
       "      <th>sgdc</th>\n",
       "      <th>nb</th>\n",
       "    </tr>\n",
       "  </thead>\n",
       "  <tbody>\n",
       "    <tr>\n",
       "      <th>test_f1</th>\n",
       "      <td>0.577427</td>\n",
       "      <td>0.638258</td>\n",
       "      <td>0.573640</td>\n",
       "      <td>0.402365</td>\n",
       "    </tr>\n",
       "    <tr>\n",
       "      <th>train_f1</th>\n",
       "      <td>0.577575</td>\n",
       "      <td>0.744536</td>\n",
       "      <td>0.573680</td>\n",
       "      <td>0.406410</td>\n",
       "    </tr>\n",
       "    <tr>\n",
       "      <th>test_accuracy</th>\n",
       "      <td>0.520253</td>\n",
       "      <td>0.631055</td>\n",
       "      <td>0.561873</td>\n",
       "      <td>0.642427</td>\n",
       "    </tr>\n",
       "    <tr>\n",
       "      <th>train_accuracy</th>\n",
       "      <td>0.520376</td>\n",
       "      <td>0.740431</td>\n",
       "      <td>0.561865</td>\n",
       "      <td>0.645138</td>\n",
       "    </tr>\n",
       "    <tr>\n",
       "      <th>test_roc_auc</th>\n",
       "      <td>0.637309</td>\n",
       "      <td>0.674355</td>\n",
       "      <td>0.628893</td>\n",
       "      <td>0.695687</td>\n",
       "    </tr>\n",
       "    <tr>\n",
       "      <th>train_roc_auc</th>\n",
       "      <td>0.638428</td>\n",
       "      <td>0.790917</td>\n",
       "      <td>0.629604</td>\n",
       "      <td>0.696809</td>\n",
       "    </tr>\n",
       "    <tr>\n",
       "      <th>test_recall</th>\n",
       "      <td>0.857583</td>\n",
       "      <td>0.851582</td>\n",
       "      <td>0.771156</td>\n",
       "      <td>0.322484</td>\n",
       "    </tr>\n",
       "    <tr>\n",
       "      <th>train_recall</th>\n",
       "      <td>0.857841</td>\n",
       "      <td>0.989582</td>\n",
       "      <td>0.771264</td>\n",
       "      <td>0.325450</td>\n",
       "    </tr>\n",
       "    <tr>\n",
       "      <th>test_precision</th>\n",
       "      <td>0.435293</td>\n",
       "      <td>0.510407</td>\n",
       "      <td>0.456685</td>\n",
       "      <td>0.556472</td>\n",
       "    </tr>\n",
       "    <tr>\n",
       "      <th>train_precision</th>\n",
       "      <td>0.435372</td>\n",
       "      <td>0.596768</td>\n",
       "      <td>0.456686</td>\n",
       "      <td>0.563680</td>\n",
       "    </tr>\n",
       "  </tbody>\n",
       "</table>\n",
       "</div>"
      ],
      "text/plain": [
       "                   logreg      tree      sgdc        nb\n",
       "test_f1          0.577427  0.638258  0.573640  0.402365\n",
       "train_f1         0.577575  0.744536  0.573680  0.406410\n",
       "test_accuracy    0.520253  0.631055  0.561873  0.642427\n",
       "train_accuracy   0.520376  0.740431  0.561865  0.645138\n",
       "test_roc_auc     0.637309  0.674355  0.628893  0.695687\n",
       "train_roc_auc    0.638428  0.790917  0.629604  0.696809\n",
       "test_recall      0.857583  0.851582  0.771156  0.322484\n",
       "train_recall     0.857841  0.989582  0.771264  0.325450\n",
       "test_precision   0.435293  0.510407  0.456685  0.556472\n",
       "train_precision  0.435372  0.596768  0.456686  0.563680"
      ]
     },
     "execution_count": 58,
     "metadata": {},
     "output_type": "execute_result"
    }
   ],
   "source": [
    "df_overs_unders_enn_model = results_dataframe(models_7, model_cv_7, metric).T\n",
    "df_overs_unders_enn_model"
   ]
  },
  {
   "cell_type": "markdown",
   "metadata": {},
   "source": [
    "### Summary of cross validation for DecisionTreeClassifier\n",
    "\n",
    "best strategy: combined oversampling and undersampling with SMOTEENN + model\n",
    "\n",
    "test f1 score = 0.638"
   ]
  },
  {
   "cell_type": "code",
   "execution_count": 59,
   "metadata": {},
   "outputs": [],
   "source": [
    "def summary_df(name):\n",
    "    return pd.concat([df_model[[name]].rename(columns={name:'model'}),\n",
    "           df_smote_model[[name]].rename(columns={name:'SMOTE+model'}),\n",
    "           df_scale_smote_model[[name]].rename(columns={name:'Scaling+SMOTE+model'}),\n",
    "           df_rfe_smote_model[[name]].rename(columns={name:'RFE+SMOTE+model'}),\n",
    "           df_overs_model[[name]].rename(columns={name:'Scaling+RandOverSamp+model'}),\n",
    "           df_overs_unders_model[[name]].rename(columns={name:'Scaling+SMOTETomek+model'}), \n",
    "          df_overs_unders_enn_model[[name]].rename(columns={name:'Scaling+SMOTEENN+model'})], axis=1)"
   ]
  },
  {
   "cell_type": "code",
   "execution_count": 60,
   "metadata": {},
   "outputs": [
    {
     "data": {
      "text/html": [
       "<div>\n",
       "<style scoped>\n",
       "    .dataframe tbody tr th:only-of-type {\n",
       "        vertical-align: middle;\n",
       "    }\n",
       "\n",
       "    .dataframe tbody tr th {\n",
       "        vertical-align: top;\n",
       "    }\n",
       "\n",
       "    .dataframe thead th {\n",
       "        text-align: right;\n",
       "    }\n",
       "</style>\n",
       "<table border=\"1\" class=\"dataframe\">\n",
       "  <thead>\n",
       "    <tr style=\"text-align: right;\">\n",
       "      <th></th>\n",
       "      <th>model</th>\n",
       "      <th>SMOTE+model</th>\n",
       "      <th>Scaling+SMOTE+model</th>\n",
       "      <th>RFE+SMOTE+model</th>\n",
       "      <th>Scaling+RandOverSamp+model</th>\n",
       "      <th>Scaling+SMOTETomek+model</th>\n",
       "      <th>Scaling+SMOTEENN+model</th>\n",
       "    </tr>\n",
       "  </thead>\n",
       "  <tbody>\n",
       "    <tr>\n",
       "      <th>test_f1</th>\n",
       "      <td>0.584766</td>\n",
       "      <td>0.584995</td>\n",
       "      <td>0.594728</td>\n",
       "      <td>0.595357</td>\n",
       "      <td>0.596319</td>\n",
       "      <td>0.595363</td>\n",
       "      <td>0.638258</td>\n",
       "    </tr>\n",
       "    <tr>\n",
       "      <th>train_f1</th>\n",
       "      <td>0.938086</td>\n",
       "      <td>0.938183</td>\n",
       "      <td>0.938178</td>\n",
       "      <td>0.886545</td>\n",
       "      <td>0.939279</td>\n",
       "      <td>0.915424</td>\n",
       "      <td>0.744536</td>\n",
       "    </tr>\n",
       "    <tr>\n",
       "      <th>test_accuracy</th>\n",
       "      <td>0.691126</td>\n",
       "      <td>0.687586</td>\n",
       "      <td>0.688733</td>\n",
       "      <td>0.692862</td>\n",
       "      <td>0.691027</td>\n",
       "      <td>0.682342</td>\n",
       "      <td>0.631055</td>\n",
       "    </tr>\n",
       "    <tr>\n",
       "      <th>train_accuracy</th>\n",
       "      <td>0.954349</td>\n",
       "      <td>0.954308</td>\n",
       "      <td>0.954308</td>\n",
       "      <td>0.916604</td>\n",
       "      <td>0.953464</td>\n",
       "      <td>0.935931</td>\n",
       "      <td>0.740431</td>\n",
       "    </tr>\n",
       "    <tr>\n",
       "      <th>test_roc_auc</th>\n",
       "      <td>0.680079</td>\n",
       "      <td>0.677313</td>\n",
       "      <td>0.683037</td>\n",
       "      <td>0.693622</td>\n",
       "      <td>0.681793</td>\n",
       "      <td>0.678943</td>\n",
       "      <td>0.674355</td>\n",
       "    </tr>\n",
       "    <tr>\n",
       "      <th>train_roc_auc</th>\n",
       "      <td>0.995240</td>\n",
       "      <td>0.995215</td>\n",
       "      <td>0.995213</td>\n",
       "      <td>0.982932</td>\n",
       "      <td>0.994993</td>\n",
       "      <td>0.978116</td>\n",
       "      <td>0.790917</td>\n",
       "    </tr>\n",
       "    <tr>\n",
       "      <th>test_recall</th>\n",
       "      <td>0.569066</td>\n",
       "      <td>0.576095</td>\n",
       "      <td>0.597532</td>\n",
       "      <td>0.591271</td>\n",
       "      <td>0.596931</td>\n",
       "      <td>0.611421</td>\n",
       "      <td>0.851582</td>\n",
       "    </tr>\n",
       "    <tr>\n",
       "      <th>train_recall</th>\n",
       "      <td>0.904827</td>\n",
       "      <td>0.907164</td>\n",
       "      <td>0.907078</td>\n",
       "      <td>0.852267</td>\n",
       "      <td>0.941675</td>\n",
       "      <td>0.907142</td>\n",
       "      <td>0.989582</td>\n",
       "    </tr>\n",
       "    <tr>\n",
       "      <th>test_precision</th>\n",
       "      <td>0.601541</td>\n",
       "      <td>0.594288</td>\n",
       "      <td>0.592015</td>\n",
       "      <td>0.599677</td>\n",
       "      <td>0.595819</td>\n",
       "      <td>0.580146</td>\n",
       "      <td>0.510407</td>\n",
       "    </tr>\n",
       "    <tr>\n",
       "      <th>train_precision</th>\n",
       "      <td>0.973884</td>\n",
       "      <td>0.971401</td>\n",
       "      <td>0.971488</td>\n",
       "      <td>0.923715</td>\n",
       "      <td>0.936899</td>\n",
       "      <td>0.923860</td>\n",
       "      <td>0.596768</td>\n",
       "    </tr>\n",
       "  </tbody>\n",
       "</table>\n",
       "</div>"
      ],
      "text/plain": [
       "                    model  SMOTE+model  Scaling+SMOTE+model  RFE+SMOTE+model  \\\n",
       "test_f1          0.584766     0.584995             0.594728         0.595357   \n",
       "train_f1         0.938086     0.938183             0.938178         0.886545   \n",
       "test_accuracy    0.691126     0.687586             0.688733         0.692862   \n",
       "train_accuracy   0.954349     0.954308             0.954308         0.916604   \n",
       "test_roc_auc     0.680079     0.677313             0.683037         0.693622   \n",
       "train_roc_auc    0.995240     0.995215             0.995213         0.982932   \n",
       "test_recall      0.569066     0.576095             0.597532         0.591271   \n",
       "train_recall     0.904827     0.907164             0.907078         0.852267   \n",
       "test_precision   0.601541     0.594288             0.592015         0.599677   \n",
       "train_precision  0.973884     0.971401             0.971488         0.923715   \n",
       "\n",
       "                 Scaling+RandOverSamp+model  Scaling+SMOTETomek+model  \\\n",
       "test_f1                            0.596319                  0.595363   \n",
       "train_f1                           0.939279                  0.915424   \n",
       "test_accuracy                      0.691027                  0.682342   \n",
       "train_accuracy                     0.953464                  0.935931   \n",
       "test_roc_auc                       0.681793                  0.678943   \n",
       "train_roc_auc                      0.994993                  0.978116   \n",
       "test_recall                        0.596931                  0.611421   \n",
       "train_recall                       0.941675                  0.907142   \n",
       "test_precision                     0.595819                  0.580146   \n",
       "train_precision                    0.936899                  0.923860   \n",
       "\n",
       "                 Scaling+SMOTEENN+model  \n",
       "test_f1                        0.638258  \n",
       "train_f1                       0.744536  \n",
       "test_accuracy                  0.631055  \n",
       "train_accuracy                 0.740431  \n",
       "test_roc_auc                   0.674355  \n",
       "train_roc_auc                  0.790917  \n",
       "test_recall                    0.851582  \n",
       "train_recall                   0.989582  \n",
       "test_precision                 0.510407  \n",
       "train_precision                0.596768  "
      ]
     },
     "execution_count": 60,
     "metadata": {},
     "output_type": "execute_result"
    }
   ],
   "source": [
    "summary_df_dtc = summary_df('tree')\n",
    "summary_df_dtc"
   ]
  },
  {
   "cell_type": "code",
   "execution_count": 61,
   "metadata": {},
   "outputs": [
    {
     "data": {
      "text/html": [
       "<div>\n",
       "<style scoped>\n",
       "    .dataframe tbody tr th:only-of-type {\n",
       "        vertical-align: middle;\n",
       "    }\n",
       "\n",
       "    .dataframe tbody tr th {\n",
       "        vertical-align: top;\n",
       "    }\n",
       "\n",
       "    .dataframe thead th {\n",
       "        text-align: right;\n",
       "    }\n",
       "</style>\n",
       "<table border=\"1\" class=\"dataframe\">\n",
       "  <thead>\n",
       "    <tr style=\"text-align: right;\">\n",
       "      <th></th>\n",
       "      <th>model</th>\n",
       "      <th>SMOTE+model</th>\n",
       "      <th>Scaling+SMOTE+model</th>\n",
       "      <th>RFE+SMOTE+model</th>\n",
       "      <th>Scaling+RandOverSamp+model</th>\n",
       "      <th>Scaling+SMOTETomek+model</th>\n",
       "      <th>Scaling+SMOTEENN+model</th>\n",
       "    </tr>\n",
       "  </thead>\n",
       "  <tbody>\n",
       "    <tr>\n",
       "      <th>test_f1</th>\n",
       "      <td>0.039886</td>\n",
       "      <td>0.523544</td>\n",
       "      <td>0.564673</td>\n",
       "      <td>0.541664</td>\n",
       "      <td>0.564686</td>\n",
       "      <td>0.569260</td>\n",
       "      <td>0.577427</td>\n",
       "    </tr>\n",
       "    <tr>\n",
       "      <th>train_f1</th>\n",
       "      <td>0.040612</td>\n",
       "      <td>0.523922</td>\n",
       "      <td>0.565084</td>\n",
       "      <td>0.544537</td>\n",
       "      <td>0.564433</td>\n",
       "      <td>0.569521</td>\n",
       "      <td>0.577575</td>\n",
       "    </tr>\n",
       "    <tr>\n",
       "      <th>test_accuracy</th>\n",
       "      <td>0.618339</td>\n",
       "      <td>0.439601</td>\n",
       "      <td>0.569869</td>\n",
       "      <td>0.579897</td>\n",
       "      <td>0.570951</td>\n",
       "      <td>0.564921</td>\n",
       "      <td>0.520253</td>\n",
       "    </tr>\n",
       "    <tr>\n",
       "      <th>train_accuracy</th>\n",
       "      <td>0.618380</td>\n",
       "      <td>0.440077</td>\n",
       "      <td>0.570017</td>\n",
       "      <td>0.582094</td>\n",
       "      <td>0.570451</td>\n",
       "      <td>0.565019</td>\n",
       "      <td>0.520376</td>\n",
       "    </tr>\n",
       "    <tr>\n",
       "      <th>test_roc_auc</th>\n",
       "      <td>0.500985</td>\n",
       "      <td>0.525677</td>\n",
       "      <td>0.637795</td>\n",
       "      <td>0.625900</td>\n",
       "      <td>0.637996</td>\n",
       "      <td>0.638128</td>\n",
       "      <td>0.637309</td>\n",
       "    </tr>\n",
       "    <tr>\n",
       "      <th>train_roc_auc</th>\n",
       "      <td>0.501346</td>\n",
       "      <td>0.526070</td>\n",
       "      <td>0.639112</td>\n",
       "      <td>0.628379</td>\n",
       "      <td>0.639191</td>\n",
       "      <td>0.639277</td>\n",
       "      <td>0.638428</td>\n",
       "    </tr>\n",
       "    <tr>\n",
       "      <th>test_recall</th>\n",
       "      <td>0.020750</td>\n",
       "      <td>0.805967</td>\n",
       "      <td>0.730002</td>\n",
       "      <td>0.658593</td>\n",
       "      <td>0.728200</td>\n",
       "      <td>0.752207</td>\n",
       "      <td>0.857583</td>\n",
       "    </tr>\n",
       "    <tr>\n",
       "      <th>train_recall</th>\n",
       "      <td>0.021135</td>\n",
       "      <td>0.806246</td>\n",
       "      <td>0.730922</td>\n",
       "      <td>0.662519</td>\n",
       "      <td>0.728307</td>\n",
       "      <td>0.752808</td>\n",
       "      <td>0.857841</td>\n",
       "    </tr>\n",
       "    <tr>\n",
       "      <th>test_precision</th>\n",
       "      <td>0.520992</td>\n",
       "      <td>0.387770</td>\n",
       "      <td>0.460457</td>\n",
       "      <td>0.466841</td>\n",
       "      <td>0.461191</td>\n",
       "      <td>0.457898</td>\n",
       "      <td>0.435293</td>\n",
       "    </tr>\n",
       "    <tr>\n",
       "      <th>train_precision</th>\n",
       "      <td>0.519775</td>\n",
       "      <td>0.388124</td>\n",
       "      <td>0.460653</td>\n",
       "      <td>0.469240</td>\n",
       "      <td>0.460873</td>\n",
       "      <td>0.458013</td>\n",
       "      <td>0.435372</td>\n",
       "    </tr>\n",
       "  </tbody>\n",
       "</table>\n",
       "</div>"
      ],
      "text/plain": [
       "                    model  SMOTE+model  Scaling+SMOTE+model  RFE+SMOTE+model  \\\n",
       "test_f1          0.039886     0.523544             0.564673         0.541664   \n",
       "train_f1         0.040612     0.523922             0.565084         0.544537   \n",
       "test_accuracy    0.618339     0.439601             0.569869         0.579897   \n",
       "train_accuracy   0.618380     0.440077             0.570017         0.582094   \n",
       "test_roc_auc     0.500985     0.525677             0.637795         0.625900   \n",
       "train_roc_auc    0.501346     0.526070             0.639112         0.628379   \n",
       "test_recall      0.020750     0.805967             0.730002         0.658593   \n",
       "train_recall     0.021135     0.806246             0.730922         0.662519   \n",
       "test_precision   0.520992     0.387770             0.460457         0.466841   \n",
       "train_precision  0.519775     0.388124             0.460653         0.469240   \n",
       "\n",
       "                 Scaling+RandOverSamp+model  Scaling+SMOTETomek+model  \\\n",
       "test_f1                            0.564686                  0.569260   \n",
       "train_f1                           0.564433                  0.569521   \n",
       "test_accuracy                      0.570951                  0.564921   \n",
       "train_accuracy                     0.570451                  0.565019   \n",
       "test_roc_auc                       0.637996                  0.638128   \n",
       "train_roc_auc                      0.639191                  0.639277   \n",
       "test_recall                        0.728200                  0.752207   \n",
       "train_recall                       0.728307                  0.752808   \n",
       "test_precision                     0.461191                  0.457898   \n",
       "train_precision                    0.460873                  0.458013   \n",
       "\n",
       "                 Scaling+SMOTEENN+model  \n",
       "test_f1                        0.577427  \n",
       "train_f1                       0.577575  \n",
       "test_accuracy                  0.520253  \n",
       "train_accuracy                 0.520376  \n",
       "test_roc_auc                   0.637309  \n",
       "train_roc_auc                  0.638428  \n",
       "test_recall                    0.857583  \n",
       "train_recall                   0.857841  \n",
       "test_precision                 0.435293  \n",
       "train_precision                0.435372  "
      ]
     },
     "execution_count": 61,
     "metadata": {},
     "output_type": "execute_result"
    }
   ],
   "source": [
    "summary_df_logreg = summary_df('logreg')\n",
    "summary_df_logreg"
   ]
  },
  {
   "cell_type": "code",
   "execution_count": 62,
   "metadata": {},
   "outputs": [
    {
     "data": {
      "text/html": [
       "<div>\n",
       "<style scoped>\n",
       "    .dataframe tbody tr th:only-of-type {\n",
       "        vertical-align: middle;\n",
       "    }\n",
       "\n",
       "    .dataframe tbody tr th {\n",
       "        vertical-align: top;\n",
       "    }\n",
       "\n",
       "    .dataframe thead th {\n",
       "        text-align: right;\n",
       "    }\n",
       "</style>\n",
       "<table border=\"1\" class=\"dataframe\">\n",
       "  <thead>\n",
       "    <tr style=\"text-align: right;\">\n",
       "      <th></th>\n",
       "      <th>test_f1</th>\n",
       "    </tr>\n",
       "  </thead>\n",
       "  <tbody>\n",
       "    <tr>\n",
       "      <th>model</th>\n",
       "      <td>0.584766</td>\n",
       "    </tr>\n",
       "    <tr>\n",
       "      <th>SMOTE+model</th>\n",
       "      <td>0.584995</td>\n",
       "    </tr>\n",
       "    <tr>\n",
       "      <th>Scaling+SMOTE+model</th>\n",
       "      <td>0.594728</td>\n",
       "    </tr>\n",
       "    <tr>\n",
       "      <th>RFE+SMOTE+model</th>\n",
       "      <td>0.595357</td>\n",
       "    </tr>\n",
       "    <tr>\n",
       "      <th>Scaling+RandOverSamp+model</th>\n",
       "      <td>0.596319</td>\n",
       "    </tr>\n",
       "    <tr>\n",
       "      <th>Scaling+SMOTETomek+model</th>\n",
       "      <td>0.595363</td>\n",
       "    </tr>\n",
       "    <tr>\n",
       "      <th>Scaling+SMOTEENN+model</th>\n",
       "      <td>0.638258</td>\n",
       "    </tr>\n",
       "  </tbody>\n",
       "</table>\n",
       "</div>"
      ],
      "text/plain": [
       "                             test_f1\n",
       "model                       0.584766\n",
       "SMOTE+model                 0.584995\n",
       "Scaling+SMOTE+model         0.594728\n",
       "RFE+SMOTE+model             0.595357\n",
       "Scaling+RandOverSamp+model  0.596319\n",
       "Scaling+SMOTETomek+model    0.595363\n",
       "Scaling+SMOTEENN+model      0.638258"
      ]
     },
     "execution_count": 62,
     "metadata": {},
     "output_type": "execute_result"
    }
   ],
   "source": [
    "scores = summary_df_dtc.loc['test_f1'].T.to_frame()\n",
    "scores"
   ]
  },
  {
   "cell_type": "markdown",
   "metadata": {},
   "source": [
    "## Model Improvement\n",
    "\n",
    "strategies:\n",
    "1. Boosting with AdaBoostClassifier\n",
    "1. Bagging with RandomForestClassifier\n",
    "1. Hyperparameter tuning for RandomForestClassifier\n",
    "\n",
    "all the strategies are fitted with X_train_val, y_train_val and then evaluated on the test set (X_test, y_test)"
   ]
  },
  {
   "cell_type": "code",
   "execution_count": 63,
   "metadata": {},
   "outputs": [],
   "source": [
    "scaler = MinMaxScaler()\n",
    "X_train_val_scaled = scaler.fit_transform(X_train_val_prep)\n",
    "X_test_scaled = scaler.transform(X_test_prep)"
   ]
  },
  {
   "cell_type": "markdown",
   "metadata": {},
   "source": [
    "### Evaluate the best DecisionTreeClassifier  on test set\n",
    "\n",
    "the best model from previous section, which is DecisionTreeClassifier with scaling and SMOTEENN, is evaluated on test set. result: F1 score = 0.64"
   ]
  },
  {
   "cell_type": "code",
   "execution_count": 64,
   "metadata": {},
   "outputs": [
    {
     "data": {
      "text/plain": [
       "Pipeline(steps=[('scaler', MinMaxScaler()),\n",
       "                ('sampling',\n",
       "                 SMOTEENN(enn=EditedNearestNeighbours(sampling_strategy='majority'))),\n",
       "                ('model', DecisionTreeClassifier(random_state=26))])"
      ]
     },
     "execution_count": 64,
     "metadata": {},
     "output_type": "execute_result"
    }
   ],
   "source": [
    "pl_7[1]"
   ]
  },
  {
   "cell_type": "code",
   "execution_count": 65,
   "metadata": {},
   "outputs": [
    {
     "name": "stdout",
     "output_type": "stream",
     "text": [
      "DTC with SMOTEENN\n",
      "              precision    recall  f1-score   support\n",
      "\n",
      "           0       0.84      0.50      0.63      9285\n",
      "           1       0.51      0.85      0.64      5745\n",
      "\n",
      "    accuracy                           0.63     15030\n",
      "   macro avg       0.68      0.68      0.63     15030\n",
      "weighted avg       0.72      0.63      0.63     15030\n",
      "\n"
     ]
    }
   ],
   "source": [
    "dtc_smoteENN = pl_7[1]\n",
    "dtc_smoteENN.fit(X_train_val_prep, y_train_val)\n",
    "print('DTC with SMOTEENN')\n",
    "print(classification_report(y_test, dtc_smoteENN.predict(X_test_prep)))"
   ]
  },
  {
   "cell_type": "code",
   "execution_count": 66,
   "metadata": {},
   "outputs": [
    {
     "data": {
      "image/png": "[encoded data removed]",
      "text/plain": [
       "<Figure size 432x288 with 2 Axes>"
      ]
     },
     "metadata": {
      "needs_background": "light"
     },
     "output_type": "display_data"
    }
   ],
   "source": [
    "plot_confusion_matrix(dtc_smoteENN, X_test_prep, y_test)\n",
    "plt.show()"
   ]
  },
  {
   "cell_type": "code",
   "execution_count": 67,
   "metadata": {},
   "outputs": [],
   "source": [
    "def plot_learning_curve_scoring(estimator, title, X, y, axes=None, ylim=None, cv=None, scoring=None,\n",
    "                        n_jobs=None, train_sizes=np.linspace(.1, 1.0, 5)):\n",
    "    \"\"\"\n",
    "    Generate 3 plots: the test and training learning curve, the training\n",
    "    samples vs fit times curve, the fit times vs score curve.\n",
    "\n",
    "    Parameters\n",
    "    ----------\n",
    "    estimator : estimator instance\n",
    "        An estimator instance implementing `fit` and `predict` methods which\n",
    "        will be cloned for each validation.\n",
    "\n",
    "    title : str\n",
    "        Title for the chart.\n",
    "\n",
    "    X : array-like of shape (n_samples, n_features)\n",
    "        Training vector, where ``n_samples`` is the number of samples and\n",
    "        ``n_features`` is the number of features.\n",
    "\n",
    "    y : array-like of shape (n_samples) or (n_samples, n_features)\n",
    "        Target relative to ``X`` for classification or regression;\n",
    "        None for unsupervised learning.\n",
    "\n",
    "    axes : array-like of shape (3,), default=None\n",
    "        Axes to use for plotting the curves.\n",
    "\n",
    "    ylim : tuple of shape (2,), default=None\n",
    "        Defines minimum and maximum y-values plotted, e.g. (ymin, ymax).\n",
    "\n",
    "    cv : int, cross-validation generator or an iterable, default=None\n",
    "        Determines the cross-validation splitting strategy.\n",
    "        Possible inputs for cv are:\n",
    "\n",
    "          - None, to use the default 5-fold cross-validation,\n",
    "          - integer, to specify the number of folds.\n",
    "          - :term:`CV splitter`,\n",
    "          - An iterable yielding (train, test) splits as arrays of indices.\n",
    "\n",
    "        For integer/None inputs, if ``y`` is binary or multiclass,\n",
    "        :class:`StratifiedKFold` used. If the estimator is not a classifier\n",
    "        or if ``y`` is neither binary nor multiclass, :class:`KFold` is used.\n",
    "\n",
    "        Refer :ref:`User Guide <cross_validation>` for the various\n",
    "        cross-validators that can be used here.\n",
    "\n",
    "    n_jobs : int or None, default=None\n",
    "        Number of jobs to run in parallel.\n",
    "        ``None`` means 1 unless in a :obj:`joblib.parallel_backend` context.\n",
    "        ``-1`` means using all processors. See :term:`Glossary <n_jobs>`\n",
    "        for more details.\n",
    "\n",
    "    train_sizes : array-like of shape (n_ticks,)\n",
    "        Relative or absolute numbers of training examples that will be used to\n",
    "        generate the learning curve. If the ``dtype`` is float, it is regarded\n",
    "        as a fraction of the maximum size of the training set (that is\n",
    "        determined by the selected validation method), i.e. it has to be within\n",
    "        (0, 1]. Otherwise it is interpreted as absolute sizes of the training\n",
    "        sets. Note that for classification the number of samples usually have\n",
    "        to be big enough to contain at least one sample from each class.\n",
    "        (default: np.linspace(0.1, 1.0, 5))\n",
    "    \"\"\"\n",
    "#     if axes is None:\n",
    "#         _, axes = plt.subplots(1, 3, figsize=(20, 5))\n",
    "    _, axes = plt.subplots()\n",
    "\n",
    "    axes.set_title(title)\n",
    "    if ylim is not None:\n",
    "        axes.set_ylim(*ylim)\n",
    "    axes.set_xlabel(\"Training examples\")\n",
    "    axes.set_ylabel(\"Score\")\n",
    "\n",
    "    train_sizes, train_scores, test_scores, fit_times, _ = \\\n",
    "        learning_curve(estimator, X, y, cv=cv, n_jobs=n_jobs,\n",
    "                       train_sizes=train_sizes, scoring=scoring,\n",
    "                       return_times=True)\n",
    "    train_scores_mean = np.mean(train_scores, axis=1)\n",
    "    train_scores_std = np.std(train_scores, axis=1)\n",
    "    test_scores_mean = np.mean(test_scores, axis=1)\n",
    "    test_scores_std = np.std(test_scores, axis=1)\n",
    "\n",
    "    # Plot learning curve\n",
    "    axes.grid()\n",
    "    axes.fill_between(train_sizes, train_scores_mean - train_scores_std,\n",
    "                         train_scores_mean + train_scores_std, alpha=0.1,\n",
    "                         color=\"r\")\n",
    "    axes.fill_between(train_sizes, test_scores_mean - test_scores_std,\n",
    "                         test_scores_mean + test_scores_std, alpha=0.1,\n",
    "                         color=\"g\")\n",
    "    axes.plot(train_sizes, train_scores_mean, 'o-', color=\"r\",\n",
    "                 label=\"Training score\")\n",
    "    axes.plot(train_sizes, test_scores_mean, 'o-', color=\"g\",\n",
    "                 label=\"Cross-validation score\")\n",
    "    axes.legend(loc=\"best\")\n",
    "\n",
    "    return plt"
   ]
  },
  {
   "cell_type": "markdown",
   "metadata": {},
   "source": [
    "both the cross-validation score and the training score are increasing over increasing training examples, which suggests that it might be beneficial to add more training example. on the other hand, judging by the small f1 score increase over wide range (0 to ~25000 rows) of data, the score might increase but only very slightly."
   ]
  },
  {
   "cell_type": "code",
   "execution_count": 68,
   "metadata": {},
   "outputs": [
    {
     "data": {
      "image/png": "[encoded data removed]",
      "text/plain": [
       "<Figure size 432x288 with 1 Axes>"
      ]
     },
     "metadata": {
      "needs_background": "light"
     },
     "output_type": "display_data"
    },
    {
     "name": "stdout",
     "output_type": "stream",
     "text": [
      "Wall time: 5min 24s\n"
     ]
    }
   ],
   "source": [
    "%%time\n",
    "title = r\"Learning Curves (Decision Tree Classifier)\"\n",
    "cv = ShuffleSplit(n_splits=10, test_size=0.25, random_state=0)\n",
    "plot_learning_curve_scoring(dtc_smoteENN, title, X_train_val_prep, y_train_val, #axes=axes[:, 2], ylim=(0.7, 1.01),\n",
    "                    cv=cv, scoring='f1', n_jobs=4)\n",
    "plt.show()"
   ]
  },
  {
   "cell_type": "markdown",
   "metadata": {},
   "source": [
    "### 1. Boosting with AdaboostClassifier\n",
    "\n",
    "no difference in performance between 50 estimators and 500 estimators, both give f1 score 0.65 on test set"
   ]
  },
  {
   "cell_type": "code",
   "execution_count": 69,
   "metadata": {},
   "outputs": [
    {
     "name": "stdout",
     "output_type": "stream",
     "text": [
      "Wall time: 1min 19s\n"
     ]
    },
    {
     "data": {
      "text/plain": [
       "AdaBoostClassifier(base_estimator=DecisionTreeClassifier(random_state=26),\n",
       "                   learning_rate=0.1, random_state=26)"
      ]
     },
     "execution_count": 69,
     "metadata": {},
     "output_type": "execute_result"
    }
   ],
   "source": [
    "%%time\n",
    "# tree = DecisionTreeClassifier()\n",
    "adaboost = AdaBoostClassifier(DecisionTreeClassifier(random_state=26), n_estimators=50, learning_rate=0.1, random_state=26)\n",
    "\n",
    "X_train_val_samp, y_train_val_samp = SMOTEENN(enn=EditedNearestNeighbours(sampling_strategy='majority')).fit_resample(X_train_val_prep, y_train_val)\n",
    "adaboost.fit(X_train_val_samp, y_train_val_samp)"
   ]
  },
  {
   "cell_type": "code",
   "execution_count": 70,
   "metadata": {},
   "outputs": [
    {
     "name": "stdout",
     "output_type": "stream",
     "text": [
      "adaboost\n",
      "              precision    recall  f1-score   support\n",
      "\n",
      "           0       0.84      0.50      0.62      9285\n",
      "           1       0.51      0.85      0.64      5745\n",
      "\n",
      "    accuracy                           0.63     15030\n",
      "   macro avg       0.68      0.67      0.63     15030\n",
      "weighted avg       0.72      0.63      0.63     15030\n",
      "\n"
     ]
    }
   ],
   "source": [
    "print('adaboost')\n",
    "print(classification_report(y_test, adaboost.predict(X_test_prep)))"
   ]
  },
  {
   "cell_type": "code",
   "execution_count": 71,
   "metadata": {},
   "outputs": [
    {
     "data": {
      "image/png": "[encoded data removed]",
      "text/plain": [
       "<Figure size 432x288 with 2 Axes>"
      ]
     },
     "metadata": {
      "needs_background": "light"
     },
     "output_type": "display_data"
    }
   ],
   "source": [
    "plot_confusion_matrix(adaboost, X_test_prep, y_test)\n",
    "plt.show()"
   ]
  },
  {
   "cell_type": "markdown",
   "metadata": {},
   "source": [
    "### 2. Bagging with RandomForestClassifier\n",
    "\n",
    "when we use scaling, the model performs worse than without scaling, so we stick without scaling to build the ensemble. after bagging, f1 score increases to 0.68, which is the highest of all strategies we have tried. RandomForestClassifier will be used for hyperparameter tuning."
   ]
  },
  {
   "cell_type": "code",
   "execution_count": 75,
   "metadata": {},
   "outputs": [
    {
     "name": "stderr",
     "output_type": "stream",
     "text": [
      "[Parallel(n_jobs=4)]: Using backend ThreadingBackend with 4 concurrent workers.\n",
      "[Parallel(n_jobs=4)]: Done  42 tasks      | elapsed:    3.4s\n",
      "[Parallel(n_jobs=4)]: Done  50 out of  50 | elapsed:    3.9s finished\n"
     ]
    },
    {
     "data": {
      "text/plain": [
       "Pipeline(steps=[('sampling',\n",
       "                 SMOTEENN(enn=EditedNearestNeighbours(sampling_strategy='majority'))),\n",
       "                ('tree',\n",
       "                 RandomForestClassifier(max_depth=20, n_estimators=50, n_jobs=4,\n",
       "                                        oob_score=True, random_state=26,\n",
       "                                        verbose=1))])"
      ]
     },
     "execution_count": 75,
     "metadata": {},
     "output_type": "execute_result"
    }
   ],
   "source": [
    "rfc_ = Pipeline([\n",
    "        ('sampling', SMOTEENN(enn=EditedNearestNeighbours(sampling_strategy='majority'))),\n",
    "        ('tree', RandomForestClassifier(max_depth=20, random_state=26, oob_score=True, n_estimators=50, n_jobs=4, verbose=1))\n",
    "])\n",
    "\n",
    "rfc_.fit(X_train_val_prep, y_train_val)"
   ]
  },
  {
   "cell_type": "code",
   "execution_count": 76,
   "metadata": {},
   "outputs": [
    {
     "name": "stdout",
     "output_type": "stream",
     "text": [
      "rfc\n"
     ]
    },
    {
     "name": "stderr",
     "output_type": "stream",
     "text": [
      "[Parallel(n_jobs=4)]: Using backend ThreadingBackend with 4 concurrent workers.\n"
     ]
    },
    {
     "name": "stdout",
     "output_type": "stream",
     "text": [
      "              precision    recall  f1-score   support\n",
      "\n",
      "           0       0.88      0.54      0.67      9285\n",
      "           1       0.54      0.87      0.67      5745\n",
      "\n",
      "    accuracy                           0.67     15030\n",
      "   macro avg       0.71      0.71      0.67     15030\n",
      "weighted avg       0.75      0.67      0.67     15030\n",
      "\n"
     ]
    },
    {
     "name": "stderr",
     "output_type": "stream",
     "text": [
      "[Parallel(n_jobs=4)]: Done  42 tasks      | elapsed:    0.2s\n",
      "[Parallel(n_jobs=4)]: Done  50 out of  50 | elapsed:    0.2s finished\n"
     ]
    }
   ],
   "source": [
    "print('rfc')\n",
    "print(classification_report(y_test, rfc_.predict(X_test_prep)))"
   ]
  },
  {
   "cell_type": "code",
   "execution_count": 77,
   "metadata": {},
   "outputs": [
    {
     "name": "stderr",
     "output_type": "stream",
     "text": [
      "[Parallel(n_jobs=4)]: Using backend ThreadingBackend with 4 concurrent workers.\n",
      "[Parallel(n_jobs=4)]: Done  42 tasks      | elapsed:    0.2s\n",
      "[Parallel(n_jobs=4)]: Done  50 out of  50 | elapsed:    0.2s finished\n"
     ]
    },
    {
     "data": {
      "image/png": "[encoded data removed]",
      "text/plain": [
       "<Figure size 432x288 with 2 Axes>"
      ]
     },
     "metadata": {
      "needs_background": "light"
     },
     "output_type": "display_data"
    }
   ],
   "source": [
    "plot_confusion_matrix(rfc_, X_test_prep, y_test)\n",
    "plt.show()"
   ]
  },
  {
   "cell_type": "markdown",
   "metadata": {},
   "source": [
    "We will use our model prediction to ultimately count the total heat complaints in a certain area and then choose only the area with the highest number of complaints to focus on. Thus, we want to be as confident as possible when predicting whether a building will have a heat complaint or not --> increase threshold, for example, to 0.7 to increase the precision"
   ]
  },
  {
   "cell_type": "code",
   "execution_count": 90,
   "metadata": {},
   "outputs": [
    {
     "name": "stderr",
     "output_type": "stream",
     "text": [
      "[Parallel(n_jobs=4)]: Using backend ThreadingBackend with 4 concurrent workers.\n",
      "[Parallel(n_jobs=4)]: Done  42 tasks      | elapsed:    0.0s\n",
      "[Parallel(n_jobs=4)]: Done  50 out of  50 | elapsed:    0.1s finished\n"
     ]
    },
    {
     "data": {
      "image/png": "[encoded data removed]",
      "text/plain": [
       "<Figure size 432x288 with 2 Axes>"
      ]
     },
     "metadata": {
      "needs_background": "light"
     },
     "output_type": "display_data"
    }
   ],
   "source": [
    "y_prob_rfc = rfc_.predict_proba(X_test_prep)\n",
    "y_pred_rfc = np.where(y_prob_rfc[:,1]>0.7, 1, 0)\n",
    "confusion_mat = confusion_matrix(y_test,y_pred_rfc)\n",
    "disp = ConfusionMatrixDisplay(confusion_matrix=confusion_mat, display_labels=[0,1])\n",
    "disp = disp.plot(include_values=True, cmap='viridis', ax=None, xticks_rotation='vertical')\n",
    "plt.show()"
   ]
  },
  {
   "cell_type": "code",
   "execution_count": 124,
   "metadata": {},
   "outputs": [
    {
     "name": "stdout",
     "output_type": "stream",
     "text": [
      "precision: 0.6210701330108828\n",
      "f1 score: 0.6648329423185828\n",
      "accuracy: 0.7243512974051897\n"
     ]
    }
   ],
   "source": [
    "print(f'precision: {precision_score(y_test,y_pred_rfc)}')\n",
    "print(f'f1 score: {f1_score(y_test,y_pred_rfc)}')\n",
    "print(f'accuracy: {accuracy_score(y_test,y_pred_rfc)}')"
   ]
  },
  {
   "cell_type": "code",
   "execution_count": 78,
   "metadata": {},
   "outputs": [
    {
     "data": {
      "image/png": "[encoded data removed]",
      "text/plain": [
       "<Figure size 432x288 with 1 Axes>"
      ]
     },
     "metadata": {
      "needs_background": "light"
     },
     "output_type": "display_data"
    },
    {
     "name": "stdout",
     "output_type": "stream",
     "text": [
      "Wall time: 2min\n"
     ]
    }
   ],
   "source": [
    "%%time\n",
    "title = r\"Learning Curves (Random Forest Classifier)\"\n",
    "cv = ShuffleSplit(n_splits=10, test_size=0.25, random_state=0)\n",
    "plot_learning_curve_scoring(rfc_, title, X_train_val_prep, y_train_val, #axes=axes[:, 2], ylim=(0.7, 1.01),\n",
    "                    cv=cv, scoring='f1', n_jobs=4)\n",
    "# plt.savefig('learningcurve.png', bbox_inches = 'tight')\n",
    "plt.show()"
   ]
  },
  {
   "cell_type": "code",
   "execution_count": 79,
   "metadata": {},
   "outputs": [
    {
     "data": {
      "text/plain": [
       "<Figure size 720x576 with 0 Axes>"
      ]
     },
     "metadata": {},
     "output_type": "display_data"
    },
    {
     "data": {
      "image/png": "[encoded data removed]",
      "text/plain": [
       "<Figure size 432x288 with 1 Axes>"
      ]
     },
     "metadata": {
      "needs_background": "light"
     },
     "output_type": "display_data"
    }
   ],
   "source": [
    "# rfc_[1].feature_importances_\n",
    "plt.figure(figsize=(10,8))\n",
    "feature_names = list(transformer.transformers_[0][1].get_feature_names())\n",
    "feature_names.extend(list(X.drop(columns=['hourbin']).columns))\n",
    "feat_imp = pd.DataFrame({'features':feature_names, 'importance':rfc_[1].feature_importances_}).set_index('features').sort_values('importance')\n",
    "feat_imp.plot.barh()\n",
    "plt.xticks(size=16)\n",
    "plt.yticks(size=16)\n",
    "plt.ylabel('features', size=16)\n",
    "# plt.savefig('featureimp.png', bbox_inches = 'tight')\n",
    "plt.show()"
   ]
  },
  {
   "cell_type": "code",
   "execution_count": 80,
   "metadata": {},
   "outputs": [],
   "source": [
    "rfc_final = Pipeline([\n",
    "        ('transfr', ColumnTransformer([\n",
    "            ('onehot', OneHotEncoder(drop='first'), ['hourbin'])\n",
    "        ], remainder='passthrough', n_jobs=4, verbose=1)),\n",
    "        ('sampling', SMOTEENN(enn=EditedNearestNeighbours(sampling_strategy='majority'))),\n",
    "        ('tree', RandomForestClassifier(max_depth=20, random_state=26, oob_score=True, n_estimators=50, n_jobs=4, verbose=1))\n",
    "])"
   ]
  },
  {
   "cell_type": "code",
   "execution_count": 125,
   "metadata": {},
   "outputs": [
    {
     "name": "stderr",
     "output_type": "stream",
     "text": [
      "[Parallel(n_jobs=4)]: Using backend ThreadingBackend with 4 concurrent workers.\n",
      "[Parallel(n_jobs=4)]: Done  42 tasks      | elapsed:    6.3s\n",
      "[Parallel(n_jobs=4)]: Done  50 out of  50 | elapsed:    7.3s finished\n"
     ]
    },
    {
     "name": "stdout",
     "output_type": "stream",
     "text": [
      "Finish\n"
     ]
    }
   ],
   "source": [
    "rfc_final.fit(X,y)\n",
    "filename = 'rfc_final.sav'\n",
    "pickle.dump(rfc_final, open(filename, 'wb'))\n",
    "print('Finish')"
   ]
  },
  {
   "cell_type": "markdown",
   "metadata": {},
   "source": [
    "### 3. Hyperparameter tuning for RandomForestClassifier\n",
    "\n",
    "the hyperparameters used are number of estimators, maximum tree depth, maximum tree features, and decision criterion.\n",
    "\n",
    "after an exhaustive process we get the supposedly best estimator and we evaluate the model on the test set. there is no difference in performance when compared with the previous RandomForestClassifier, both have f1 score of 0.68 on test set."
   ]
  },
  {
   "cell_type": "code",
   "execution_count": 83,
   "metadata": {},
   "outputs": [
    {
     "name": "stdout",
     "output_type": "stream",
     "text": [
      "Fitting 5 folds for each of 36 candidates, totalling 180 fits\n"
     ]
    },
    {
     "name": "stderr",
     "output_type": "stream",
     "text": [
      "[Parallel(n_jobs=-1)]: Using backend LokyBackend with 4 concurrent workers.\n",
      "[Parallel(n_jobs=-1)]: Done  42 tasks      | elapsed:  3.4min\n",
      "[Parallel(n_jobs=-1)]: Done 180 out of 180 | elapsed: 17.6min finished\n",
      "[Parallel(n_jobs=-1)]: Using backend ThreadingBackend with 4 concurrent workers.\n",
      "[Parallel(n_jobs=-1)]: Done  42 tasks      | elapsed:    3.1s\n",
      "[Parallel(n_jobs=-1)]: Done 150 out of 150 | elapsed:   11.1s finished\n",
      "[Parallel(n_jobs=-1)]: Using backend LokyBackend with 4 concurrent workers.\n",
      "[Parallel(n_jobs=-1)]: Done   5 out of   5 | elapsed:   51.0s finished\n"
     ]
    },
    {
     "data": {
      "text/plain": [
       "array([0.67212578, 0.66547754, 0.66452442, 0.66841846, 0.66688396])"
      ]
     },
     "execution_count": 83,
     "metadata": {},
     "output_type": "execute_result"
    }
   ],
   "source": [
    "tree_params = {\n",
    "    'tree__n_estimators': [50, 150],\n",
    "    'tree__max_depth': [10,20,30],\n",
    "    'tree__max_features': ['auto', 'sqrt', 'log2'],\n",
    "    'tree__criterion': ['gini', 'entropy']\n",
    "    }\n",
    "\n",
    "pl_rfc = Pipeline([\n",
    "        ('sampling', SMOTEENN(enn=EditedNearestNeighbours(sampling_strategy='majority'))),\n",
    "        ('tree', RandomForestClassifier(max_depth=20, random_state=26, oob_score=True, n_estimators=50, n_jobs=-1, verbose=1))\n",
    "])\n",
    "\n",
    "skf = StratifiedKFold(n_splits=5, shuffle=True, random_state=26)\n",
    "tree_grid = GridSearchCV(pl_rfc, param_grid=tree_params, scoring='f1', cv=skf, verbose=1, n_jobs=-1)\n",
    "tree_grid.fit(X_train_val_prep, y_train_val)\n",
    "\n",
    "\n",
    "\n",
    "tree_tuned = tree_grid.best_estimator_\n",
    "skf = StratifiedKFold(n_splits=5, shuffle=True, random_state=26)\n",
    "tree_tuned_score = cross_val_score(tree_tuned, X_train_val_prep, y_train_val, scoring='f1', cv=skf, n_jobs=-1, verbose=1)\n",
    "tree_tuned_score"
   ]
  },
  {
   "cell_type": "code",
   "execution_count": 84,
   "metadata": {},
   "outputs": [
    {
     "name": "stderr",
     "output_type": "stream",
     "text": [
      "[Parallel(n_jobs=-1)]: Using backend ThreadingBackend with 4 concurrent workers.\n",
      "[Parallel(n_jobs=-1)]: Done  42 tasks      | elapsed:    3.8s\n",
      "[Parallel(n_jobs=-1)]: Done 150 out of 150 | elapsed:   12.9s finished\n",
      "[Parallel(n_jobs=4)]: Using backend ThreadingBackend with 4 concurrent workers.\n",
      "[Parallel(n_jobs=4)]: Done  42 tasks      | elapsed:    0.1s\n"
     ]
    },
    {
     "name": "stdout",
     "output_type": "stream",
     "text": [
      "              precision    recall  f1-score   support\n",
      "\n",
      "           0       0.88      0.55      0.68      9285\n",
      "           1       0.55      0.88      0.67      5745\n",
      "\n",
      "    accuracy                           0.67     15030\n",
      "   macro avg       0.71      0.71      0.67     15030\n",
      "weighted avg       0.75      0.67      0.67     15030\n",
      "\n"
     ]
    },
    {
     "name": "stderr",
     "output_type": "stream",
     "text": [
      "[Parallel(n_jobs=4)]: Done 150 out of 150 | elapsed:    0.5s finished\n"
     ]
    }
   ],
   "source": [
    "tree_tuned = tree_grid.best_estimator_\n",
    "tree_tuned.fit(X_train_val_prep, y_train_val)\n",
    "print(classification_report(y_test, tree_tuned.predict(X_test_prep)))"
   ]
  },
  {
   "cell_type": "markdown",
   "metadata": {},
   "source": [
    "## Predict"
   ]
  },
  {
   "cell_type": "markdown",
   "metadata": {},
   "source": [
    "suppose we want to predict whether some building on a particular location in Bronx will send a heat complaint in the evening on October. the database for the buildings is loaded only 200000 rows."
   ]
  },
  {
   "cell_type": "code",
   "execution_count": 131,
   "metadata": {},
   "outputs": [],
   "source": [
    "# %%time\n",
    "# filename = 'comp_pluto_merged.csv'\n",
    "# random.seed(26)\n",
    "# n = sum(1 for line in open(filename)) - 1 #number of records in file (excludes header)\n",
    "# s = 20000 #desired sample size\n",
    "# skip = sorted(random.sample(range(1,n+1),n-s)) #the 0-indexed header will not be included in the skip list\n",
    "# database = pd.read_csv(filename, skiprows=skip, index_col=False)\n",
    "# # database = pd.read_csv(filename, index_col=False)\n",
    "# database = database[database.Borough == 'BX']\n",
    "# database.head()"
   ]
  },
  {
   "cell_type": "code",
   "execution_count": 132,
   "metadata": {},
   "outputs": [],
   "source": [
    "database = df.sample(20000, random_state=26)"
   ]
  },
  {
   "cell_type": "code",
   "execution_count": 133,
   "metadata": {},
   "outputs": [
    {
     "data": {
      "text/plain": [
       "25"
      ]
     },
     "execution_count": 133,
     "metadata": {},
     "output_type": "execute_result"
    }
   ],
   "source": [
    "database['ZipCode'].nunique()"
   ]
  },
  {
   "cell_type": "code",
   "execution_count": 95,
   "metadata": {},
   "outputs": [
    {
     "data": {
      "text/plain": [
       "Index(['Unnamed: 0', 'Unique Key', 'Created Date', 'Complaint Type',\n",
       "       'Incident Zip', 'Incident Address', 'Street Name', 'City', 'Status',\n",
       "       'Borough_x', 'Latitude', 'Longitude', 'hour', 'month', 'year',\n",
       "       'Borough_y', 'ZipCode', 'Address', 'LandUse', 'LotArea', 'BldgArea',\n",
       "       'ComArea', 'ResArea', 'OfficeArea', 'RetailArea', 'GarageArea',\n",
       "       'StrgeArea', 'FactryArea', 'OtherArea', 'NumBldgs', 'NumFloors',\n",
       "       'UnitsTotal', 'BldgFront', 'BldgDepth', 'LotType', 'BsmtCode',\n",
       "       'AssessTot', 'YearBuilt', 'YearAlter1', 'AlterAge',\n",
       "       'HEAT/HOT WATER_count', 'UNSANITARY CONDITION_count',\n",
       "       'PAINT/PLASTER_count', 'PLUMBING_count', 'DOOR/WINDOW_count',\n",
       "       'WATER LEAK_count', 'ELECTRIC_count', 'GENERAL_count',\n",
       "       'FLOORING/STAIRS_count', 'APPLIANCE_count', 'Heat'],\n",
       "      dtype='object')"
      ]
     },
     "execution_count": 95,
     "metadata": {},
     "output_type": "execute_result"
    }
   ],
   "source": [
    "df.columns"
   ]
  },
  {
   "cell_type": "code",
   "execution_count": 134,
   "metadata": {},
   "outputs": [
    {
     "data": {
      "text/plain": [
       "Index(['Unnamed: 0', 'Unique Key', 'Created Date', 'Complaint Type',\n",
       "       'Incident Zip', 'Incident Address', 'Street Name', 'City', 'Status',\n",
       "       'Borough_x', 'Latitude', 'Longitude', 'hour', 'month', 'year',\n",
       "       'Borough_y', 'ZipCode', 'Address', 'LandUse', 'LotArea', 'BldgArea',\n",
       "       'ComArea', 'ResArea', 'OfficeArea', 'RetailArea', 'GarageArea',\n",
       "       'StrgeArea', 'FactryArea', 'OtherArea', 'NumBldgs', 'NumFloors',\n",
       "       'UnitsTotal', 'BldgFront', 'BldgDepth', 'LotType', 'BsmtCode',\n",
       "       'AssessTot', 'YearBuilt', 'YearAlter1', 'AlterAge',\n",
       "       'HEAT/HOT WATER_count', 'UNSANITARY CONDITION_count',\n",
       "       'PAINT/PLASTER_count', 'PLUMBING_count', 'DOOR/WINDOW_count',\n",
       "       'WATER LEAK_count', 'ELECTRIC_count', 'GENERAL_count',\n",
       "       'FLOORING/STAIRS_count', 'APPLIANCE_count', 'Heat'],\n",
       "      dtype='object')"
      ]
     },
     "execution_count": 134,
     "metadata": {},
     "output_type": "execute_result"
    }
   ],
   "source": [
    "database.columns"
   ]
  },
  {
   "cell_type": "markdown",
   "metadata": {},
   "source": [
    "set the location we want to check. in this case, we set the zipcode"
   ]
  },
  {
   "cell_type": "code",
   "execution_count": 135,
   "metadata": {},
   "outputs": [
    {
     "data": {
      "text/plain": [
       "10452.0"
      ]
     },
     "execution_count": 135,
     "metadata": {},
     "output_type": "execute_result"
    }
   ],
   "source": [
    "zipcode = database.sample(1, random_state=26)['ZipCode'].values[0]\n",
    "zipcode"
   ]
  },
  {
   "cell_type": "markdown",
   "metadata": {},
   "source": [
    "in this NYC tax lot database we have loaded (only 200,000 data), there are 150 buildings in the area of zipcode 10465"
   ]
  },
  {
   "cell_type": "code",
   "execution_count": 136,
   "metadata": {},
   "outputs": [
    {
     "data": {
      "text/html": [
       "<div>\n",
       "<style scoped>\n",
       "    .dataframe tbody tr th:only-of-type {\n",
       "        vertical-align: middle;\n",
       "    }\n",
       "\n",
       "    .dataframe tbody tr th {\n",
       "        vertical-align: top;\n",
       "    }\n",
       "\n",
       "    .dataframe thead th {\n",
       "        text-align: right;\n",
       "    }\n",
       "</style>\n",
       "<table border=\"1\" class=\"dataframe\">\n",
       "  <thead>\n",
       "    <tr style=\"text-align: right;\">\n",
       "      <th></th>\n",
       "      <th>Unnamed: 0</th>\n",
       "      <th>Unique Key</th>\n",
       "      <th>Created Date</th>\n",
       "      <th>Complaint Type</th>\n",
       "      <th>Incident Zip</th>\n",
       "      <th>Incident Address</th>\n",
       "      <th>Street Name</th>\n",
       "      <th>City</th>\n",
       "      <th>Status</th>\n",
       "      <th>Borough_x</th>\n",
       "      <th>...</th>\n",
       "      <th>UNSANITARY CONDITION_count</th>\n",
       "      <th>PAINT/PLASTER_count</th>\n",
       "      <th>PLUMBING_count</th>\n",
       "      <th>DOOR/WINDOW_count</th>\n",
       "      <th>WATER LEAK_count</th>\n",
       "      <th>ELECTRIC_count</th>\n",
       "      <th>GENERAL_count</th>\n",
       "      <th>FLOORING/STAIRS_count</th>\n",
       "      <th>APPLIANCE_count</th>\n",
       "      <th>Heat</th>\n",
       "    </tr>\n",
       "  </thead>\n",
       "  <tbody>\n",
       "    <tr>\n",
       "      <th>37523</th>\n",
       "      <td>38592</td>\n",
       "      <td>39015048.0</td>\n",
       "      <td>2018-04-23 12:39:22</td>\n",
       "      <td>PAINT/PLASTER</td>\n",
       "      <td>10452.0</td>\n",
       "      <td>941 JEROME AVENUE</td>\n",
       "      <td>JEROME AVENUE</td>\n",
       "      <td>BRONX</td>\n",
       "      <td>Closed</td>\n",
       "      <td>BRONX</td>\n",
       "      <td>...</td>\n",
       "      <td>692</td>\n",
       "      <td>537</td>\n",
       "      <td>476</td>\n",
       "      <td>310</td>\n",
       "      <td>322</td>\n",
       "      <td>192</td>\n",
       "      <td>198</td>\n",
       "      <td>213</td>\n",
       "      <td>128</td>\n",
       "      <td>0</td>\n",
       "    </tr>\n",
       "    <tr>\n",
       "      <th>52497</th>\n",
       "      <td>53921</td>\n",
       "      <td>41468547.0</td>\n",
       "      <td>2019-01-16 11:50:56</td>\n",
       "      <td>HEAT/HOT WATER</td>\n",
       "      <td>10452.0</td>\n",
       "      <td>963 ANDERSON AVENUE</td>\n",
       "      <td>ANDERSON AVENUE</td>\n",
       "      <td>BRONX</td>\n",
       "      <td>Closed</td>\n",
       "      <td>BRONX</td>\n",
       "      <td>...</td>\n",
       "      <td>692</td>\n",
       "      <td>537</td>\n",
       "      <td>476</td>\n",
       "      <td>310</td>\n",
       "      <td>322</td>\n",
       "      <td>192</td>\n",
       "      <td>198</td>\n",
       "      <td>213</td>\n",
       "      <td>128</td>\n",
       "      <td>1</td>\n",
       "    </tr>\n",
       "    <tr>\n",
       "      <th>57867</th>\n",
       "      <td>59348</td>\n",
       "      <td>38793805.0</td>\n",
       "      <td>2018-03-27 11:21:01</td>\n",
       "      <td>FLOORING/STAIRS</td>\n",
       "      <td>10452.0</td>\n",
       "      <td>976 ANDERSON AVENUE</td>\n",
       "      <td>ANDERSON AVENUE</td>\n",
       "      <td>BRONX</td>\n",
       "      <td>Closed</td>\n",
       "      <td>BRONX</td>\n",
       "      <td>...</td>\n",
       "      <td>692</td>\n",
       "      <td>537</td>\n",
       "      <td>476</td>\n",
       "      <td>310</td>\n",
       "      <td>322</td>\n",
       "      <td>192</td>\n",
       "      <td>198</td>\n",
       "      <td>213</td>\n",
       "      <td>128</td>\n",
       "      <td>0</td>\n",
       "    </tr>\n",
       "    <tr>\n",
       "      <th>109844</th>\n",
       "      <td>113363</td>\n",
       "      <td>31988904.0</td>\n",
       "      <td>2015-11-13 15:45:44</td>\n",
       "      <td>HEAT/HOT WATER</td>\n",
       "      <td>10452.0</td>\n",
       "      <td>1265 NELSON AVENUE</td>\n",
       "      <td>NELSON AVENUE</td>\n",
       "      <td>BRONX</td>\n",
       "      <td>Closed</td>\n",
       "      <td>BRONX</td>\n",
       "      <td>...</td>\n",
       "      <td>692</td>\n",
       "      <td>537</td>\n",
       "      <td>476</td>\n",
       "      <td>310</td>\n",
       "      <td>322</td>\n",
       "      <td>192</td>\n",
       "      <td>198</td>\n",
       "      <td>213</td>\n",
       "      <td>128</td>\n",
       "      <td>1</td>\n",
       "    </tr>\n",
       "    <tr>\n",
       "      <th>66096</th>\n",
       "      <td>67851</td>\n",
       "      <td>33608861.0</td>\n",
       "      <td>2016-06-15 11:00:12</td>\n",
       "      <td>PAINT/PLASTER</td>\n",
       "      <td>10452.0</td>\n",
       "      <td>1072 WOODYCREST AVENUE</td>\n",
       "      <td>WOODYCREST AVENUE</td>\n",
       "      <td>BRONX</td>\n",
       "      <td>Closed</td>\n",
       "      <td>BRONX</td>\n",
       "      <td>...</td>\n",
       "      <td>692</td>\n",
       "      <td>537</td>\n",
       "      <td>476</td>\n",
       "      <td>310</td>\n",
       "      <td>322</td>\n",
       "      <td>192</td>\n",
       "      <td>198</td>\n",
       "      <td>213</td>\n",
       "      <td>128</td>\n",
       "      <td>0</td>\n",
       "    </tr>\n",
       "    <tr>\n",
       "      <th>...</th>\n",
       "      <td>...</td>\n",
       "      <td>...</td>\n",
       "      <td>...</td>\n",
       "      <td>...</td>\n",
       "      <td>...</td>\n",
       "      <td>...</td>\n",
       "      <td>...</td>\n",
       "      <td>...</td>\n",
       "      <td>...</td>\n",
       "      <td>...</td>\n",
       "      <td>...</td>\n",
       "      <td>...</td>\n",
       "      <td>...</td>\n",
       "      <td>...</td>\n",
       "      <td>...</td>\n",
       "      <td>...</td>\n",
       "      <td>...</td>\n",
       "      <td>...</td>\n",
       "      <td>...</td>\n",
       "      <td>...</td>\n",
       "      <td>...</td>\n",
       "    </tr>\n",
       "    <tr>\n",
       "      <th>93029</th>\n",
       "      <td>95932</td>\n",
       "      <td>34922458.0</td>\n",
       "      <td>2016-12-02 08:57:36</td>\n",
       "      <td>HEAT/HOT WATER</td>\n",
       "      <td>10452.0</td>\n",
       "      <td>1149 NELSON AVENUE</td>\n",
       "      <td>NELSON AVENUE</td>\n",
       "      <td>BRONX</td>\n",
       "      <td>Closed</td>\n",
       "      <td>BRONX</td>\n",
       "      <td>...</td>\n",
       "      <td>692</td>\n",
       "      <td>537</td>\n",
       "      <td>476</td>\n",
       "      <td>310</td>\n",
       "      <td>322</td>\n",
       "      <td>192</td>\n",
       "      <td>198</td>\n",
       "      <td>213</td>\n",
       "      <td>128</td>\n",
       "      <td>1</td>\n",
       "    </tr>\n",
       "    <tr>\n",
       "      <th>48195</th>\n",
       "      <td>49567</td>\n",
       "      <td>45017936.0</td>\n",
       "      <td>2019-11-25 12:19:59</td>\n",
       "      <td>UNSANITARY CONDITION</td>\n",
       "      <td>10452.0</td>\n",
       "      <td>1051 SUMMIT AVENUE</td>\n",
       "      <td>SUMMIT AVENUE</td>\n",
       "      <td>BRONX</td>\n",
       "      <td>Closed</td>\n",
       "      <td>BRONX</td>\n",
       "      <td>...</td>\n",
       "      <td>692</td>\n",
       "      <td>537</td>\n",
       "      <td>476</td>\n",
       "      <td>310</td>\n",
       "      <td>322</td>\n",
       "      <td>192</td>\n",
       "      <td>198</td>\n",
       "      <td>213</td>\n",
       "      <td>128</td>\n",
       "      <td>0</td>\n",
       "    </tr>\n",
       "    <tr>\n",
       "      <th>132814</th>\n",
       "      <td>137064</td>\n",
       "      <td>41332685.0</td>\n",
       "      <td>2019-01-02 17:03:38</td>\n",
       "      <td>HEAT/HOT WATER</td>\n",
       "      <td>10452.0</td>\n",
       "      <td>167 WEST 161 STREET</td>\n",
       "      <td>WEST  161 STREET</td>\n",
       "      <td>BRONX</td>\n",
       "      <td>Closed</td>\n",
       "      <td>BRONX</td>\n",
       "      <td>...</td>\n",
       "      <td>692</td>\n",
       "      <td>537</td>\n",
       "      <td>476</td>\n",
       "      <td>310</td>\n",
       "      <td>322</td>\n",
       "      <td>192</td>\n",
       "      <td>198</td>\n",
       "      <td>213</td>\n",
       "      <td>128</td>\n",
       "      <td>1</td>\n",
       "    </tr>\n",
       "    <tr>\n",
       "      <th>167305</th>\n",
       "      <td>172822</td>\n",
       "      <td>42512402.0</td>\n",
       "      <td>2019-02-18 10:13:16</td>\n",
       "      <td>PAINT/PLASTER</td>\n",
       "      <td>10452.0</td>\n",
       "      <td>1047 SUMMIT AVENUE</td>\n",
       "      <td>SUMMIT AVENUE</td>\n",
       "      <td>BRONX</td>\n",
       "      <td>Closed</td>\n",
       "      <td>BRONX</td>\n",
       "      <td>...</td>\n",
       "      <td>692</td>\n",
       "      <td>537</td>\n",
       "      <td>476</td>\n",
       "      <td>310</td>\n",
       "      <td>322</td>\n",
       "      <td>192</td>\n",
       "      <td>198</td>\n",
       "      <td>213</td>\n",
       "      <td>128</td>\n",
       "      <td>0</td>\n",
       "    </tr>\n",
       "    <tr>\n",
       "      <th>90399</th>\n",
       "      <td>93154</td>\n",
       "      <td>37579146.0</td>\n",
       "      <td>2017-11-01 03:00:21</td>\n",
       "      <td>HEAT/HOT WATER</td>\n",
       "      <td>10452.0</td>\n",
       "      <td>935 OGDEN AVENUE</td>\n",
       "      <td>OGDEN AVENUE</td>\n",
       "      <td>BRONX</td>\n",
       "      <td>Closed</td>\n",
       "      <td>BRONX</td>\n",
       "      <td>...</td>\n",
       "      <td>692</td>\n",
       "      <td>537</td>\n",
       "      <td>476</td>\n",
       "      <td>310</td>\n",
       "      <td>322</td>\n",
       "      <td>192</td>\n",
       "      <td>198</td>\n",
       "      <td>213</td>\n",
       "      <td>128</td>\n",
       "      <td>1</td>\n",
       "    </tr>\n",
       "  </tbody>\n",
       "</table>\n",
       "<p>344 rows × 51 columns</p>\n",
       "</div>"
      ],
      "text/plain": [
       "        Unnamed: 0  Unique Key         Created Date        Complaint Type  \\\n",
       "37523        38592  39015048.0  2018-04-23 12:39:22         PAINT/PLASTER   \n",
       "52497        53921  41468547.0  2019-01-16 11:50:56        HEAT/HOT WATER   \n",
       "57867        59348  38793805.0  2018-03-27 11:21:01       FLOORING/STAIRS   \n",
       "109844      113363  31988904.0  2015-11-13 15:45:44        HEAT/HOT WATER   \n",
       "66096        67851  33608861.0  2016-06-15 11:00:12         PAINT/PLASTER   \n",
       "...            ...         ...                  ...                   ...   \n",
       "93029        95932  34922458.0  2016-12-02 08:57:36        HEAT/HOT WATER   \n",
       "48195        49567  45017936.0  2019-11-25 12:19:59  UNSANITARY CONDITION   \n",
       "132814      137064  41332685.0  2019-01-02 17:03:38        HEAT/HOT WATER   \n",
       "167305      172822  42512402.0  2019-02-18 10:13:16         PAINT/PLASTER   \n",
       "90399        93154  37579146.0  2017-11-01 03:00:21        HEAT/HOT WATER   \n",
       "\n",
       "        Incident Zip        Incident Address        Street Name   City  \\\n",
       "37523        10452.0       941 JEROME AVENUE      JEROME AVENUE  BRONX   \n",
       "52497        10452.0     963 ANDERSON AVENUE    ANDERSON AVENUE  BRONX   \n",
       "57867        10452.0     976 ANDERSON AVENUE    ANDERSON AVENUE  BRONX   \n",
       "109844       10452.0      1265 NELSON AVENUE      NELSON AVENUE  BRONX   \n",
       "66096        10452.0  1072 WOODYCREST AVENUE  WOODYCREST AVENUE  BRONX   \n",
       "...              ...                     ...                ...    ...   \n",
       "93029        10452.0      1149 NELSON AVENUE      NELSON AVENUE  BRONX   \n",
       "48195        10452.0      1051 SUMMIT AVENUE      SUMMIT AVENUE  BRONX   \n",
       "132814       10452.0     167 WEST 161 STREET   WEST  161 STREET  BRONX   \n",
       "167305       10452.0      1047 SUMMIT AVENUE      SUMMIT AVENUE  BRONX   \n",
       "90399        10452.0        935 OGDEN AVENUE       OGDEN AVENUE  BRONX   \n",
       "\n",
       "        Status Borough_x  ...  UNSANITARY CONDITION_count  \\\n",
       "37523   Closed     BRONX  ...                         692   \n",
       "52497   Closed     BRONX  ...                         692   \n",
       "57867   Closed     BRONX  ...                         692   \n",
       "109844  Closed     BRONX  ...                         692   \n",
       "66096   Closed     BRONX  ...                         692   \n",
       "...        ...       ...  ...                         ...   \n",
       "93029   Closed     BRONX  ...                         692   \n",
       "48195   Closed     BRONX  ...                         692   \n",
       "132814  Closed     BRONX  ...                         692   \n",
       "167305  Closed     BRONX  ...                         692   \n",
       "90399   Closed     BRONX  ...                         692   \n",
       "\n",
       "        PAINT/PLASTER_count  PLUMBING_count  DOOR/WINDOW_count  \\\n",
       "37523                   537             476                310   \n",
       "52497                   537             476                310   \n",
       "57867                   537             476                310   \n",
       "109844                  537             476                310   \n",
       "66096                   537             476                310   \n",
       "...                     ...             ...                ...   \n",
       "93029                   537             476                310   \n",
       "48195                   537             476                310   \n",
       "132814                  537             476                310   \n",
       "167305                  537             476                310   \n",
       "90399                   537             476                310   \n",
       "\n",
       "        WATER LEAK_count ELECTRIC_count  GENERAL_count FLOORING/STAIRS_count  \\\n",
       "37523                322            192            198                   213   \n",
       "52497                322            192            198                   213   \n",
       "57867                322            192            198                   213   \n",
       "109844               322            192            198                   213   \n",
       "66096                322            192            198                   213   \n",
       "...                  ...            ...            ...                   ...   \n",
       "93029                322            192            198                   213   \n",
       "48195                322            192            198                   213   \n",
       "132814               322            192            198                   213   \n",
       "167305               322            192            198                   213   \n",
       "90399                322            192            198                   213   \n",
       "\n",
       "        APPLIANCE_count  Heat  \n",
       "37523               128     0  \n",
       "52497               128     1  \n",
       "57867               128     0  \n",
       "109844              128     1  \n",
       "66096               128     0  \n",
       "...                 ...   ...  \n",
       "93029               128     1  \n",
       "48195               128     0  \n",
       "132814              128     1  \n",
       "167305              128     0  \n",
       "90399               128     1  \n",
       "\n",
       "[344 rows x 51 columns]"
      ]
     },
     "execution_count": 136,
     "metadata": {},
     "output_type": "execute_result"
    }
   ],
   "source": [
    "zipcodedf = database[database.ZipCode == zipcode].drop_duplicates('Incident Address')\n",
    "zipcodedf"
   ]
  },
  {
   "cell_type": "code",
   "execution_count": 137,
   "metadata": {},
   "outputs": [
    {
     "data": {
      "text/plain": [
       "Index(['OfficeArea', 'GarageArea', 'StrgeArea', 'OtherArea', 'BldgArea',\n",
       "       'ResArea', 'NumFloors', 'UnitsTotal', 'AssessTot', 'bldgperlot'],\n",
       "      dtype='object')"
      ]
     },
     "execution_count": 137,
     "metadata": {},
     "output_type": "execute_result"
    }
   ],
   "source": [
    "X.drop(columns=['hourbin', 'month']).columns"
   ]
  },
  {
   "cell_type": "code",
   "execution_count": 138,
   "metadata": {},
   "outputs": [
    {
     "name": "stderr",
     "output_type": "stream",
     "text": [
      "C:\\Users\\azuka\\anaconda3-1\\envs\\py38\\lib\\site-packages\\pandas\\core\\indexing.py:1596: SettingWithCopyWarning: \n",
      "A value is trying to be set on a copy of a slice from a DataFrame.\n",
      "Try using .loc[row_indexer,col_indexer] = value instead\n",
      "\n",
      "See the caveats in the documentation: https://pandas.pydata.org/pandas-docs/stable/user_guide/indexing.html#returning-a-view-versus-a-copy\n",
      "  self.obj[key] = _infer_fill_value(value)\n",
      "C:\\Users\\azuka\\anaconda3-1\\envs\\py38\\lib\\site-packages\\pandas\\core\\indexing.py:1765: SettingWithCopyWarning: \n",
      "A value is trying to be set on a copy of a slice from a DataFrame.\n",
      "Try using .loc[row_indexer,col_indexer] = value instead\n",
      "\n",
      "See the caveats in the documentation: https://pandas.pydata.org/pandas-docs/stable/user_guide/indexing.html#returning-a-view-versus-a-copy\n",
      "  isetter(loc, value)\n"
     ]
    },
    {
     "data": {
      "text/plain": [
       "(344, 12)"
      ]
     },
     "execution_count": 138,
     "metadata": {},
     "output_type": "execute_result"
    }
   ],
   "source": [
    "zipcodedf.loc[:,'bldgperlot'] = zipcodedf['BldgArea']/zipcodedf['LotArea']\n",
    "zipcodedf_X = zipcodedf[list(X.drop(columns=['hourbin', 'month']).columns)]\n",
    "zipcodedf_X.loc[:,'hourbin'] = 'evening'\n",
    "zipcodedf_X.loc[:,'month'] = 1\n",
    "zipcodedf_X.shape"
   ]
  },
  {
   "cell_type": "code",
   "execution_count": 139,
   "metadata": {},
   "outputs": [
    {
     "data": {
      "text/plain": [
       "Index(['month', 'OfficeArea', 'GarageArea', 'StrgeArea', 'OtherArea',\n",
       "       'BldgArea', 'ResArea', 'NumFloors', 'UnitsTotal', 'AssessTot',\n",
       "       'hourbin', 'bldgperlot'],\n",
       "      dtype='object')"
      ]
     },
     "execution_count": 139,
     "metadata": {},
     "output_type": "execute_result"
    }
   ],
   "source": [
    "used_cols = X.columns\n",
    "used_cols"
   ]
  },
  {
   "cell_type": "code",
   "execution_count": 140,
   "metadata": {},
   "outputs": [
    {
     "data": {
      "text/plain": [
       "Index(['OfficeArea', 'GarageArea', 'StrgeArea', 'OtherArea', 'BldgArea',\n",
       "       'ResArea', 'NumFloors', 'UnitsTotal', 'AssessTot', 'bldgperlot',\n",
       "       'hourbin', 'month'],\n",
       "      dtype='object')"
      ]
     },
     "execution_count": 140,
     "metadata": {},
     "output_type": "execute_result"
    }
   ],
   "source": [
    "zipcodedf_X.columns"
   ]
  },
  {
   "cell_type": "code",
   "execution_count": 141,
   "metadata": {},
   "outputs": [],
   "source": [
    "filename = 'rfc_final.sav'\n",
    "loaded_model = pickle.load((open(filename, 'rb')))"
   ]
  },
  {
   "cell_type": "code",
   "execution_count": 142,
   "metadata": {},
   "outputs": [
    {
     "data": {
      "text/plain": [
       "Pipeline(steps=[('transfr',\n",
       "                 ColumnTransformer(n_jobs=4, remainder='passthrough',\n",
       "                                   transformers=[('onehot',\n",
       "                                                  OneHotEncoder(drop='first'),\n",
       "                                                  ['hourbin'])],\n",
       "                                   verbose=1)),\n",
       "                ('sampling',\n",
       "                 SMOTEENN(enn=EditedNearestNeighbours(sampling_strategy='majority'))),\n",
       "                ('tree',\n",
       "                 RandomForestClassifier(max_depth=20, n_estimators=50, n_jobs=4,\n",
       "                                        oob_score=True, random_state=26,\n",
       "                                        verbose=1))])"
      ]
     },
     "execution_count": 142,
     "metadata": {},
     "output_type": "execute_result"
    }
   ],
   "source": [
    "loaded_model"
   ]
  },
  {
   "cell_type": "code",
   "execution_count": 143,
   "metadata": {},
   "outputs": [
    {
     "data": {
      "text/plain": [
       "(344, 12)"
      ]
     },
     "execution_count": 143,
     "metadata": {},
     "output_type": "execute_result"
    }
   ],
   "source": [
    "zipcodedf_X.shape"
   ]
  },
  {
   "cell_type": "code",
   "execution_count": 144,
   "metadata": {},
   "outputs": [
    {
     "name": "stderr",
     "output_type": "stream",
     "text": [
      "[Parallel(n_jobs=4)]: Using backend ThreadingBackend with 4 concurrent workers.\n",
      "[Parallel(n_jobs=4)]: Done  42 tasks      | elapsed:    0.1s\n",
      "[Parallel(n_jobs=4)]: Done  50 out of  50 | elapsed:    0.1s finished\n"
     ]
    },
    {
     "data": {
      "text/plain": [
       "269"
      ]
     },
     "execution_count": 144,
     "metadata": {},
     "output_type": "execute_result"
    }
   ],
   "source": [
    "y_proba = loaded_model.predict_proba(zipcodedf_X[used_cols])\n",
    "y_pred = np.where(y_proba[:,1]>0.7, 1, 0)\n",
    "# y_pred = loaded_model.predict(zipcodedf_X[used_cols])\n",
    "total_heat = y_pred.sum()\n",
    "total_heat"
   ]
  },
  {
   "cell_type": "markdown",
   "metadata": {},
   "source": [
    "According to our model, in the evening of a day in January in the area with zipcode 10452 there are 269 heat complaints from total 344 buildings"
   ]
  },
  {
   "cell_type": "markdown",
   "metadata": {},
   "source": [
    "## Conclusion\n",
    "\n",
    "we have built a predictive model that predicts the type of complaint sent to the NYC 311 Service Call based on several avalaible tax lot information. a baseline model was build with a decision tree classifier with a single decision level. this baseline model had f1 score of 0.44. we then built a benchmark model with a decision tree classifier which scored 0.58 then performed cross-validation with several strategies such as scaling, feature selection, and scaling. the best model was a decision tree classifier with combined oversampling and undersampling strategy. the model was improved by bagging with total estimators of 50 and maximum tree depth of 20. the final model scored 0.68 on the test set.\n",
    "\n",
    "based on previous results, our model still suffers from overfitting since it scored high on train set but low on test set. our model only used 10 features from the total available building characteristic features of ~20-30. addition of traiing samples might improve the performance but only slightly. using different features combined with feature engineering might improve the model performance."
   ]
  },
  {
   "cell_type": "code",
   "execution_count": null,
   "metadata": {},
   "outputs": [],
   "source": []
  }
 ],
 "metadata": {
  "kernelspec": {
   "display_name": "py38",
   "language": "python",
   "name": "py38"
  },
  "language_info": {
   "codemirror_mode": {
    "name": "ipython",
    "version": 3
   },
   "file_extension": ".py",
   "mimetype": "text/x-python",
   "name": "python",
   "nbconvert_exporter": "python",
   "pygments_lexer": "ipython3",
   "version": "3.8.5"
  }
 },
 "nbformat": 4,
 "nbformat_minor": 4
}
